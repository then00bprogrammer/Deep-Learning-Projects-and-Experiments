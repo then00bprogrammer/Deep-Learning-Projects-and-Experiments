{
  "cells": [
    {
      "cell_type": "markdown",
      "metadata": {
        "id": "view-in-github",
        "colab_type": "text"
      },
      "source": [
        "<a href=\"https://colab.research.google.com/github/then00bprogrammer/Deep-Learning-Projects-and-Experiments/blob/main/Transfer_Learning_02.ipynb\" target=\"_parent\"><img src=\"https://colab.research.google.com/assets/colab-badge.svg\" alt=\"Open In Colab\"/></a>"
      ]
    },
    {
      "cell_type": "markdown",
      "metadata": {
        "id": "cC92W_RFNEMZ"
      },
      "source": [
        "#Transfer Learning Part 2: Fine-Tuning\n",
        "In the previous notebook, we covered Transfer Learning feature extraction, now it's time to learn about a new kind of transfer learning: fine-tuning"
      ]
    },
    {
      "cell_type": "code",
      "execution_count": null,
      "metadata": {
        "colab": {
          "background_save": true,
          "base_uri": "https://localhost:8080/"
        },
        "id": "rzmsEUFMPIof",
        "outputId": "cab4c6e1-324f-4668-e077-42bcbb4a4d61"
      },
      "outputs": [
        {
          "name": "stdout",
          "output_type": "stream",
          "text": [
            "Thu Sep 29 11:48:22 2022       \n",
            "+-----------------------------------------------------------------------------+\n",
            "| NVIDIA-SMI 460.32.03    Driver Version: 460.32.03    CUDA Version: 11.2     |\n",
            "|-------------------------------+----------------------+----------------------+\n",
            "| GPU  Name        Persistence-M| Bus-Id        Disp.A | Volatile Uncorr. ECC |\n",
            "| Fan  Temp  Perf  Pwr:Usage/Cap|         Memory-Usage | GPU-Util  Compute M. |\n",
            "|                               |                      |               MIG M. |\n",
            "|===============================+======================+======================|\n",
            "|   0  Tesla T4            Off  | 00000000:00:04.0 Off |                    0 |\n",
            "| N/A   49C    P8     9W /  70W |      0MiB / 15109MiB |      0%      Default |\n",
            "|                               |                      |                  N/A |\n",
            "+-------------------------------+----------------------+----------------------+\n",
            "                                                                               \n",
            "+-----------------------------------------------------------------------------+\n",
            "| Processes:                                                                  |\n",
            "|  GPU   GI   CI        PID   Type   Process name                  GPU Memory |\n",
            "|        ID   ID                                                   Usage      |\n",
            "|=============================================================================|\n",
            "|  No running processes found                                                 |\n",
            "+-----------------------------------------------------------------------------+\n"
          ]
        }
      ],
      "source": [
        "#Check if we're using a GPU\n",
        "!nvidia-smi"
      ]
    },
    {
      "cell_type": "markdown",
      "metadata": {
        "id": "ARQ2X5sVPSE_"
      },
      "source": [
        "##Creating helper functions\n",
        "In previous notebooks, we've created a bunch of helper functions, now we could rewrite them all, however, that is tedious.\n",
        "\n",
        "So it's a good idea to put functions you'll want to use again in a script you can download and import into your notebooks or elsewhere.\n",
        "\n",
        "We've done this for some of the functions we've used previously here: https://raw.githubusercontent.com/mrdbourke/tensorflow-deep-learning/main/extras/helper_functions.py"
      ]
    },
    {
      "cell_type": "code",
      "execution_count": null,
      "metadata": {
        "colab": {
          "base_uri": "https://localhost:8080/"
        },
        "id": "bTlLpybNPq6t",
        "outputId": "6fce67d3-7e32-4ab6-eac8-395261db97b4"
      },
      "outputs": [
        {
          "name": "stdout",
          "output_type": "stream",
          "text": [
            "--2022-09-28 12:25:13--  https://raw.githubusercontent.com/mrdbourke/tensorflow-deep-learning/main/extras/helper_functions.py\n",
            "Resolving raw.githubusercontent.com (raw.githubusercontent.com)... 185.199.108.133, 185.199.109.133, 185.199.110.133, ...\n",
            "Connecting to raw.githubusercontent.com (raw.githubusercontent.com)|185.199.108.133|:443... connected.\n",
            "HTTP request sent, awaiting response... 200 OK\n",
            "Length: 10246 (10K) [text/plain]\n",
            "Saving to: ‘helper_functions.py’\n",
            "\n",
            "helper_functions.py 100%[===================>]  10.01K  --.-KB/s    in 0s      \n",
            "\n",
            "2022-09-28 12:25:13 (48.5 MB/s) - ‘helper_functions.py’ saved [10246/10246]\n",
            "\n"
          ]
        }
      ],
      "source": [
        "!wget https://raw.githubusercontent.com/mrdbourke/tensorflow-deep-learning/main/extras/helper_functions.py"
      ]
    },
    {
      "cell_type": "code",
      "execution_count": null,
      "metadata": {
        "id": "Hn04hd9vQRb3"
      },
      "outputs": [],
      "source": [
        "#Import helper functions we're going to use in this noteboook\n",
        "from helper_functions import create_tensorboard_callback, plot_loss_curves, unzip_data, walk_through_dir"
      ]
    },
    {
      "cell_type": "markdown",
      "metadata": {
        "id": "QOPXGxyERUXQ"
      },
      "source": [
        "> 🔑 **Note:** If you're running this notebook in Google Colab. when it times out Colab will delete `helper_functions.py`, so you'll have to redownload it if you want to access your helper functions."
      ]
    },
    {
      "cell_type": "markdown",
      "metadata": {
        "id": "4XThC4i0Q69F"
      },
      "source": [
        "##Let's get some data\n",
        "\n",
        "This time we're going to see how we can use pretrained models within `tf.keras.applications` and apply them to our problem (recongnizing images of food)."
      ]
    },
    {
      "cell_type": "code",
      "execution_count": null,
      "metadata": {
        "colab": {
          "base_uri": "https://localhost:8080/"
        },
        "id": "Ru8Zd2VCSc3u",
        "outputId": "471f04ae-dc6d-4b99-d97c-ffba95e89942"
      },
      "outputs": [
        {
          "name": "stdout",
          "output_type": "stream",
          "text": [
            "--2022-09-28 12:25:16--  https://storage.googleapis.com/ztm_tf_course/food_vision/10_food_classes_10_percent.zip\n",
            "Resolving storage.googleapis.com (storage.googleapis.com)... 74.125.69.128, 64.233.183.128, 173.194.194.128, ...\n",
            "Connecting to storage.googleapis.com (storage.googleapis.com)|74.125.69.128|:443... connected.\n",
            "HTTP request sent, awaiting response... 200 OK\n",
            "Length: 168546183 (161M) [application/zip]\n",
            "Saving to: ‘10_food_classes_10_percent.zip’\n",
            "\n",
            "10_food_classes_10_ 100%[===================>] 160.74M   186MB/s    in 0.9s    \n",
            "\n",
            "2022-09-28 12:25:17 (186 MB/s) - ‘10_food_classes_10_percent.zip’ saved [168546183/168546183]\n",
            "\n"
          ]
        }
      ],
      "source": [
        "!wget https://storage.googleapis.com/ztm_tf_course/food_vision/10_food_classes_10_percent.zip\n",
        "\n",
        "unzip_data(\"10_food_classes_10_percent.zip\")"
      ]
    },
    {
      "cell_type": "code",
      "execution_count": null,
      "metadata": {
        "colab": {
          "base_uri": "https://localhost:8080/"
        },
        "id": "iH0KRKKiStWE",
        "outputId": "b94dd2c1-1c89-4d7d-8de3-2b4c048c5e7c"
      },
      "outputs": [
        {
          "name": "stdout",
          "output_type": "stream",
          "text": [
            "There are 2 directories and 0 images in '10_food_classes_10_percent'.\n",
            "There are 10 directories and 0 images in '10_food_classes_10_percent/test'.\n",
            "There are 0 directories and 250 images in '10_food_classes_10_percent/test/steak'.\n",
            "There are 0 directories and 250 images in '10_food_classes_10_percent/test/chicken_wings'.\n",
            "There are 0 directories and 250 images in '10_food_classes_10_percent/test/ice_cream'.\n",
            "There are 0 directories and 250 images in '10_food_classes_10_percent/test/pizza'.\n",
            "There are 0 directories and 250 images in '10_food_classes_10_percent/test/ramen'.\n",
            "There are 0 directories and 250 images in '10_food_classes_10_percent/test/chicken_curry'.\n",
            "There are 0 directories and 250 images in '10_food_classes_10_percent/test/hamburger'.\n",
            "There are 0 directories and 250 images in '10_food_classes_10_percent/test/fried_rice'.\n",
            "There are 0 directories and 250 images in '10_food_classes_10_percent/test/grilled_salmon'.\n",
            "There are 0 directories and 250 images in '10_food_classes_10_percent/test/sushi'.\n",
            "There are 10 directories and 0 images in '10_food_classes_10_percent/train'.\n",
            "There are 0 directories and 75 images in '10_food_classes_10_percent/train/steak'.\n",
            "There are 0 directories and 75 images in '10_food_classes_10_percent/train/chicken_wings'.\n",
            "There are 0 directories and 75 images in '10_food_classes_10_percent/train/ice_cream'.\n",
            "There are 0 directories and 75 images in '10_food_classes_10_percent/train/pizza'.\n",
            "There are 0 directories and 75 images in '10_food_classes_10_percent/train/ramen'.\n",
            "There are 0 directories and 75 images in '10_food_classes_10_percent/train/chicken_curry'.\n",
            "There are 0 directories and 75 images in '10_food_classes_10_percent/train/hamburger'.\n",
            "There are 0 directories and 75 images in '10_food_classes_10_percent/train/fried_rice'.\n",
            "There are 0 directories and 75 images in '10_food_classes_10_percent/train/grilled_salmon'.\n",
            "There are 0 directories and 75 images in '10_food_classes_10_percent/train/sushi'.\n"
          ]
        }
      ],
      "source": [
        "#Check out how many images and subdirectories are in our dataset\n",
        "walk_through_dir(\"10_food_classes_10_percent\")"
      ]
    },
    {
      "cell_type": "code",
      "execution_count": null,
      "metadata": {
        "id": "V5UkKiDQTIhV"
      },
      "outputs": [],
      "source": [
        "#Create training and test directory paths\n",
        "train_dir = \"10_food_classes_10_percent/train\"\n",
        "test_dir = \"10_food_classes_10_percent/test\""
      ]
    },
    {
      "cell_type": "code",
      "execution_count": null,
      "metadata": {
        "colab": {
          "base_uri": "https://localhost:8080/"
        },
        "id": "acqryzXGUC0C",
        "outputId": "5db0d6f0-f974-4a7d-847e-c9fae73dfb19"
      },
      "outputs": [
        {
          "name": "stdout",
          "output_type": "stream",
          "text": [
            "Found 750 files belonging to 10 classes.\n",
            "Found 2500 files belonging to 10 classes.\n"
          ]
        }
      ],
      "source": [
        "import tensorflow as tf\n",
        "IMG_SIZE = (224,224)\n",
        "BATCH_SIZE = 32\n",
        "train_data_10_percent = tf.keras.preprocessing.image_dataset_from_directory(\n",
        "    directory=train_dir,\n",
        "    image_size=IMG_SIZE,\n",
        "    label_mode=\"categorical\",\n",
        "    batch_size=BATCH_SIZE\n",
        ")\n",
        "\n",
        "test_data_10_percent = tf.keras.preprocessing.image_dataset_from_directory(\n",
        "    directory=test_dir,\n",
        "    image_size=IMG_SIZE,\n",
        "    label_mode=\"categorical\",\n",
        "    batch_size=BATCH_SIZE\n",
        ")"
      ]
    },
    {
      "cell_type": "code",
      "execution_count": null,
      "metadata": {
        "colab": {
          "base_uri": "https://localhost:8080/"
        },
        "id": "wn-qJTo-WYWv",
        "outputId": "26c19dcd-3d2a-491d-bae3-585a779cdd38"
      },
      "outputs": [
        {
          "data": {
            "text/plain": [
              "<BatchDataset element_spec=(TensorSpec(shape=(None, 224, 224, 3), dtype=tf.float32, name=None), TensorSpec(shape=(None, 10), dtype=tf.float32, name=None))>"
            ]
          },
          "execution_count": 8,
          "metadata": {},
          "output_type": "execute_result"
        }
      ],
      "source": [
        "train_data_10_percent"
      ]
    },
    {
      "cell_type": "code",
      "execution_count": null,
      "metadata": {
        "colab": {
          "base_uri": "https://localhost:8080/"
        },
        "id": "MjYzTv_vWeVG",
        "outputId": "fbd5a65f-db8a-44ee-8abf-65765bba2967"
      },
      "outputs": [
        {
          "data": {
            "text/plain": [
              "['chicken_curry',\n",
              " 'chicken_wings',\n",
              " 'fried_rice',\n",
              " 'grilled_salmon',\n",
              " 'hamburger',\n",
              " 'ice_cream',\n",
              " 'pizza',\n",
              " 'ramen',\n",
              " 'steak',\n",
              " 'sushi']"
            ]
          },
          "execution_count": 9,
          "metadata": {},
          "output_type": "execute_result"
        }
      ],
      "source": [
        "#Check out the class names of our dataset\n",
        "train_data_10_percent.class_names"
      ]
    },
    {
      "cell_type": "markdown",
      "metadata": {
        "id": "5slzWRmkW8bA"
      },
      "source": [
        "##Model 0: Building a transfer learning model using Keras Functional API\n",
        "\n",
        "The sequential API is straight-forward, it runs our layers in sequential order.\n",
        "\n",
        "But the functional API gives us more flexibility with out models."
      ]
    },
    {
      "cell_type": "code",
      "execution_count": null,
      "metadata": {
        "colab": {
          "base_uri": "https://localhost:8080/"
        },
        "id": "6Xeqe8lYcg8u",
        "outputId": "a801ab1d-2c06-48b2-b003-9d5a5b809a79"
      },
      "outputs": [
        {
          "name": "stdout",
          "output_type": "stream",
          "text": [
            "Downloading data from https://storage.googleapis.com/keras-applications/efficientnetb0_notop.h5\n",
            "16711680/16705208 [==============================] - 0s 0us/step\n",
            "16719872/16705208 [==============================] - 0s 0us/step\n",
            "Shape after passing inputs through base model: (None, 7, 7, 1280)\n",
            "Shape after GloablAveragePooling2D: (None, 1280)\n",
            "Saving TensorBoard log files to: transfer_learning/10_percent_feature_extraction/20220928-122524\n",
            "Epoch 1/5\n",
            "24/24 [==============================] - 115s 4s/step - loss: 1.9694 - accuracy: 0.4000 - val_loss: 1.3574 - val_accuracy: 0.7122\n",
            "Epoch 2/5\n",
            "24/24 [==============================] - 93s 4s/step - loss: 1.1797 - accuracy: 0.7480 - val_loss: 0.9133 - val_accuracy: 0.8174\n",
            "Epoch 3/5\n",
            "24/24 [==============================] - 101s 4s/step - loss: 0.8699 - accuracy: 0.8000 - val_loss: 0.7302 - val_accuracy: 0.8438\n",
            "Epoch 4/5\n",
            "24/24 [==============================] - 98s 4s/step - loss: 0.6916 - accuracy: 0.8440 - val_loss: 0.6351 - val_accuracy: 0.8520\n",
            "Epoch 5/5\n",
            "24/24 [==============================] - 138s 6s/step - loss: 0.5972 - accuracy: 0.8653 - val_loss: 0.5728 - val_accuracy: 0.8618\n"
          ]
        }
      ],
      "source": [
        "#1. Create base model with tf.keras.applications\n",
        "\n",
        "base_model = tf.keras.applications.efficientnet.EfficientNetB0(include_top=False)\n",
        "\n",
        "#Freeze the base model (so the underlying pre-trained patterns aren't updated during training)\n",
        "base_model.trainable=False\n",
        "\n",
        "#3. Create inputs into our model\n",
        "inputs = tf.keras.layers.Input(shape=IMG_SIZE+(3,),name=\"input_layer\")\n",
        " \n",
        "#4. If using Resnet50V2 you will need to normalize inputs\n",
        "x = tf.keras.layers.experimental.preprocessing.Rescaling(1./255)(inputs)\n",
        "\n",
        "#5. Pass the inputs to the base_model\n",
        "x = base_model(inputs)\n",
        "print(f\"Shape after passing inputs through base model: {x.shape}\")\n",
        "\n",
        "#6. Average pool  the outputs of the base model (aggregate all the most important information, reduce number of computations)\n",
        "x = tf.keras.layers.GlobalAveragePooling2D(name=\"gloabl_average_pooling_layer\")(x)\n",
        "print(f\"Shape after GloablAveragePooling2D: {x.shape}\")\n",
        "\n",
        "#7. Create the output activaiton layer\n",
        "outputs = tf.keras.layers.Dense(10,activation=\"softmax\",name=\"output_layer\")(x)\n",
        "\n",
        "#8. Combine the inputs with the outputs into a model\n",
        "model_0 = tf.keras.Model(inputs,outputs)\n",
        "\n",
        "#9. Compile the model\n",
        "model_0.compile(\n",
        "    loss=tf.keras.losses.categorical_crossentropy,\n",
        "    optimizer=tf.keras.optimizers.Adam(),\n",
        "    metrics=[\"accuracy\"]\n",
        ")\n",
        "#10. Fit the model and save its history\n",
        "history_0=model_0.fit(train_data_10_percent,\n",
        "                      epochs=5,\n",
        "                      steps_per_epoch=len(train_data_10_percent),\n",
        "                      validation_data=test_data_10_percent,\n",
        "                      validation_steps=int(0.25*len(test_data_10_percent)),\n",
        "                      callbacks=[create_tensorboard_callback(dir_name=\"transfer_learning\",\n",
        "                                                             experiment_name=\"10_percent_feature_extraction\")])\n"
      ]
    },
    {
      "cell_type": "code",
      "execution_count": null,
      "metadata": {
        "colab": {
          "base_uri": "https://localhost:8080/"
        },
        "id": "38kqNao_hEKf",
        "outputId": "b0806cec-f280-48d6-93e1-de315ba308a9"
      },
      "outputs": [
        {
          "name": "stdout",
          "output_type": "stream",
          "text": [
            "79/79 [==============================] - 161s 2s/step - loss: 0.6026 - accuracy: 0.8424\n"
          ]
        },
        {
          "data": {
            "text/plain": [
              "[0.6025769114494324, 0.8424000144004822]"
            ]
          },
          "execution_count": 11,
          "metadata": {},
          "output_type": "execute_result"
        }
      ],
      "source": [
        "#Evaluate on the full test dataset\n",
        "model_0.evaluate(test_data_10_percent)"
      ]
    },
    {
      "cell_type": "code",
      "execution_count": null,
      "metadata": {
        "colab": {
          "base_uri": "https://localhost:8080/"
        },
        "id": "A4d3P7Nsjhbj",
        "outputId": "5c0b2559-990f-4589-c623-caa675f3d5a4"
      },
      "outputs": [
        {
          "name": "stdout",
          "output_type": "stream",
          "text": [
            "0 input_1\n",
            "1 rescaling\n",
            "2 normalization\n",
            "3 stem_conv_pad\n",
            "4 stem_conv\n",
            "5 stem_bn\n",
            "6 stem_activation\n",
            "7 block1a_dwconv\n",
            "8 block1a_bn\n",
            "9 block1a_activation\n",
            "10 block1a_se_squeeze\n",
            "11 block1a_se_reshape\n",
            "12 block1a_se_reduce\n",
            "13 block1a_se_expand\n",
            "14 block1a_se_excite\n",
            "15 block1a_project_conv\n",
            "16 block1a_project_bn\n",
            "17 block2a_expand_conv\n",
            "18 block2a_expand_bn\n",
            "19 block2a_expand_activation\n",
            "20 block2a_dwconv_pad\n",
            "21 block2a_dwconv\n",
            "22 block2a_bn\n",
            "23 block2a_activation\n",
            "24 block2a_se_squeeze\n",
            "25 block2a_se_reshape\n",
            "26 block2a_se_reduce\n",
            "27 block2a_se_expand\n",
            "28 block2a_se_excite\n",
            "29 block2a_project_conv\n",
            "30 block2a_project_bn\n",
            "31 block2b_expand_conv\n",
            "32 block2b_expand_bn\n",
            "33 block2b_expand_activation\n",
            "34 block2b_dwconv\n",
            "35 block2b_bn\n",
            "36 block2b_activation\n",
            "37 block2b_se_squeeze\n",
            "38 block2b_se_reshape\n",
            "39 block2b_se_reduce\n",
            "40 block2b_se_expand\n",
            "41 block2b_se_excite\n",
            "42 block2b_project_conv\n",
            "43 block2b_project_bn\n",
            "44 block2b_drop\n",
            "45 block2b_add\n",
            "46 block3a_expand_conv\n",
            "47 block3a_expand_bn\n",
            "48 block3a_expand_activation\n",
            "49 block3a_dwconv_pad\n",
            "50 block3a_dwconv\n",
            "51 block3a_bn\n",
            "52 block3a_activation\n",
            "53 block3a_se_squeeze\n",
            "54 block3a_se_reshape\n",
            "55 block3a_se_reduce\n",
            "56 block3a_se_expand\n",
            "57 block3a_se_excite\n",
            "58 block3a_project_conv\n",
            "59 block3a_project_bn\n",
            "60 block3b_expand_conv\n",
            "61 block3b_expand_bn\n",
            "62 block3b_expand_activation\n",
            "63 block3b_dwconv\n",
            "64 block3b_bn\n",
            "65 block3b_activation\n",
            "66 block3b_se_squeeze\n",
            "67 block3b_se_reshape\n",
            "68 block3b_se_reduce\n",
            "69 block3b_se_expand\n",
            "70 block3b_se_excite\n",
            "71 block3b_project_conv\n",
            "72 block3b_project_bn\n",
            "73 block3b_drop\n",
            "74 block3b_add\n",
            "75 block4a_expand_conv\n",
            "76 block4a_expand_bn\n",
            "77 block4a_expand_activation\n",
            "78 block4a_dwconv_pad\n",
            "79 block4a_dwconv\n",
            "80 block4a_bn\n",
            "81 block4a_activation\n",
            "82 block4a_se_squeeze\n",
            "83 block4a_se_reshape\n",
            "84 block4a_se_reduce\n",
            "85 block4a_se_expand\n",
            "86 block4a_se_excite\n",
            "87 block4a_project_conv\n",
            "88 block4a_project_bn\n",
            "89 block4b_expand_conv\n",
            "90 block4b_expand_bn\n",
            "91 block4b_expand_activation\n",
            "92 block4b_dwconv\n",
            "93 block4b_bn\n",
            "94 block4b_activation\n",
            "95 block4b_se_squeeze\n",
            "96 block4b_se_reshape\n",
            "97 block4b_se_reduce\n",
            "98 block4b_se_expand\n",
            "99 block4b_se_excite\n",
            "100 block4b_project_conv\n",
            "101 block4b_project_bn\n",
            "102 block4b_drop\n",
            "103 block4b_add\n",
            "104 block4c_expand_conv\n",
            "105 block4c_expand_bn\n",
            "106 block4c_expand_activation\n",
            "107 block4c_dwconv\n",
            "108 block4c_bn\n",
            "109 block4c_activation\n",
            "110 block4c_se_squeeze\n",
            "111 block4c_se_reshape\n",
            "112 block4c_se_reduce\n",
            "113 block4c_se_expand\n",
            "114 block4c_se_excite\n",
            "115 block4c_project_conv\n",
            "116 block4c_project_bn\n",
            "117 block4c_drop\n",
            "118 block4c_add\n",
            "119 block5a_expand_conv\n",
            "120 block5a_expand_bn\n",
            "121 block5a_expand_activation\n",
            "122 block5a_dwconv\n",
            "123 block5a_bn\n",
            "124 block5a_activation\n",
            "125 block5a_se_squeeze\n",
            "126 block5a_se_reshape\n",
            "127 block5a_se_reduce\n",
            "128 block5a_se_expand\n",
            "129 block5a_se_excite\n",
            "130 block5a_project_conv\n",
            "131 block5a_project_bn\n",
            "132 block5b_expand_conv\n",
            "133 block5b_expand_bn\n",
            "134 block5b_expand_activation\n",
            "135 block5b_dwconv\n",
            "136 block5b_bn\n",
            "137 block5b_activation\n",
            "138 block5b_se_squeeze\n",
            "139 block5b_se_reshape\n",
            "140 block5b_se_reduce\n",
            "141 block5b_se_expand\n",
            "142 block5b_se_excite\n",
            "143 block5b_project_conv\n",
            "144 block5b_project_bn\n",
            "145 block5b_drop\n",
            "146 block5b_add\n",
            "147 block5c_expand_conv\n",
            "148 block5c_expand_bn\n",
            "149 block5c_expand_activation\n",
            "150 block5c_dwconv\n",
            "151 block5c_bn\n",
            "152 block5c_activation\n",
            "153 block5c_se_squeeze\n",
            "154 block5c_se_reshape\n",
            "155 block5c_se_reduce\n",
            "156 block5c_se_expand\n",
            "157 block5c_se_excite\n",
            "158 block5c_project_conv\n",
            "159 block5c_project_bn\n",
            "160 block5c_drop\n",
            "161 block5c_add\n",
            "162 block6a_expand_conv\n",
            "163 block6a_expand_bn\n",
            "164 block6a_expand_activation\n",
            "165 block6a_dwconv_pad\n",
            "166 block6a_dwconv\n",
            "167 block6a_bn\n",
            "168 block6a_activation\n",
            "169 block6a_se_squeeze\n",
            "170 block6a_se_reshape\n",
            "171 block6a_se_reduce\n",
            "172 block6a_se_expand\n",
            "173 block6a_se_excite\n",
            "174 block6a_project_conv\n",
            "175 block6a_project_bn\n",
            "176 block6b_expand_conv\n",
            "177 block6b_expand_bn\n",
            "178 block6b_expand_activation\n",
            "179 block6b_dwconv\n",
            "180 block6b_bn\n",
            "181 block6b_activation\n",
            "182 block6b_se_squeeze\n",
            "183 block6b_se_reshape\n",
            "184 block6b_se_reduce\n",
            "185 block6b_se_expand\n",
            "186 block6b_se_excite\n",
            "187 block6b_project_conv\n",
            "188 block6b_project_bn\n",
            "189 block6b_drop\n",
            "190 block6b_add\n",
            "191 block6c_expand_conv\n",
            "192 block6c_expand_bn\n",
            "193 block6c_expand_activation\n",
            "194 block6c_dwconv\n",
            "195 block6c_bn\n",
            "196 block6c_activation\n",
            "197 block6c_se_squeeze\n",
            "198 block6c_se_reshape\n",
            "199 block6c_se_reduce\n",
            "200 block6c_se_expand\n",
            "201 block6c_se_excite\n",
            "202 block6c_project_conv\n",
            "203 block6c_project_bn\n",
            "204 block6c_drop\n",
            "205 block6c_add\n",
            "206 block6d_expand_conv\n",
            "207 block6d_expand_bn\n",
            "208 block6d_expand_activation\n",
            "209 block6d_dwconv\n",
            "210 block6d_bn\n",
            "211 block6d_activation\n",
            "212 block6d_se_squeeze\n",
            "213 block6d_se_reshape\n",
            "214 block6d_se_reduce\n",
            "215 block6d_se_expand\n",
            "216 block6d_se_excite\n",
            "217 block6d_project_conv\n",
            "218 block6d_project_bn\n",
            "219 block6d_drop\n",
            "220 block6d_add\n",
            "221 block7a_expand_conv\n",
            "222 block7a_expand_bn\n",
            "223 block7a_expand_activation\n",
            "224 block7a_dwconv\n",
            "225 block7a_bn\n",
            "226 block7a_activation\n",
            "227 block7a_se_squeeze\n",
            "228 block7a_se_reshape\n",
            "229 block7a_se_reduce\n",
            "230 block7a_se_expand\n",
            "231 block7a_se_excite\n",
            "232 block7a_project_conv\n",
            "233 block7a_project_bn\n",
            "234 top_conv\n",
            "235 top_bn\n",
            "236 top_activation\n"
          ]
        }
      ],
      "source": [
        "#Check the layers in our base model\n",
        "for layer_number, layer in enumerate(base_model.layers):\n",
        "  print(layer_number, layer.name)"
      ]
    },
    {
      "cell_type": "code",
      "execution_count": null,
      "metadata": {
        "colab": {
          "base_uri": "https://localhost:8080/"
        },
        "id": "efyMYzZhj9Tc",
        "outputId": "07a2a5b8-3f1d-4b3a-ecc5-6888e4ae9018"
      },
      "outputs": [
        {
          "name": "stdout",
          "output_type": "stream",
          "text": [
            "Model: \"efficientnetb0\"\n",
            "__________________________________________________________________________________________________\n",
            " Layer (type)                   Output Shape         Param #     Connected to                     \n",
            "==================================================================================================\n",
            " input_1 (InputLayer)           [(None, None, None,  0           []                               \n",
            "                                 3)]                                                              \n",
            "                                                                                                  \n",
            " rescaling (Rescaling)          (None, None, None,   0           ['input_1[0][0]']                \n",
            "                                3)                                                                \n",
            "                                                                                                  \n",
            " normalization (Normalization)  (None, None, None,   7           ['rescaling[0][0]']              \n",
            "                                3)                                                                \n",
            "                                                                                                  \n",
            " stem_conv_pad (ZeroPadding2D)  (None, None, None,   0           ['normalization[0][0]']          \n",
            "                                3)                                                                \n",
            "                                                                                                  \n",
            " stem_conv (Conv2D)             (None, None, None,   864         ['stem_conv_pad[0][0]']          \n",
            "                                32)                                                               \n",
            "                                                                                                  \n",
            " stem_bn (BatchNormalization)   (None, None, None,   128         ['stem_conv[0][0]']              \n",
            "                                32)                                                               \n",
            "                                                                                                  \n",
            " stem_activation (Activation)   (None, None, None,   0           ['stem_bn[0][0]']                \n",
            "                                32)                                                               \n",
            "                                                                                                  \n",
            " block1a_dwconv (DepthwiseConv2  (None, None, None,   288        ['stem_activation[0][0]']        \n",
            " D)                             32)                                                               \n",
            "                                                                                                  \n",
            " block1a_bn (BatchNormalization  (None, None, None,   128        ['block1a_dwconv[0][0]']         \n",
            " )                              32)                                                               \n",
            "                                                                                                  \n",
            " block1a_activation (Activation  (None, None, None,   0          ['block1a_bn[0][0]']             \n",
            " )                              32)                                                               \n",
            "                                                                                                  \n",
            " block1a_se_squeeze (GlobalAver  (None, 32)          0           ['block1a_activation[0][0]']     \n",
            " agePooling2D)                                                                                    \n",
            "                                                                                                  \n",
            " block1a_se_reshape (Reshape)   (None, 1, 1, 32)     0           ['block1a_se_squeeze[0][0]']     \n",
            "                                                                                                  \n",
            " block1a_se_reduce (Conv2D)     (None, 1, 1, 8)      264         ['block1a_se_reshape[0][0]']     \n",
            "                                                                                                  \n",
            " block1a_se_expand (Conv2D)     (None, 1, 1, 32)     288         ['block1a_se_reduce[0][0]']      \n",
            "                                                                                                  \n",
            " block1a_se_excite (Multiply)   (None, None, None,   0           ['block1a_activation[0][0]',     \n",
            "                                32)                               'block1a_se_expand[0][0]']      \n",
            "                                                                                                  \n",
            " block1a_project_conv (Conv2D)  (None, None, None,   512         ['block1a_se_excite[0][0]']      \n",
            "                                16)                                                               \n",
            "                                                                                                  \n",
            " block1a_project_bn (BatchNorma  (None, None, None,   64         ['block1a_project_conv[0][0]']   \n",
            " lization)                      16)                                                               \n",
            "                                                                                                  \n",
            " block2a_expand_conv (Conv2D)   (None, None, None,   1536        ['block1a_project_bn[0][0]']     \n",
            "                                96)                                                               \n",
            "                                                                                                  \n",
            " block2a_expand_bn (BatchNormal  (None, None, None,   384        ['block2a_expand_conv[0][0]']    \n",
            " ization)                       96)                                                               \n",
            "                                                                                                  \n",
            " block2a_expand_activation (Act  (None, None, None,   0          ['block2a_expand_bn[0][0]']      \n",
            " ivation)                       96)                                                               \n",
            "                                                                                                  \n",
            " block2a_dwconv_pad (ZeroPaddin  (None, None, None,   0          ['block2a_expand_activation[0][0]\n",
            " g2D)                           96)                              ']                               \n",
            "                                                                                                  \n",
            " block2a_dwconv (DepthwiseConv2  (None, None, None,   864        ['block2a_dwconv_pad[0][0]']     \n",
            " D)                             96)                                                               \n",
            "                                                                                                  \n",
            " block2a_bn (BatchNormalization  (None, None, None,   384        ['block2a_dwconv[0][0]']         \n",
            " )                              96)                                                               \n",
            "                                                                                                  \n",
            " block2a_activation (Activation  (None, None, None,   0          ['block2a_bn[0][0]']             \n",
            " )                              96)                                                               \n",
            "                                                                                                  \n",
            " block2a_se_squeeze (GlobalAver  (None, 96)          0           ['block2a_activation[0][0]']     \n",
            " agePooling2D)                                                                                    \n",
            "                                                                                                  \n",
            " block2a_se_reshape (Reshape)   (None, 1, 1, 96)     0           ['block2a_se_squeeze[0][0]']     \n",
            "                                                                                                  \n",
            " block2a_se_reduce (Conv2D)     (None, 1, 1, 4)      388         ['block2a_se_reshape[0][0]']     \n",
            "                                                                                                  \n",
            " block2a_se_expand (Conv2D)     (None, 1, 1, 96)     480         ['block2a_se_reduce[0][0]']      \n",
            "                                                                                                  \n",
            " block2a_se_excite (Multiply)   (None, None, None,   0           ['block2a_activation[0][0]',     \n",
            "                                96)                               'block2a_se_expand[0][0]']      \n",
            "                                                                                                  \n",
            " block2a_project_conv (Conv2D)  (None, None, None,   2304        ['block2a_se_excite[0][0]']      \n",
            "                                24)                                                               \n",
            "                                                                                                  \n",
            " block2a_project_bn (BatchNorma  (None, None, None,   96         ['block2a_project_conv[0][0]']   \n",
            " lization)                      24)                                                               \n",
            "                                                                                                  \n",
            " block2b_expand_conv (Conv2D)   (None, None, None,   3456        ['block2a_project_bn[0][0]']     \n",
            "                                144)                                                              \n",
            "                                                                                                  \n",
            " block2b_expand_bn (BatchNormal  (None, None, None,   576        ['block2b_expand_conv[0][0]']    \n",
            " ization)                       144)                                                              \n",
            "                                                                                                  \n",
            " block2b_expand_activation (Act  (None, None, None,   0          ['block2b_expand_bn[0][0]']      \n",
            " ivation)                       144)                                                              \n",
            "                                                                                                  \n",
            " block2b_dwconv (DepthwiseConv2  (None, None, None,   1296       ['block2b_expand_activation[0][0]\n",
            " D)                             144)                             ']                               \n",
            "                                                                                                  \n",
            " block2b_bn (BatchNormalization  (None, None, None,   576        ['block2b_dwconv[0][0]']         \n",
            " )                              144)                                                              \n",
            "                                                                                                  \n",
            " block2b_activation (Activation  (None, None, None,   0          ['block2b_bn[0][0]']             \n",
            " )                              144)                                                              \n",
            "                                                                                                  \n",
            " block2b_se_squeeze (GlobalAver  (None, 144)         0           ['block2b_activation[0][0]']     \n",
            " agePooling2D)                                                                                    \n",
            "                                                                                                  \n",
            " block2b_se_reshape (Reshape)   (None, 1, 1, 144)    0           ['block2b_se_squeeze[0][0]']     \n",
            "                                                                                                  \n",
            " block2b_se_reduce (Conv2D)     (None, 1, 1, 6)      870         ['block2b_se_reshape[0][0]']     \n",
            "                                                                                                  \n",
            " block2b_se_expand (Conv2D)     (None, 1, 1, 144)    1008        ['block2b_se_reduce[0][0]']      \n",
            "                                                                                                  \n",
            " block2b_se_excite (Multiply)   (None, None, None,   0           ['block2b_activation[0][0]',     \n",
            "                                144)                              'block2b_se_expand[0][0]']      \n",
            "                                                                                                  \n",
            " block2b_project_conv (Conv2D)  (None, None, None,   3456        ['block2b_se_excite[0][0]']      \n",
            "                                24)                                                               \n",
            "                                                                                                  \n",
            " block2b_project_bn (BatchNorma  (None, None, None,   96         ['block2b_project_conv[0][0]']   \n",
            " lization)                      24)                                                               \n",
            "                                                                                                  \n",
            " block2b_drop (Dropout)         (None, None, None,   0           ['block2b_project_bn[0][0]']     \n",
            "                                24)                                                               \n",
            "                                                                                                  \n",
            " block2b_add (Add)              (None, None, None,   0           ['block2b_drop[0][0]',           \n",
            "                                24)                               'block2a_project_bn[0][0]']     \n",
            "                                                                                                  \n",
            " block3a_expand_conv (Conv2D)   (None, None, None,   3456        ['block2b_add[0][0]']            \n",
            "                                144)                                                              \n",
            "                                                                                                  \n",
            " block3a_expand_bn (BatchNormal  (None, None, None,   576        ['block3a_expand_conv[0][0]']    \n",
            " ization)                       144)                                                              \n",
            "                                                                                                  \n",
            " block3a_expand_activation (Act  (None, None, None,   0          ['block3a_expand_bn[0][0]']      \n",
            " ivation)                       144)                                                              \n",
            "                                                                                                  \n",
            " block3a_dwconv_pad (ZeroPaddin  (None, None, None,   0          ['block3a_expand_activation[0][0]\n",
            " g2D)                           144)                             ']                               \n",
            "                                                                                                  \n",
            " block3a_dwconv (DepthwiseConv2  (None, None, None,   3600       ['block3a_dwconv_pad[0][0]']     \n",
            " D)                             144)                                                              \n",
            "                                                                                                  \n",
            " block3a_bn (BatchNormalization  (None, None, None,   576        ['block3a_dwconv[0][0]']         \n",
            " )                              144)                                                              \n",
            "                                                                                                  \n",
            " block3a_activation (Activation  (None, None, None,   0          ['block3a_bn[0][0]']             \n",
            " )                              144)                                                              \n",
            "                                                                                                  \n",
            " block3a_se_squeeze (GlobalAver  (None, 144)         0           ['block3a_activation[0][0]']     \n",
            " agePooling2D)                                                                                    \n",
            "                                                                                                  \n",
            " block3a_se_reshape (Reshape)   (None, 1, 1, 144)    0           ['block3a_se_squeeze[0][0]']     \n",
            "                                                                                                  \n",
            " block3a_se_reduce (Conv2D)     (None, 1, 1, 6)      870         ['block3a_se_reshape[0][0]']     \n",
            "                                                                                                  \n",
            " block3a_se_expand (Conv2D)     (None, 1, 1, 144)    1008        ['block3a_se_reduce[0][0]']      \n",
            "                                                                                                  \n",
            " block3a_se_excite (Multiply)   (None, None, None,   0           ['block3a_activation[0][0]',     \n",
            "                                144)                              'block3a_se_expand[0][0]']      \n",
            "                                                                                                  \n",
            " block3a_project_conv (Conv2D)  (None, None, None,   5760        ['block3a_se_excite[0][0]']      \n",
            "                                40)                                                               \n",
            "                                                                                                  \n",
            " block3a_project_bn (BatchNorma  (None, None, None,   160        ['block3a_project_conv[0][0]']   \n",
            " lization)                      40)                                                               \n",
            "                                                                                                  \n",
            " block3b_expand_conv (Conv2D)   (None, None, None,   9600        ['block3a_project_bn[0][0]']     \n",
            "                                240)                                                              \n",
            "                                                                                                  \n",
            " block3b_expand_bn (BatchNormal  (None, None, None,   960        ['block3b_expand_conv[0][0]']    \n",
            " ization)                       240)                                                              \n",
            "                                                                                                  \n",
            " block3b_expand_activation (Act  (None, None, None,   0          ['block3b_expand_bn[0][0]']      \n",
            " ivation)                       240)                                                              \n",
            "                                                                                                  \n",
            " block3b_dwconv (DepthwiseConv2  (None, None, None,   6000       ['block3b_expand_activation[0][0]\n",
            " D)                             240)                             ']                               \n",
            "                                                                                                  \n",
            " block3b_bn (BatchNormalization  (None, None, None,   960        ['block3b_dwconv[0][0]']         \n",
            " )                              240)                                                              \n",
            "                                                                                                  \n",
            " block3b_activation (Activation  (None, None, None,   0          ['block3b_bn[0][0]']             \n",
            " )                              240)                                                              \n",
            "                                                                                                  \n",
            " block3b_se_squeeze (GlobalAver  (None, 240)         0           ['block3b_activation[0][0]']     \n",
            " agePooling2D)                                                                                    \n",
            "                                                                                                  \n",
            " block3b_se_reshape (Reshape)   (None, 1, 1, 240)    0           ['block3b_se_squeeze[0][0]']     \n",
            "                                                                                                  \n",
            " block3b_se_reduce (Conv2D)     (None, 1, 1, 10)     2410        ['block3b_se_reshape[0][0]']     \n",
            "                                                                                                  \n",
            " block3b_se_expand (Conv2D)     (None, 1, 1, 240)    2640        ['block3b_se_reduce[0][0]']      \n",
            "                                                                                                  \n",
            " block3b_se_excite (Multiply)   (None, None, None,   0           ['block3b_activation[0][0]',     \n",
            "                                240)                              'block3b_se_expand[0][0]']      \n",
            "                                                                                                  \n",
            " block3b_project_conv (Conv2D)  (None, None, None,   9600        ['block3b_se_excite[0][0]']      \n",
            "                                40)                                                               \n",
            "                                                                                                  \n",
            " block3b_project_bn (BatchNorma  (None, None, None,   160        ['block3b_project_conv[0][0]']   \n",
            " lization)                      40)                                                               \n",
            "                                                                                                  \n",
            " block3b_drop (Dropout)         (None, None, None,   0           ['block3b_project_bn[0][0]']     \n",
            "                                40)                                                               \n",
            "                                                                                                  \n",
            " block3b_add (Add)              (None, None, None,   0           ['block3b_drop[0][0]',           \n",
            "                                40)                               'block3a_project_bn[0][0]']     \n",
            "                                                                                                  \n",
            " block4a_expand_conv (Conv2D)   (None, None, None,   9600        ['block3b_add[0][0]']            \n",
            "                                240)                                                              \n",
            "                                                                                                  \n",
            " block4a_expand_bn (BatchNormal  (None, None, None,   960        ['block4a_expand_conv[0][0]']    \n",
            " ization)                       240)                                                              \n",
            "                                                                                                  \n",
            " block4a_expand_activation (Act  (None, None, None,   0          ['block4a_expand_bn[0][0]']      \n",
            " ivation)                       240)                                                              \n",
            "                                                                                                  \n",
            " block4a_dwconv_pad (ZeroPaddin  (None, None, None,   0          ['block4a_expand_activation[0][0]\n",
            " g2D)                           240)                             ']                               \n",
            "                                                                                                  \n",
            " block4a_dwconv (DepthwiseConv2  (None, None, None,   2160       ['block4a_dwconv_pad[0][0]']     \n",
            " D)                             240)                                                              \n",
            "                                                                                                  \n",
            " block4a_bn (BatchNormalization  (None, None, None,   960        ['block4a_dwconv[0][0]']         \n",
            " )                              240)                                                              \n",
            "                                                                                                  \n",
            " block4a_activation (Activation  (None, None, None,   0          ['block4a_bn[0][0]']             \n",
            " )                              240)                                                              \n",
            "                                                                                                  \n",
            " block4a_se_squeeze (GlobalAver  (None, 240)         0           ['block4a_activation[0][0]']     \n",
            " agePooling2D)                                                                                    \n",
            "                                                                                                  \n",
            " block4a_se_reshape (Reshape)   (None, 1, 1, 240)    0           ['block4a_se_squeeze[0][0]']     \n",
            "                                                                                                  \n",
            " block4a_se_reduce (Conv2D)     (None, 1, 1, 10)     2410        ['block4a_se_reshape[0][0]']     \n",
            "                                                                                                  \n",
            " block4a_se_expand (Conv2D)     (None, 1, 1, 240)    2640        ['block4a_se_reduce[0][0]']      \n",
            "                                                                                                  \n",
            " block4a_se_excite (Multiply)   (None, None, None,   0           ['block4a_activation[0][0]',     \n",
            "                                240)                              'block4a_se_expand[0][0]']      \n",
            "                                                                                                  \n",
            " block4a_project_conv (Conv2D)  (None, None, None,   19200       ['block4a_se_excite[0][0]']      \n",
            "                                80)                                                               \n",
            "                                                                                                  \n",
            " block4a_project_bn (BatchNorma  (None, None, None,   320        ['block4a_project_conv[0][0]']   \n",
            " lization)                      80)                                                               \n",
            "                                                                                                  \n",
            " block4b_expand_conv (Conv2D)   (None, None, None,   38400       ['block4a_project_bn[0][0]']     \n",
            "                                480)                                                              \n",
            "                                                                                                  \n",
            " block4b_expand_bn (BatchNormal  (None, None, None,   1920       ['block4b_expand_conv[0][0]']    \n",
            " ization)                       480)                                                              \n",
            "                                                                                                  \n",
            " block4b_expand_activation (Act  (None, None, None,   0          ['block4b_expand_bn[0][0]']      \n",
            " ivation)                       480)                                                              \n",
            "                                                                                                  \n",
            " block4b_dwconv (DepthwiseConv2  (None, None, None,   4320       ['block4b_expand_activation[0][0]\n",
            " D)                             480)                             ']                               \n",
            "                                                                                                  \n",
            " block4b_bn (BatchNormalization  (None, None, None,   1920       ['block4b_dwconv[0][0]']         \n",
            " )                              480)                                                              \n",
            "                                                                                                  \n",
            " block4b_activation (Activation  (None, None, None,   0          ['block4b_bn[0][0]']             \n",
            " )                              480)                                                              \n",
            "                                                                                                  \n",
            " block4b_se_squeeze (GlobalAver  (None, 480)         0           ['block4b_activation[0][0]']     \n",
            " agePooling2D)                                                                                    \n",
            "                                                                                                  \n",
            " block4b_se_reshape (Reshape)   (None, 1, 1, 480)    0           ['block4b_se_squeeze[0][0]']     \n",
            "                                                                                                  \n",
            " block4b_se_reduce (Conv2D)     (None, 1, 1, 20)     9620        ['block4b_se_reshape[0][0]']     \n",
            "                                                                                                  \n",
            " block4b_se_expand (Conv2D)     (None, 1, 1, 480)    10080       ['block4b_se_reduce[0][0]']      \n",
            "                                                                                                  \n",
            " block4b_se_excite (Multiply)   (None, None, None,   0           ['block4b_activation[0][0]',     \n",
            "                                480)                              'block4b_se_expand[0][0]']      \n",
            "                                                                                                  \n",
            " block4b_project_conv (Conv2D)  (None, None, None,   38400       ['block4b_se_excite[0][0]']      \n",
            "                                80)                                                               \n",
            "                                                                                                  \n",
            " block4b_project_bn (BatchNorma  (None, None, None,   320        ['block4b_project_conv[0][0]']   \n",
            " lization)                      80)                                                               \n",
            "                                                                                                  \n",
            " block4b_drop (Dropout)         (None, None, None,   0           ['block4b_project_bn[0][0]']     \n",
            "                                80)                                                               \n",
            "                                                                                                  \n",
            " block4b_add (Add)              (None, None, None,   0           ['block4b_drop[0][0]',           \n",
            "                                80)                               'block4a_project_bn[0][0]']     \n",
            "                                                                                                  \n",
            " block4c_expand_conv (Conv2D)   (None, None, None,   38400       ['block4b_add[0][0]']            \n",
            "                                480)                                                              \n",
            "                                                                                                  \n",
            " block4c_expand_bn (BatchNormal  (None, None, None,   1920       ['block4c_expand_conv[0][0]']    \n",
            " ization)                       480)                                                              \n",
            "                                                                                                  \n",
            " block4c_expand_activation (Act  (None, None, None,   0          ['block4c_expand_bn[0][0]']      \n",
            " ivation)                       480)                                                              \n",
            "                                                                                                  \n",
            " block4c_dwconv (DepthwiseConv2  (None, None, None,   4320       ['block4c_expand_activation[0][0]\n",
            " D)                             480)                             ']                               \n",
            "                                                                                                  \n",
            " block4c_bn (BatchNormalization  (None, None, None,   1920       ['block4c_dwconv[0][0]']         \n",
            " )                              480)                                                              \n",
            "                                                                                                  \n",
            " block4c_activation (Activation  (None, None, None,   0          ['block4c_bn[0][0]']             \n",
            " )                              480)                                                              \n",
            "                                                                                                  \n",
            " block4c_se_squeeze (GlobalAver  (None, 480)         0           ['block4c_activation[0][0]']     \n",
            " agePooling2D)                                                                                    \n",
            "                                                                                                  \n",
            " block4c_se_reshape (Reshape)   (None, 1, 1, 480)    0           ['block4c_se_squeeze[0][0]']     \n",
            "                                                                                                  \n",
            " block4c_se_reduce (Conv2D)     (None, 1, 1, 20)     9620        ['block4c_se_reshape[0][0]']     \n",
            "                                                                                                  \n",
            " block4c_se_expand (Conv2D)     (None, 1, 1, 480)    10080       ['block4c_se_reduce[0][0]']      \n",
            "                                                                                                  \n",
            " block4c_se_excite (Multiply)   (None, None, None,   0           ['block4c_activation[0][0]',     \n",
            "                                480)                              'block4c_se_expand[0][0]']      \n",
            "                                                                                                  \n",
            " block4c_project_conv (Conv2D)  (None, None, None,   38400       ['block4c_se_excite[0][0]']      \n",
            "                                80)                                                               \n",
            "                                                                                                  \n",
            " block4c_project_bn (BatchNorma  (None, None, None,   320        ['block4c_project_conv[0][0]']   \n",
            " lization)                      80)                                                               \n",
            "                                                                                                  \n",
            " block4c_drop (Dropout)         (None, None, None,   0           ['block4c_project_bn[0][0]']     \n",
            "                                80)                                                               \n",
            "                                                                                                  \n",
            " block4c_add (Add)              (None, None, None,   0           ['block4c_drop[0][0]',           \n",
            "                                80)                               'block4b_add[0][0]']            \n",
            "                                                                                                  \n",
            " block5a_expand_conv (Conv2D)   (None, None, None,   38400       ['block4c_add[0][0]']            \n",
            "                                480)                                                              \n",
            "                                                                                                  \n",
            " block5a_expand_bn (BatchNormal  (None, None, None,   1920       ['block5a_expand_conv[0][0]']    \n",
            " ization)                       480)                                                              \n",
            "                                                                                                  \n",
            " block5a_expand_activation (Act  (None, None, None,   0          ['block5a_expand_bn[0][0]']      \n",
            " ivation)                       480)                                                              \n",
            "                                                                                                  \n",
            " block5a_dwconv (DepthwiseConv2  (None, None, None,   12000      ['block5a_expand_activation[0][0]\n",
            " D)                             480)                             ']                               \n",
            "                                                                                                  \n",
            " block5a_bn (BatchNormalization  (None, None, None,   1920       ['block5a_dwconv[0][0]']         \n",
            " )                              480)                                                              \n",
            "                                                                                                  \n",
            " block5a_activation (Activation  (None, None, None,   0          ['block5a_bn[0][0]']             \n",
            " )                              480)                                                              \n",
            "                                                                                                  \n",
            " block5a_se_squeeze (GlobalAver  (None, 480)         0           ['block5a_activation[0][0]']     \n",
            " agePooling2D)                                                                                    \n",
            "                                                                                                  \n",
            " block5a_se_reshape (Reshape)   (None, 1, 1, 480)    0           ['block5a_se_squeeze[0][0]']     \n",
            "                                                                                                  \n",
            " block5a_se_reduce (Conv2D)     (None, 1, 1, 20)     9620        ['block5a_se_reshape[0][0]']     \n",
            "                                                                                                  \n",
            " block5a_se_expand (Conv2D)     (None, 1, 1, 480)    10080       ['block5a_se_reduce[0][0]']      \n",
            "                                                                                                  \n",
            " block5a_se_excite (Multiply)   (None, None, None,   0           ['block5a_activation[0][0]',     \n",
            "                                480)                              'block5a_se_expand[0][0]']      \n",
            "                                                                                                  \n",
            " block5a_project_conv (Conv2D)  (None, None, None,   53760       ['block5a_se_excite[0][0]']      \n",
            "                                112)                                                              \n",
            "                                                                                                  \n",
            " block5a_project_bn (BatchNorma  (None, None, None,   448        ['block5a_project_conv[0][0]']   \n",
            " lization)                      112)                                                              \n",
            "                                                                                                  \n",
            " block5b_expand_conv (Conv2D)   (None, None, None,   75264       ['block5a_project_bn[0][0]']     \n",
            "                                672)                                                              \n",
            "                                                                                                  \n",
            " block5b_expand_bn (BatchNormal  (None, None, None,   2688       ['block5b_expand_conv[0][0]']    \n",
            " ization)                       672)                                                              \n",
            "                                                                                                  \n",
            " block5b_expand_activation (Act  (None, None, None,   0          ['block5b_expand_bn[0][0]']      \n",
            " ivation)                       672)                                                              \n",
            "                                                                                                  \n",
            " block5b_dwconv (DepthwiseConv2  (None, None, None,   16800      ['block5b_expand_activation[0][0]\n",
            " D)                             672)                             ']                               \n",
            "                                                                                                  \n",
            " block5b_bn (BatchNormalization  (None, None, None,   2688       ['block5b_dwconv[0][0]']         \n",
            " )                              672)                                                              \n",
            "                                                                                                  \n",
            " block5b_activation (Activation  (None, None, None,   0          ['block5b_bn[0][0]']             \n",
            " )                              672)                                                              \n",
            "                                                                                                  \n",
            " block5b_se_squeeze (GlobalAver  (None, 672)         0           ['block5b_activation[0][0]']     \n",
            " agePooling2D)                                                                                    \n",
            "                                                                                                  \n",
            " block5b_se_reshape (Reshape)   (None, 1, 1, 672)    0           ['block5b_se_squeeze[0][0]']     \n",
            "                                                                                                  \n",
            " block5b_se_reduce (Conv2D)     (None, 1, 1, 28)     18844       ['block5b_se_reshape[0][0]']     \n",
            "                                                                                                  \n",
            " block5b_se_expand (Conv2D)     (None, 1, 1, 672)    19488       ['block5b_se_reduce[0][0]']      \n",
            "                                                                                                  \n",
            " block5b_se_excite (Multiply)   (None, None, None,   0           ['block5b_activation[0][0]',     \n",
            "                                672)                              'block5b_se_expand[0][0]']      \n",
            "                                                                                                  \n",
            " block5b_project_conv (Conv2D)  (None, None, None,   75264       ['block5b_se_excite[0][0]']      \n",
            "                                112)                                                              \n",
            "                                                                                                  \n",
            " block5b_project_bn (BatchNorma  (None, None, None,   448        ['block5b_project_conv[0][0]']   \n",
            " lization)                      112)                                                              \n",
            "                                                                                                  \n",
            " block5b_drop (Dropout)         (None, None, None,   0           ['block5b_project_bn[0][0]']     \n",
            "                                112)                                                              \n",
            "                                                                                                  \n",
            " block5b_add (Add)              (None, None, None,   0           ['block5b_drop[0][0]',           \n",
            "                                112)                              'block5a_project_bn[0][0]']     \n",
            "                                                                                                  \n",
            " block5c_expand_conv (Conv2D)   (None, None, None,   75264       ['block5b_add[0][0]']            \n",
            "                                672)                                                              \n",
            "                                                                                                  \n",
            " block5c_expand_bn (BatchNormal  (None, None, None,   2688       ['block5c_expand_conv[0][0]']    \n",
            " ization)                       672)                                                              \n",
            "                                                                                                  \n",
            " block5c_expand_activation (Act  (None, None, None,   0          ['block5c_expand_bn[0][0]']      \n",
            " ivation)                       672)                                                              \n",
            "                                                                                                  \n",
            " block5c_dwconv (DepthwiseConv2  (None, None, None,   16800      ['block5c_expand_activation[0][0]\n",
            " D)                             672)                             ']                               \n",
            "                                                                                                  \n",
            " block5c_bn (BatchNormalization  (None, None, None,   2688       ['block5c_dwconv[0][0]']         \n",
            " )                              672)                                                              \n",
            "                                                                                                  \n",
            " block5c_activation (Activation  (None, None, None,   0          ['block5c_bn[0][0]']             \n",
            " )                              672)                                                              \n",
            "                                                                                                  \n",
            " block5c_se_squeeze (GlobalAver  (None, 672)         0           ['block5c_activation[0][0]']     \n",
            " agePooling2D)                                                                                    \n",
            "                                                                                                  \n",
            " block5c_se_reshape (Reshape)   (None, 1, 1, 672)    0           ['block5c_se_squeeze[0][0]']     \n",
            "                                                                                                  \n",
            " block5c_se_reduce (Conv2D)     (None, 1, 1, 28)     18844       ['block5c_se_reshape[0][0]']     \n",
            "                                                                                                  \n",
            " block5c_se_expand (Conv2D)     (None, 1, 1, 672)    19488       ['block5c_se_reduce[0][0]']      \n",
            "                                                                                                  \n",
            " block5c_se_excite (Multiply)   (None, None, None,   0           ['block5c_activation[0][0]',     \n",
            "                                672)                              'block5c_se_expand[0][0]']      \n",
            "                                                                                                  \n",
            " block5c_project_conv (Conv2D)  (None, None, None,   75264       ['block5c_se_excite[0][0]']      \n",
            "                                112)                                                              \n",
            "                                                                                                  \n",
            " block5c_project_bn (BatchNorma  (None, None, None,   448        ['block5c_project_conv[0][0]']   \n",
            " lization)                      112)                                                              \n",
            "                                                                                                  \n",
            " block5c_drop (Dropout)         (None, None, None,   0           ['block5c_project_bn[0][0]']     \n",
            "                                112)                                                              \n",
            "                                                                                                  \n",
            " block5c_add (Add)              (None, None, None,   0           ['block5c_drop[0][0]',           \n",
            "                                112)                              'block5b_add[0][0]']            \n",
            "                                                                                                  \n",
            " block6a_expand_conv (Conv2D)   (None, None, None,   75264       ['block5c_add[0][0]']            \n",
            "                                672)                                                              \n",
            "                                                                                                  \n",
            " block6a_expand_bn (BatchNormal  (None, None, None,   2688       ['block6a_expand_conv[0][0]']    \n",
            " ization)                       672)                                                              \n",
            "                                                                                                  \n",
            " block6a_expand_activation (Act  (None, None, None,   0          ['block6a_expand_bn[0][0]']      \n",
            " ivation)                       672)                                                              \n",
            "                                                                                                  \n",
            " block6a_dwconv_pad (ZeroPaddin  (None, None, None,   0          ['block6a_expand_activation[0][0]\n",
            " g2D)                           672)                             ']                               \n",
            "                                                                                                  \n",
            " block6a_dwconv (DepthwiseConv2  (None, None, None,   16800      ['block6a_dwconv_pad[0][0]']     \n",
            " D)                             672)                                                              \n",
            "                                                                                                  \n",
            " block6a_bn (BatchNormalization  (None, None, None,   2688       ['block6a_dwconv[0][0]']         \n",
            " )                              672)                                                              \n",
            "                                                                                                  \n",
            " block6a_activation (Activation  (None, None, None,   0          ['block6a_bn[0][0]']             \n",
            " )                              672)                                                              \n",
            "                                                                                                  \n",
            " block6a_se_squeeze (GlobalAver  (None, 672)         0           ['block6a_activation[0][0]']     \n",
            " agePooling2D)                                                                                    \n",
            "                                                                                                  \n",
            " block6a_se_reshape (Reshape)   (None, 1, 1, 672)    0           ['block6a_se_squeeze[0][0]']     \n",
            "                                                                                                  \n",
            " block6a_se_reduce (Conv2D)     (None, 1, 1, 28)     18844       ['block6a_se_reshape[0][0]']     \n",
            "                                                                                                  \n",
            " block6a_se_expand (Conv2D)     (None, 1, 1, 672)    19488       ['block6a_se_reduce[0][0]']      \n",
            "                                                                                                  \n",
            " block6a_se_excite (Multiply)   (None, None, None,   0           ['block6a_activation[0][0]',     \n",
            "                                672)                              'block6a_se_expand[0][0]']      \n",
            "                                                                                                  \n",
            " block6a_project_conv (Conv2D)  (None, None, None,   129024      ['block6a_se_excite[0][0]']      \n",
            "                                192)                                                              \n",
            "                                                                                                  \n",
            " block6a_project_bn (BatchNorma  (None, None, None,   768        ['block6a_project_conv[0][0]']   \n",
            " lization)                      192)                                                              \n",
            "                                                                                                  \n",
            " block6b_expand_conv (Conv2D)   (None, None, None,   221184      ['block6a_project_bn[0][0]']     \n",
            "                                1152)                                                             \n",
            "                                                                                                  \n",
            " block6b_expand_bn (BatchNormal  (None, None, None,   4608       ['block6b_expand_conv[0][0]']    \n",
            " ization)                       1152)                                                             \n",
            "                                                                                                  \n",
            " block6b_expand_activation (Act  (None, None, None,   0          ['block6b_expand_bn[0][0]']      \n",
            " ivation)                       1152)                                                             \n",
            "                                                                                                  \n",
            " block6b_dwconv (DepthwiseConv2  (None, None, None,   28800      ['block6b_expand_activation[0][0]\n",
            " D)                             1152)                            ']                               \n",
            "                                                                                                  \n",
            " block6b_bn (BatchNormalization  (None, None, None,   4608       ['block6b_dwconv[0][0]']         \n",
            " )                              1152)                                                             \n",
            "                                                                                                  \n",
            " block6b_activation (Activation  (None, None, None,   0          ['block6b_bn[0][0]']             \n",
            " )                              1152)                                                             \n",
            "                                                                                                  \n",
            " block6b_se_squeeze (GlobalAver  (None, 1152)        0           ['block6b_activation[0][0]']     \n",
            " agePooling2D)                                                                                    \n",
            "                                                                                                  \n",
            " block6b_se_reshape (Reshape)   (None, 1, 1, 1152)   0           ['block6b_se_squeeze[0][0]']     \n",
            "                                                                                                  \n",
            " block6b_se_reduce (Conv2D)     (None, 1, 1, 48)     55344       ['block6b_se_reshape[0][0]']     \n",
            "                                                                                                  \n",
            " block6b_se_expand (Conv2D)     (None, 1, 1, 1152)   56448       ['block6b_se_reduce[0][0]']      \n",
            "                                                                                                  \n",
            " block6b_se_excite (Multiply)   (None, None, None,   0           ['block6b_activation[0][0]',     \n",
            "                                1152)                             'block6b_se_expand[0][0]']      \n",
            "                                                                                                  \n",
            " block6b_project_conv (Conv2D)  (None, None, None,   221184      ['block6b_se_excite[0][0]']      \n",
            "                                192)                                                              \n",
            "                                                                                                  \n",
            " block6b_project_bn (BatchNorma  (None, None, None,   768        ['block6b_project_conv[0][0]']   \n",
            " lization)                      192)                                                              \n",
            "                                                                                                  \n",
            " block6b_drop (Dropout)         (None, None, None,   0           ['block6b_project_bn[0][0]']     \n",
            "                                192)                                                              \n",
            "                                                                                                  \n",
            " block6b_add (Add)              (None, None, None,   0           ['block6b_drop[0][0]',           \n",
            "                                192)                              'block6a_project_bn[0][0]']     \n",
            "                                                                                                  \n",
            " block6c_expand_conv (Conv2D)   (None, None, None,   221184      ['block6b_add[0][0]']            \n",
            "                                1152)                                                             \n",
            "                                                                                                  \n",
            " block6c_expand_bn (BatchNormal  (None, None, None,   4608       ['block6c_expand_conv[0][0]']    \n",
            " ization)                       1152)                                                             \n",
            "                                                                                                  \n",
            " block6c_expand_activation (Act  (None, None, None,   0          ['block6c_expand_bn[0][0]']      \n",
            " ivation)                       1152)                                                             \n",
            "                                                                                                  \n",
            " block6c_dwconv (DepthwiseConv2  (None, None, None,   28800      ['block6c_expand_activation[0][0]\n",
            " D)                             1152)                            ']                               \n",
            "                                                                                                  \n",
            " block6c_bn (BatchNormalization  (None, None, None,   4608       ['block6c_dwconv[0][0]']         \n",
            " )                              1152)                                                             \n",
            "                                                                                                  \n",
            " block6c_activation (Activation  (None, None, None,   0          ['block6c_bn[0][0]']             \n",
            " )                              1152)                                                             \n",
            "                                                                                                  \n",
            " block6c_se_squeeze (GlobalAver  (None, 1152)        0           ['block6c_activation[0][0]']     \n",
            " agePooling2D)                                                                                    \n",
            "                                                                                                  \n",
            " block6c_se_reshape (Reshape)   (None, 1, 1, 1152)   0           ['block6c_se_squeeze[0][0]']     \n",
            "                                                                                                  \n",
            " block6c_se_reduce (Conv2D)     (None, 1, 1, 48)     55344       ['block6c_se_reshape[0][0]']     \n",
            "                                                                                                  \n",
            " block6c_se_expand (Conv2D)     (None, 1, 1, 1152)   56448       ['block6c_se_reduce[0][0]']      \n",
            "                                                                                                  \n",
            " block6c_se_excite (Multiply)   (None, None, None,   0           ['block6c_activation[0][0]',     \n",
            "                                1152)                             'block6c_se_expand[0][0]']      \n",
            "                                                                                                  \n",
            " block6c_project_conv (Conv2D)  (None, None, None,   221184      ['block6c_se_excite[0][0]']      \n",
            "                                192)                                                              \n",
            "                                                                                                  \n",
            " block6c_project_bn (BatchNorma  (None, None, None,   768        ['block6c_project_conv[0][0]']   \n",
            " lization)                      192)                                                              \n",
            "                                                                                                  \n",
            " block6c_drop (Dropout)         (None, None, None,   0           ['block6c_project_bn[0][0]']     \n",
            "                                192)                                                              \n",
            "                                                                                                  \n",
            " block6c_add (Add)              (None, None, None,   0           ['block6c_drop[0][0]',           \n",
            "                                192)                              'block6b_add[0][0]']            \n",
            "                                                                                                  \n",
            " block6d_expand_conv (Conv2D)   (None, None, None,   221184      ['block6c_add[0][0]']            \n",
            "                                1152)                                                             \n",
            "                                                                                                  \n",
            " block6d_expand_bn (BatchNormal  (None, None, None,   4608       ['block6d_expand_conv[0][0]']    \n",
            " ization)                       1152)                                                             \n",
            "                                                                                                  \n",
            " block6d_expand_activation (Act  (None, None, None,   0          ['block6d_expand_bn[0][0]']      \n",
            " ivation)                       1152)                                                             \n",
            "                                                                                                  \n",
            " block6d_dwconv (DepthwiseConv2  (None, None, None,   28800      ['block6d_expand_activation[0][0]\n",
            " D)                             1152)                            ']                               \n",
            "                                                                                                  \n",
            " block6d_bn (BatchNormalization  (None, None, None,   4608       ['block6d_dwconv[0][0]']         \n",
            " )                              1152)                                                             \n",
            "                                                                                                  \n",
            " block6d_activation (Activation  (None, None, None,   0          ['block6d_bn[0][0]']             \n",
            " )                              1152)                                                             \n",
            "                                                                                                  \n",
            " block6d_se_squeeze (GlobalAver  (None, 1152)        0           ['block6d_activation[0][0]']     \n",
            " agePooling2D)                                                                                    \n",
            "                                                                                                  \n",
            " block6d_se_reshape (Reshape)   (None, 1, 1, 1152)   0           ['block6d_se_squeeze[0][0]']     \n",
            "                                                                                                  \n",
            " block6d_se_reduce (Conv2D)     (None, 1, 1, 48)     55344       ['block6d_se_reshape[0][0]']     \n",
            "                                                                                                  \n",
            " block6d_se_expand (Conv2D)     (None, 1, 1, 1152)   56448       ['block6d_se_reduce[0][0]']      \n",
            "                                                                                                  \n",
            " block6d_se_excite (Multiply)   (None, None, None,   0           ['block6d_activation[0][0]',     \n",
            "                                1152)                             'block6d_se_expand[0][0]']      \n",
            "                                                                                                  \n",
            " block6d_project_conv (Conv2D)  (None, None, None,   221184      ['block6d_se_excite[0][0]']      \n",
            "                                192)                                                              \n",
            "                                                                                                  \n",
            " block6d_project_bn (BatchNorma  (None, None, None,   768        ['block6d_project_conv[0][0]']   \n",
            " lization)                      192)                                                              \n",
            "                                                                                                  \n",
            " block6d_drop (Dropout)         (None, None, None,   0           ['block6d_project_bn[0][0]']     \n",
            "                                192)                                                              \n",
            "                                                                                                  \n",
            " block6d_add (Add)              (None, None, None,   0           ['block6d_drop[0][0]',           \n",
            "                                192)                              'block6c_add[0][0]']            \n",
            "                                                                                                  \n",
            " block7a_expand_conv (Conv2D)   (None, None, None,   221184      ['block6d_add[0][0]']            \n",
            "                                1152)                                                             \n",
            "                                                                                                  \n",
            " block7a_expand_bn (BatchNormal  (None, None, None,   4608       ['block7a_expand_conv[0][0]']    \n",
            " ization)                       1152)                                                             \n",
            "                                                                                                  \n",
            " block7a_expand_activation (Act  (None, None, None,   0          ['block7a_expand_bn[0][0]']      \n",
            " ivation)                       1152)                                                             \n",
            "                                                                                                  \n",
            " block7a_dwconv (DepthwiseConv2  (None, None, None,   10368      ['block7a_expand_activation[0][0]\n",
            " D)                             1152)                            ']                               \n",
            "                                                                                                  \n",
            " block7a_bn (BatchNormalization  (None, None, None,   4608       ['block7a_dwconv[0][0]']         \n",
            " )                              1152)                                                             \n",
            "                                                                                                  \n",
            " block7a_activation (Activation  (None, None, None,   0          ['block7a_bn[0][0]']             \n",
            " )                              1152)                                                             \n",
            "                                                                                                  \n",
            " block7a_se_squeeze (GlobalAver  (None, 1152)        0           ['block7a_activation[0][0]']     \n",
            " agePooling2D)                                                                                    \n",
            "                                                                                                  \n",
            " block7a_se_reshape (Reshape)   (None, 1, 1, 1152)   0           ['block7a_se_squeeze[0][0]']     \n",
            "                                                                                                  \n",
            " block7a_se_reduce (Conv2D)     (None, 1, 1, 48)     55344       ['block7a_se_reshape[0][0]']     \n",
            "                                                                                                  \n",
            " block7a_se_expand (Conv2D)     (None, 1, 1, 1152)   56448       ['block7a_se_reduce[0][0]']      \n",
            "                                                                                                  \n",
            " block7a_se_excite (Multiply)   (None, None, None,   0           ['block7a_activation[0][0]',     \n",
            "                                1152)                             'block7a_se_expand[0][0]']      \n",
            "                                                                                                  \n",
            " block7a_project_conv (Conv2D)  (None, None, None,   368640      ['block7a_se_excite[0][0]']      \n",
            "                                320)                                                              \n",
            "                                                                                                  \n",
            " block7a_project_bn (BatchNorma  (None, None, None,   1280       ['block7a_project_conv[0][0]']   \n",
            " lization)                      320)                                                              \n",
            "                                                                                                  \n",
            " top_conv (Conv2D)              (None, None, None,   409600      ['block7a_project_bn[0][0]']     \n",
            "                                1280)                                                             \n",
            "                                                                                                  \n",
            " top_bn (BatchNormalization)    (None, None, None,   5120        ['top_conv[0][0]']               \n",
            "                                1280)                                                             \n",
            "                                                                                                  \n",
            " top_activation (Activation)    (None, None, None,   0           ['top_bn[0][0]']                 \n",
            "                                1280)                                                             \n",
            "                                                                                                  \n",
            "==================================================================================================\n",
            "Total params: 4,049,571\n",
            "Trainable params: 0\n",
            "Non-trainable params: 4,049,571\n",
            "__________________________________________________________________________________________________\n"
          ]
        }
      ],
      "source": [
        "#How about we get a summary of the base model?\n",
        "base_model.summary()"
      ]
    },
    {
      "cell_type": "code",
      "execution_count": null,
      "metadata": {
        "colab": {
          "base_uri": "https://localhost:8080/"
        },
        "id": "UAbgsrIYkNYo",
        "outputId": "d9df284e-1bf3-42e9-94cc-bfd2eda26b2f"
      },
      "outputs": [
        {
          "name": "stdout",
          "output_type": "stream",
          "text": [
            "Model: \"model\"\n",
            "_________________________________________________________________\n",
            " Layer (type)                Output Shape              Param #   \n",
            "=================================================================\n",
            " input_layer (InputLayer)    [(None, 224, 224, 3)]     0         \n",
            "                                                                 \n",
            " efficientnetb0 (Functional)  (None, None, None, 1280)  4049571  \n",
            "                                                                 \n",
            " gloabl_average_pooling_laye  (None, 1280)             0         \n",
            " r (GlobalAveragePooling2D)                                      \n",
            "                                                                 \n",
            " output_layer (Dense)        (None, 10)                12810     \n",
            "                                                                 \n",
            "=================================================================\n",
            "Total params: 4,062,381\n",
            "Trainable params: 12,810\n",
            "Non-trainable params: 4,049,571\n",
            "_________________________________________________________________\n"
          ]
        }
      ],
      "source": [
        "# How about a summary of our whole model?\n",
        "model_0.summary()"
      ]
    },
    {
      "cell_type": "code",
      "execution_count": null,
      "metadata": {
        "colab": {
          "base_uri": "https://localhost:8080/",
          "height": 573
        },
        "id": "l8ttrB0Ikc0X",
        "outputId": "b2c9e318-8dd2-47dc-f6c1-f8ec1918b99f"
      },
      "outputs": [
        {
          "data": {
            "image/png": "[encoded data removed]",
            "text/plain": [
              "<Figure size 432x288 with 1 Axes>"
            ]
          },
          "metadata": {},
          "output_type": "display_data"
        },
        {
          "data": {
            "image/png": "[encoded data removed]",
            "text/plain": [
              "<Figure size 432x288 with 1 Axes>"
            ]
          },
          "metadata": {},
          "output_type": "display_data"
        }
      ],
      "source": [
        "#Check out our model's training curves:\n",
        "plot_loss_curves(history_0)"
      ]
    },
    {
      "cell_type": "markdown",
      "metadata": {
        "id": "8YKCcjwWktf3"
      },
      "source": [
        "##Getting a feature vector from a trained model\n",
        "\n",
        "Let's demonstrate the Global Average Pooling 2D layer...\n",
        "\n",
        "We have a tensor after our model goes through `base_model` of shape (None,7,7,1280).\n",
        "\n",
        "But then when it passes through GlobalAveragePooling2D, it turns into (None,1280).\n",
        "\n",
        "Let's use a similar shaped tensor of (1,4,4,3) and then pass it to GlobalAveragePooling2D."
      ]
    },
    {
      "cell_type": "code",
      "execution_count": null,
      "metadata": {
        "colab": {
          "base_uri": "https://localhost:8080/"
        },
        "id": "XmTM_58NnBC_",
        "outputId": "7d5206a0-7cb4-40a1-c2b9-2cfa77128c29"
      },
      "outputs": [
        {
          "name": "stdout",
          "output_type": "stream",
          "text": [
            "Random input Tensor:\n",
            " [[[[ 0.3274685  -0.8426258   0.3194337 ]\n",
            "   [-1.4075519  -2.3880599  -1.0392479 ]\n",
            "   [-0.5573232   0.539707    1.6994323 ]\n",
            "   [ 0.28893656 -1.5066116  -0.26454744]]\n",
            "\n",
            "  [[-0.59722406 -1.9171132  -0.62044144]\n",
            "   [ 0.8504023  -0.40604794 -3.0258412 ]\n",
            "   [ 0.9058464   0.29855987 -0.22561555]\n",
            "   [-0.7616443  -1.891714   -0.9384712 ]]\n",
            "\n",
            "  [[ 0.77852213 -0.47338897  0.97772694]\n",
            "   [ 0.24694404  0.20573747 -0.5256233 ]\n",
            "   [ 0.32410017  0.02545409 -0.10638497]\n",
            "   [-0.6369475   1.1603122   0.2507359 ]]\n",
            "\n",
            "  [[-0.41728497  0.40125778 -1.4145442 ]\n",
            "   [-0.59318566 -1.6617213   0.33567193]\n",
            "   [ 0.10815629  0.2347968  -0.56668764]\n",
            "   [-0.35819843  0.88698626  0.5274477 ]]]]\n",
            "\n",
            "2D global average pooled tensor:\n",
            " [[-0.09368646 -0.45840445 -0.28855976]]\n",
            "Shape of input tensor: (1, 4, 4, 3)\n",
            "Shape of Global tensor: (1, 3)\n"
          ]
        }
      ],
      "source": [
        "#Define the input shape\n",
        "input_shape = (1,4,4,3)\n",
        "\n",
        "#Create a random tensor\n",
        "tf.random.set_seed(42)\n",
        "input_tensor = tf.random.normal(input_shape)\n",
        "print(f\"Random input Tensor:\\n {input_tensor}\\n\")\n",
        "\n",
        "#Pass the random tensor through a global average pooling 2D layer\n",
        "global_average_pooled_tensor = tf.keras.layers.GlobalAveragePooling2D()(input_tensor)\n",
        "print(f\"2D global average pooled tensor:\\n {global_average_pooled_tensor}\")\n",
        "\n",
        "#Check the shape of the different tesnors\n",
        "print(f\"Shape of input tensor: {input_tensor.shape}\")\n",
        "print(f\"Shape of Global tensor: {global_average_pooled_tensor.shape}\")"
      ]
    },
    {
      "cell_type": "code",
      "execution_count": null,
      "metadata": {
        "colab": {
          "base_uri": "https://localhost:8080/"
        },
        "id": "EHhhENAdnZoZ",
        "outputId": "a2d944af-51b9-423f-d22f-09e8b9438082"
      },
      "outputs": [
        {
          "data": {
            "text/plain": [
              "<tf.Tensor: shape=(1, 3), dtype=float32, numpy=array([[-0.09368646, -0.45840445, -0.28855976]], dtype=float32)>"
            ]
          },
          "execution_count": 17,
          "metadata": {},
          "output_type": "execute_result"
        }
      ],
      "source": [
        "#Let's replicate the GlobalAveragePool2D layer\n",
        "tf.reduce_mean(input_tensor,axis=[1,2])"
      ]
    },
    {
      "cell_type": "markdown",
      "metadata": {
        "id": "pUDaANXzqBV7"
      },
      "source": [
        ">⚒ **Practice:** Try to do same with above 2 cells but this time use `GlobalMaxPool2D` ... and see what happens."
      ]
    },
    {
      "cell_type": "code",
      "execution_count": null,
      "metadata": {
        "colab": {
          "base_uri": "https://localhost:8080/"
        },
        "id": "HjTrIFRLp-mE",
        "outputId": "c8a6017e-7691-4664-a31c-ebbbd2540cbf"
      },
      "outputs": [
        {
          "name": "stdout",
          "output_type": "stream",
          "text": [
            "Random Input tensor: [[[[ 0.3274685  -0.8426258   0.3194337 ]\n",
            "   [-1.4075519  -2.3880599  -1.0392479 ]\n",
            "   [-0.5573232   0.539707    1.6994323 ]\n",
            "   [ 0.28893656 -1.5066116  -0.26454744]]\n",
            "\n",
            "  [[-0.59722406 -1.9171132  -0.62044144]\n",
            "   [ 0.8504023  -0.40604794 -3.0258412 ]\n",
            "   [ 0.9058464   0.29855987 -0.22561555]\n",
            "   [-0.7616443  -1.891714   -0.9384712 ]]\n",
            "\n",
            "  [[ 0.77852213 -0.47338897  0.97772694]\n",
            "   [ 0.24694404  0.20573747 -0.5256233 ]\n",
            "   [ 0.32410017  0.02545409 -0.10638497]\n",
            "   [-0.6369475   1.1603122   0.2507359 ]]\n",
            "\n",
            "  [[-0.41728497  0.40125778 -1.4145442 ]\n",
            "   [-0.59318566 -1.6617213   0.33567193]\n",
            "   [ 0.10815629  0.2347968  -0.56668764]\n",
            "   [-0.35819843  0.88698626  0.5274477 ]]]]\n",
            "Max Pooled tensor: [[0.9058464 1.1603122 1.6994323]]\n"
          ]
        },
        {
          "data": {
            "text/plain": [
              "TensorShape([1, 3])"
            ]
          },
          "execution_count": 18,
          "metadata": {},
          "output_type": "execute_result"
        }
      ],
      "source": [
        "global_max_pooled_tensor = tf.keras.layers.GlobalMaxPooling2D()(input_tensor)\n",
        "print(f\"Random Input tensor: {input_tensor}\")\n",
        "print(f\"Max Pooled tensor: {global_max_pooled_tensor}\")\n",
        "global_max_pooled_tensor.shape"
      ]
    },
    {
      "cell_type": "markdown",
      "metadata": {
        "id": "_u3o3Ela9hCh"
      },
      "source": [
        "##Running a series of Transfer Learning experiments\n",
        "\n",
        "We've seen the incredible results transfer learning can get with 10%, let's find out how it performs on 1%\n",
        "\n",
        "1. `model-1` - use feature extraction transfer learning with 1% of the training data with data augmentation\n",
        "2. `model-2` - use feature extraction T.L. with 10% of the training with data augmentation.\n",
        "3. `model-3` - use fine-tuning T.L. on 10% of the training data with data augmentation\n",
        "4. `model-4` - use fine tuning T.L. on 100% of the training data with data augmentation\n",
        "\n",
        "> 🔑**Note**: throughout all experiments the same test dataset will be used to evaluate our model...this ensures consistency across evaluation metrics."
      ]
    },
    {
      "cell_type": "markdown",
      "metadata": {
        "id": "JG3Xn0etA4GR"
      },
      "source": [
        "##Getting and preprocessing data for model_1"
      ]
    },
    {
      "cell_type": "code",
      "execution_count": null,
      "metadata": {
        "colab": {
          "base_uri": "https://localhost:8080/"
        },
        "id": "5oFuNR9G-ns7",
        "outputId": "6ac1abaa-d701-4ed1-b9c6-dab2aeb44093"
      },
      "outputs": [
        {
          "name": "stdout",
          "output_type": "stream",
          "text": [
            "--2022-09-28 12:37:59--  https://storage.googleapis.com/ztm_tf_course/food_vision/10_food_classes_1_percent.zip\n",
            "Resolving storage.googleapis.com (storage.googleapis.com)... 108.177.121.128, 108.177.120.128, 142.250.159.128, ...\n",
            "Connecting to storage.googleapis.com (storage.googleapis.com)|108.177.121.128|:443... connected.\n",
            "HTTP request sent, awaiting response... 200 OK\n",
            "Length: 133612354 (127M) [application/zip]\n",
            "Saving to: ‘10_food_classes_1_percent.zip’\n",
            "\n",
            "10_food_classes_1_p 100%[===================>] 127.42M   212MB/s    in 0.6s    \n",
            "\n",
            "2022-09-28 12:38:00 (212 MB/s) - ‘10_food_classes_1_percent.zip’ saved [133612354/133612354]\n",
            "\n"
          ]
        }
      ],
      "source": [
        "#Download and unzip data - preprocessed from Food101\n",
        "!wget https://storage.googleapis.com/ztm_tf_course/food_vision/10_food_classes_1_percent.zip\n",
        "unzip_data('10_food_classes_1_percent.zip')"
      ]
    },
    {
      "cell_type": "code",
      "execution_count": null,
      "metadata": {
        "id": "RDf2mo1N_sqc"
      },
      "outputs": [],
      "source": [
        "#Create training and test dirs\n",
        "train_dir_1_percent='10_food_classes_1_percent/train'\n",
        "test_dir='10_food_classes_1_percent/test'"
      ]
    },
    {
      "cell_type": "code",
      "execution_count": null,
      "metadata": {
        "colab": {
          "base_uri": "https://localhost:8080/"
        },
        "id": "4EFeiGOLADNK",
        "outputId": "ebc950e8-d34a-415a-80f8-c9308a97decf"
      },
      "outputs": [
        {
          "name": "stdout",
          "output_type": "stream",
          "text": [
            "There are 2 directories and 0 images in '10_food_classes_1_percent'.\n",
            "There are 10 directories and 0 images in '10_food_classes_1_percent/test'.\n",
            "There are 0 directories and 250 images in '10_food_classes_1_percent/test/steak'.\n",
            "There are 0 directories and 250 images in '10_food_classes_1_percent/test/chicken_wings'.\n",
            "There are 0 directories and 250 images in '10_food_classes_1_percent/test/ice_cream'.\n",
            "There are 0 directories and 250 images in '10_food_classes_1_percent/test/pizza'.\n",
            "There are 0 directories and 250 images in '10_food_classes_1_percent/test/ramen'.\n",
            "There are 0 directories and 250 images in '10_food_classes_1_percent/test/chicken_curry'.\n",
            "There are 0 directories and 250 images in '10_food_classes_1_percent/test/hamburger'.\n",
            "There are 0 directories and 250 images in '10_food_classes_1_percent/test/fried_rice'.\n",
            "There are 0 directories and 250 images in '10_food_classes_1_percent/test/grilled_salmon'.\n",
            "There are 0 directories and 250 images in '10_food_classes_1_percent/test/sushi'.\n",
            "There are 10 directories and 0 images in '10_food_classes_1_percent/train'.\n",
            "There are 0 directories and 7 images in '10_food_classes_1_percent/train/steak'.\n",
            "There are 0 directories and 7 images in '10_food_classes_1_percent/train/chicken_wings'.\n",
            "There are 0 directories and 7 images in '10_food_classes_1_percent/train/ice_cream'.\n",
            "There are 0 directories and 7 images in '10_food_classes_1_percent/train/pizza'.\n",
            "There are 0 directories and 7 images in '10_food_classes_1_percent/train/ramen'.\n",
            "There are 0 directories and 7 images in '10_food_classes_1_percent/train/chicken_curry'.\n",
            "There are 0 directories and 7 images in '10_food_classes_1_percent/train/hamburger'.\n",
            "There are 0 directories and 7 images in '10_food_classes_1_percent/train/fried_rice'.\n",
            "There are 0 directories and 7 images in '10_food_classes_1_percent/train/grilled_salmon'.\n",
            "There are 0 directories and 7 images in '10_food_classes_1_percent/train/sushi'.\n"
          ]
        }
      ],
      "source": [
        "#How many images are we working with?\n",
        "walk_through_dir(\"10_food_classes_1_percent\")"
      ]
    },
    {
      "cell_type": "code",
      "execution_count": null,
      "metadata": {
        "colab": {
          "base_uri": "https://localhost:8080/"
        },
        "id": "046nzIdHAN7K",
        "outputId": "477e5d0f-ba04-47c2-e314-adf0f7baa878"
      },
      "outputs": [
        {
          "name": "stdout",
          "output_type": "stream",
          "text": [
            "Found 70 files belonging to 10 classes.\n",
            "Found 2500 files belonging to 10 classes.\n"
          ]
        }
      ],
      "source": [
        "#Setup Data loaders\n",
        "IMG_SIZE = (224,224)\n",
        "train_data_1_percent = tf.keras.preprocessing.image_dataset_from_directory(\n",
        "    train_dir_1_percent,\n",
        "    label_mode=\"categorical\",\n",
        "    image_size=IMG_SIZE,\n",
        "    batch_size=BATCH_SIZE #default=32\n",
        ")\n",
        "\n",
        "test_data = tf.keras.preprocessing.image_dataset_from_directory(\n",
        "    test_dir,\n",
        "    label_mode=\"categorical\",\n",
        "    image_size=IMG_SIZE,\n",
        "    batch_size=BATCH_SIZE #default=32\n",
        ")"
      ]
    },
    {
      "cell_type": "markdown",
      "metadata": {
        "id": "ntHLokg_DkD6"
      },
      "source": [
        "##Adding data augmentation right into the model\n",
        "\n",
        "To add data augmentation right into our models, we can use the layers inside\n",
        "* `tf.keras.experimental.preprocessing()`"
      ]
    },
    {
      "cell_type": "code",
      "execution_count": null,
      "metadata": {
        "id": "jNX8xbi9EQk9"
      },
      "outputs": [],
      "source": [
        "import tensorflow as tf\n",
        "from tensorflow import keras\n",
        "from tensorflow.keras import layers\n",
        "from tensorflow.keras.layers.experimental import preprocessing\n",
        "\n",
        "#Create data augmentation stage with horizontal flipping, rotations, zooms, etc\n",
        "\n",
        "data_augmentation = keras.Sequential([\n",
        "    preprocessing.RandomFlip(\"horizontal\"),\n",
        "    preprocessing.RandomRotation(0.2),\n",
        "    preprocessing.RandomZoom(0.2),\n",
        "    preprocessing.RandomHeight(0.2),\n",
        "    preprocessing.RandomWidth(0.2),\n",
        "    # preprocessing.Rescale(1./255) #Keep for models like ResNet50V2 but EfficentNet's have rescaling built right in\n",
        "],name=\"data_augmentation\")"
      ]
    },
    {
      "cell_type": "markdown",
      "metadata": {
        "id": "NTMckN9tFjap"
      },
      "source": [
        "###Visualizing Data Augmentation"
      ]
    },
    {
      "cell_type": "code",
      "execution_count": null,
      "metadata": {
        "colab": {
          "base_uri": "https://localhost:8080/",
          "height": 511
        },
        "id": "RWR4beq5H1_6",
        "outputId": "1d77109b-f972-4ca4-c840-a72b5f2a07d4"
      },
      "outputs": [
        {
          "data": {
            "image/png": "[encoded data removed]",
            "text/plain": [
              "<Figure size 432x288 with 1 Axes>"
            ]
          },
          "metadata": {},
          "output_type": "display_data"
        },
        {
          "data": {
            "image/png": "[encoded data removed]",
            "text/plain": [
              "<Figure size 432x288 with 1 Axes>"
            ]
          },
          "metadata": {},
          "output_type": "display_data"
        }
      ],
      "source": [
        "# View a random image\n",
        "import matplotlib.pyplot as plt\n",
        "import matplotlib.image as mpimg\n",
        "import os\n",
        "import random\n",
        "target_class = random.choice(train_data_1_percent.class_names) # choose a random class\n",
        "target_dir = \"10_food_classes_1_percent/train/\" + target_class # create the target directory\n",
        "random_image = random.choice(os.listdir(target_dir)) # choose a random image from target directory\n",
        "random_image_path = target_dir + \"/\" + random_image # create the choosen random image path\n",
        "img = mpimg.imread(random_image_path) # read in the chosen target image\n",
        "plt.imshow(img) # plot the target image\n",
        "plt.title(f\"Original random image from class: {target_class}\")\n",
        "plt.axis(False); # turn off the axes\n",
        "\n",
        "# Augment the image\n",
        "augmented_img = data_augmentation(tf.expand_dims(img, axis=0),training=True) # data augmentation model requires shape (None, height, width, 3)\n",
        "plt.figure()\n",
        "plt.imshow(tf.squeeze(augmented_img)/255.) # requires normalization after augmentation\n",
        "plt.title(f\"Augmented random image from class: {target_class}\")\n",
        "plt.axis(False);"
      ]
    },
    {
      "cell_type": "markdown",
      "metadata": {
        "id": "X1-WaI2NJLpS"
      },
      "source": [
        "##Model 1: Feature Extraction Transfer learning on 1% of the data with data augmentation"
      ]
    },
    {
      "cell_type": "code",
      "execution_count": null,
      "metadata": {
        "colab": {
          "base_uri": "https://localhost:8080/"
        },
        "id": "ljxDfAHZX4wX",
        "outputId": "2f27e31c-2de3-4914-f642-b5fda5b7a770"
      },
      "outputs": [
        {
          "name": "stdout",
          "output_type": "stream",
          "text": [
            "Saving TensorBoard log files to: transfer_learning/1_percent_data_aug/20220928-123805\n",
            "Epoch 1/5\n",
            "3/3 [==============================] - 55s 23s/step - loss: 2.4583 - accuracy: 0.0571 - val_loss: 2.2265 - val_accuracy: 0.1924\n",
            "Epoch 2/5\n",
            "3/3 [==============================] - 45s 21s/step - loss: 2.1332 - accuracy: 0.2429 - val_loss: 2.1253 - val_accuracy: 0.2549\n",
            "Epoch 3/5\n",
            "3/3 [==============================] - 45s 22s/step - loss: 1.9560 - accuracy: 0.4286 - val_loss: 2.0179 - val_accuracy: 0.3405\n",
            "Epoch 4/5\n",
            "3/3 [==============================] - 45s 22s/step - loss: 1.8035 - accuracy: 0.5571 - val_loss: 1.8997 - val_accuracy: 0.4309\n",
            "Epoch 5/5\n",
            "3/3 [==============================] - 88s 43s/step - loss: 1.6255 - accuracy: 0.7286 - val_loss: 1.8083 - val_accuracy: 0.5033\n"
          ]
        }
      ],
      "source": [
        "#Setup input shape and base model, freezing the base model layers\n",
        "input_shape = (224,224,3)\n",
        "base_model = tf.keras.applications.efficientnet.EfficientNetB0(include_top=False)\n",
        "base_model.trainable=False\n",
        "\n",
        "#Create input layer\n",
        "inputs = layers.Input(shape=input_shape,name=\"input_layer\")\n",
        "\n",
        "#Add in data augmentation Sequential model as a layer\n",
        "x= data_augmentation(inputs)\n",
        "\n",
        "#Give base model the inputs (after augmentation) and don't train it\n",
        "x=base_model(x,training=False)\n",
        "\n",
        "#Pool output features of the base model\n",
        "x = layers.GlobalAveragePooling2D(name=\"global_average_pooling_layer\")(x)\n",
        "\n",
        "#Put a dense layer on as the output\n",
        "outputs = layers.Dense(10, activation=\"softmax\",name=\"output_layer\")(x)\n",
        "\n",
        "#Make a model using inputs and outputs\n",
        "model_1 = keras.Model(inputs,outputs)\n",
        "\n",
        "model_1.compile(loss=\"categorical_crossentropy\",\n",
        "                optimizer=tf.keras.optimizers.Adam(),\n",
        "                metrics=[\"accuracy\"])\n",
        "\n",
        "#Fit the model\n",
        "history_1_percent = model_1.fit(train_data_1_percent,\n",
        "                                epochs=5,\n",
        "                                steps_per_epoch=len(train_data_1_percent),\n",
        "                                validation_data=test_data,\n",
        "                                validation_steps=int(0.25*len(test_data)),\n",
        "                                #Track model training logs\n",
        "                                callbacks=[create_tensorboard_callback(dir_name=\"transfer_learning\",\n",
        "                                                                       experiment_name=\"1_percent_data_aug\")])\n"
      ]
    },
    {
      "cell_type": "code",
      "execution_count": null,
      "metadata": {
        "colab": {
          "base_uri": "https://localhost:8080/"
        },
        "id": "TJsM1pLFYcMo",
        "outputId": "2427a7ec-029d-4731-8904-8afdc1784d0a"
      },
      "outputs": [
        {
          "name": "stdout",
          "output_type": "stream",
          "text": [
            "Model: \"model_1\"\n",
            "_________________________________________________________________\n",
            " Layer (type)                Output Shape              Param #   \n",
            "=================================================================\n",
            " input_layer (InputLayer)    [(None, 224, 224, 3)]     0         \n",
            "                                                                 \n",
            " data_augmentation (Sequenti  (None, None, None, 3)    0         \n",
            " al)                                                             \n",
            "                                                                 \n",
            " efficientnetb0 (Functional)  (None, None, None, 1280)  4049571  \n",
            "                                                                 \n",
            " global_average_pooling_laye  (None, 1280)             0         \n",
            " r (GlobalAveragePooling2D)                                      \n",
            "                                                                 \n",
            " output_layer (Dense)        (None, 10)                12810     \n",
            "                                                                 \n",
            "=================================================================\n",
            "Total params: 4,062,381\n",
            "Trainable params: 12,810\n",
            "Non-trainable params: 4,049,571\n",
            "_________________________________________________________________\n"
          ]
        }
      ],
      "source": [
        "model_1.summary()"
      ]
    },
    {
      "cell_type": "code",
      "execution_count": null,
      "metadata": {
        "colab": {
          "base_uri": "https://localhost:8080/"
        },
        "id": "OgHd3toHcaWU",
        "outputId": "94993c9e-40fc-40fa-a583-251652b45f6e"
      },
      "outputs": [
        {
          "name": "stdout",
          "output_type": "stream",
          "text": [
            "79/79 [==============================] - 190s 2s/step - loss: 1.8044 - accuracy: 0.4724\n"
          ]
        },
        {
          "data": {
            "text/plain": [
              "[1.8043687343597412, 0.4724000096321106]"
            ]
          },
          "execution_count": 27,
          "metadata": {},
          "output_type": "execute_result"
        }
      ],
      "source": [
        "#Evaluate on the full test dataset\n",
        "results_1_percent_data_aug = model_1.evaluate(test_data)\n",
        "results_1_percent_data_aug"
      ]
    },
    {
      "cell_type": "code",
      "execution_count": null,
      "metadata": {
        "colab": {
          "base_uri": "https://localhost:8080/",
          "height": 573
        },
        "id": "f6UH35CIcvRW",
        "outputId": "3bdc4369-5d00-4a4b-d3c1-c3a41f0a1e8e"
      },
      "outputs": [
        {
          "data": {
            "image/png": "[encoded data removed]",
            "text/plain": [
              "<Figure size 432x288 with 1 Axes>"
            ]
          },
          "metadata": {},
          "output_type": "display_data"
        },
        {
          "data": {
            "image/png": "[encoded data removed]",
            "text/plain": [
              "<Figure size 432x288 with 1 Axes>"
            ]
          },
          "metadata": {},
          "output_type": "display_data"
        }
      ],
      "source": [
        "#How does loss curves look with 1% of the data?\n",
        "plot_loss_curves(history_1_percent)"
      ]
    },
    {
      "cell_type": "markdown",
      "metadata": {
        "id": "FZOKx-j1c-hu"
      },
      "source": [
        "##Model 2: Transfer Learning with 10% of the data and data augmentation"
      ]
    },
    {
      "cell_type": "code",
      "execution_count": null,
      "metadata": {
        "colab": {
          "base_uri": "https://localhost:8080/"
        },
        "id": "zq0Gmtzddy8Y",
        "outputId": "7460df7d-9281-41de-a82f-81d6098f1424"
      },
      "outputs": [
        {
          "name": "stdout",
          "output_type": "stream",
          "text": [
            "--2022-09-28 12:48:51--  https://storage.googleapis.com/ztm_tf_course/food_vision/10_food_classes_10_percent.zip\n",
            "Resolving storage.googleapis.com (storage.googleapis.com)... 142.250.1.128, 108.177.121.128, 108.177.120.128, ...\n",
            "Connecting to storage.googleapis.com (storage.googleapis.com)|142.250.1.128|:443... connected.\n",
            "HTTP request sent, awaiting response... 200 OK\n",
            "Length: 168546183 (161M) [application/zip]\n",
            "Saving to: ‘10_food_classes_10_percent.zip.1’\n",
            "\n",
            "10_food_classes_10_ 100%[===================>] 160.74M   124MB/s    in 1.3s    \n",
            "\n",
            "2022-09-28 12:48:52 (124 MB/s) - ‘10_food_classes_10_percent.zip.1’ saved [168546183/168546183]\n",
            "\n"
          ]
        }
      ],
      "source": [
        "!wget https://storage.googleapis.com/ztm_tf_course/food_vision/10_food_classes_10_percent.zip\n",
        "unzip_data(\"10_food_classes_10_percent.zip\")"
      ]
    },
    {
      "cell_type": "code",
      "execution_count": null,
      "metadata": {
        "id": "ca5kA8PJd_XE"
      },
      "outputs": [],
      "source": [
        "#Set up training and testing directories\n",
        "train_dir =\"10_food_classes_10_percent/train\"\n",
        "test_dir=\"10_food_classes_10_percent/test\""
      ]
    },
    {
      "cell_type": "code",
      "execution_count": null,
      "metadata": {
        "colab": {
          "base_uri": "https://localhost:8080/"
        },
        "id": "FD7KvJmMejbQ",
        "outputId": "dd33ee8b-9a6d-4af0-99aa-3f5a5b825afb"
      },
      "outputs": [
        {
          "name": "stdout",
          "output_type": "stream",
          "text": [
            "There are 2 directories and 0 images in '10_food_classes_10_percent'.\n",
            "There are 10 directories and 0 images in '10_food_classes_10_percent/test'.\n",
            "There are 0 directories and 250 images in '10_food_classes_10_percent/test/steak'.\n",
            "There are 0 directories and 250 images in '10_food_classes_10_percent/test/chicken_wings'.\n",
            "There are 0 directories and 250 images in '10_food_classes_10_percent/test/ice_cream'.\n",
            "There are 0 directories and 250 images in '10_food_classes_10_percent/test/pizza'.\n",
            "There are 0 directories and 250 images in '10_food_classes_10_percent/test/ramen'.\n",
            "There are 0 directories and 250 images in '10_food_classes_10_percent/test/chicken_curry'.\n",
            "There are 0 directories and 250 images in '10_food_classes_10_percent/test/hamburger'.\n",
            "There are 0 directories and 250 images in '10_food_classes_10_percent/test/fried_rice'.\n",
            "There are 0 directories and 250 images in '10_food_classes_10_percent/test/grilled_salmon'.\n",
            "There are 0 directories and 250 images in '10_food_classes_10_percent/test/sushi'.\n",
            "There are 10 directories and 0 images in '10_food_classes_10_percent/train'.\n",
            "There are 0 directories and 75 images in '10_food_classes_10_percent/train/steak'.\n",
            "There are 0 directories and 75 images in '10_food_classes_10_percent/train/chicken_wings'.\n",
            "There are 0 directories and 75 images in '10_food_classes_10_percent/train/ice_cream'.\n",
            "There are 0 directories and 75 images in '10_food_classes_10_percent/train/pizza'.\n",
            "There are 0 directories and 75 images in '10_food_classes_10_percent/train/ramen'.\n",
            "There are 0 directories and 75 images in '10_food_classes_10_percent/train/chicken_curry'.\n",
            "There are 0 directories and 75 images in '10_food_classes_10_percent/train/hamburger'.\n",
            "There are 0 directories and 75 images in '10_food_classes_10_percent/train/fried_rice'.\n",
            "There are 0 directories and 75 images in '10_food_classes_10_percent/train/grilled_salmon'.\n",
            "There are 0 directories and 75 images in '10_food_classes_10_percent/train/sushi'.\n"
          ]
        }
      ],
      "source": [
        "walk_through_dir(\"10_food_classes_10_percent\")"
      ]
    },
    {
      "cell_type": "code",
      "execution_count": null,
      "metadata": {
        "colab": {
          "base_uri": "https://localhost:8080/"
        },
        "id": "UFiUEDP4expf",
        "outputId": "0682953c-0334-4e9b-ad4e-0c0074a2fc85"
      },
      "outputs": [
        {
          "name": "stdout",
          "output_type": "stream",
          "text": [
            "Found 750 files belonging to 10 classes.\n",
            "Found 2500 files belonging to 10 classes.\n"
          ]
        }
      ],
      "source": [
        "train_data_10_percent = tf.keras.preprocessing.image_dataset_from_directory(\n",
        "    train_dir,\n",
        "    label_mode=\"categorical\",\n",
        "    batch_size=BATCH_SIZE,\n",
        "    image_size=IMG_SIZE\n",
        ")\n",
        "test_data= tf.keras.preprocessing.image_dataset_from_directory(\n",
        "    test_dir,\n",
        "    label_mode=\"categorical\",\n",
        "    batch_size=BATCH_SIZE,\n",
        "    image_size=IMG_SIZE\n",
        ")"
      ]
    },
    {
      "cell_type": "code",
      "execution_count": null,
      "metadata": {
        "id": "2t7Skz_ufVG6"
      },
      "outputs": [],
      "source": [
        "#Setup input shape and base model, freezing the base model layers\n",
        "input_shape = (224,224,3)\n",
        "base_model = tf.keras.applications.efficientnet.EfficientNetB0(include_top=False)\n",
        "base_model.trainable=False\n",
        "\n",
        "#Create input layer\n",
        "inputs = layers.Input(shape=input_shape,name=\"input_layer\")\n",
        "\n",
        "#Add in data augmentation Sequential model as a layer\n",
        "x= data_augmentation(inputs)\n",
        "\n",
        "#Give base model the inputs (after augmentation) and don't train it\n",
        "x=base_model(x,training=False)\n",
        "\n",
        "#Pool output features of the base model\n",
        "x = layers.GlobalAveragePooling2D(name=\"global_average_pooling_layer\")(x)\n",
        "\n",
        "#Put a dense layer on as the output\n",
        "outputs = layers.Dense(10, activation=\"softmax\",name=\"output_layer\")(x)\n",
        "\n",
        "#Make a model using inputs and outputs\n",
        "model_2 = keras.Model(inputs,outputs)\n",
        "\n",
        "model_2.compile(loss=\"categorical_crossentropy\",\n",
        "                optimizer=keras.optimizers.Adam(),\n",
        "                metrics=[\"accuracy\"])\n",
        "\n",
        "# history_10_percent_data_aug=model_2.fit(train_data_10_percent,\n",
        "#             epochs=5,\n",
        "#             steps_per_epoch=len(train_data_10_percent),\n",
        "#             validation_steps=int(0.25*len(test_data)),\n",
        "#             validation_data=test_data,\n",
        "#             callbacks=[create_tensorboard_callback(dir_name=\"transfer_learning\",\n",
        "#                                                    experiment_name=\"10_percent_data_aug\")])"
      ]
    },
    {
      "cell_type": "code",
      "execution_count": null,
      "metadata": {
        "colab": {
          "base_uri": "https://localhost:8080/"
        },
        "id": "1d3xSswigrYB",
        "outputId": "c2d35c30-7d47-458f-af48-397b4bbf0cdb"
      },
      "outputs": [
        {
          "name": "stdout",
          "output_type": "stream",
          "text": [
            "Model: \"model_2\"\n",
            "_________________________________________________________________\n",
            " Layer (type)                Output Shape              Param #   \n",
            "=================================================================\n",
            " input_layer (InputLayer)    [(None, 224, 224, 3)]     0         \n",
            "                                                                 \n",
            " data_augmentation (Sequenti  (None, None, None, 3)    0         \n",
            " al)                                                             \n",
            "                                                                 \n",
            " efficientnetb0 (Functional)  (None, None, None, 1280)  4049571  \n",
            "                                                                 \n",
            " global_average_pooling_laye  (None, 1280)             0         \n",
            " r (GlobalAveragePooling2D)                                      \n",
            "                                                                 \n",
            " output_layer (Dense)        (None, 10)                12810     \n",
            "                                                                 \n",
            "=================================================================\n",
            "Total params: 4,062,381\n",
            "Trainable params: 12,810\n",
            "Non-trainable params: 4,049,571\n",
            "_________________________________________________________________\n"
          ]
        }
      ],
      "source": [
        "model_2.summary()"
      ]
    },
    {
      "cell_type": "markdown",
      "metadata": {
        "id": "VIubM3lOikE0"
      },
      "source": [
        "###Creating a ModelCheckpoint Callback\n",
        "\n",
        "The ModelCheckpoint callback imtermediately saves our model(the full model or just the weights) during the training. This is useful so we can come and start where we left off."
      ]
    },
    {
      "cell_type": "code",
      "execution_count": null,
      "metadata": {
        "id": "gpAXXddBpXdj"
      },
      "outputs": [],
      "source": [
        "#Set Checkpoint path\n",
        "checkpoint_path = \"ten_percent_model_checkpoints_weights/checkpoint.ckpt\"\n",
        "\n",
        "#Create a ModelCheckpoint callback that saves model's weigths only\n",
        "checkpoint_callback = tf.keras.callbacks.ModelCheckpoint(filepath=checkpoint_path,\n",
        "                                                         save_weights_only=True,\n",
        "                                                         save_best_only=False,\n",
        "                                                         save_freq=\"epoch\", #save every epoch\n",
        "                                                         verbose=1)"
      ]
    },
    {
      "cell_type": "code",
      "execution_count": null,
      "metadata": {
        "colab": {
          "base_uri": "https://localhost:8080/"
        },
        "id": "n_Jg6obcsrt3",
        "outputId": "1369e9be-d809-4af7-844a-d1147a384947"
      },
      "outputs": [
        {
          "name": "stdout",
          "output_type": "stream",
          "text": [
            "Saving TensorBoard log files to: transfer_learning/10_percent_data_aug/20220928-124900\n",
            "Epoch 1/5\n",
            "24/24 [==============================] - ETA: 0s - loss: 2.0271 - accuracy: 0.3293\n",
            "Epoch 1: saving model to ten_percent_model_checkpoints_weights/checkpoint.ckpt\n",
            "24/24 [==============================] - 144s 6s/step - loss: 2.0271 - accuracy: 0.3293 - val_loss: 1.4982 - val_accuracy: 0.6612\n",
            "Epoch 2/5\n",
            "24/24 [==============================] - ETA: 0s - loss: 1.3663 - accuracy: 0.6640\n",
            "Epoch 2: saving model to ten_percent_model_checkpoints_weights/checkpoint.ckpt\n",
            "24/24 [==============================] - 104s 4s/step - loss: 1.3663 - accuracy: 0.6640 - val_loss: 1.0694 - val_accuracy: 0.7664\n",
            "Epoch 3/5\n",
            "24/24 [==============================] - ETA: 0s - loss: 1.0624 - accuracy: 0.7533\n",
            "Epoch 3: saving model to ten_percent_model_checkpoints_weights/checkpoint.ckpt\n",
            "24/24 [==============================] - 102s 4s/step - loss: 1.0624 - accuracy: 0.7533 - val_loss: 0.8508 - val_accuracy: 0.8059\n",
            "Epoch 4/5\n",
            "24/24 [==============================] - ETA: 0s - loss: 0.9038 - accuracy: 0.7853\n",
            "Epoch 4: saving model to ten_percent_model_checkpoints_weights/checkpoint.ckpt\n",
            "24/24 [==============================] - 150s 6s/step - loss: 0.9038 - accuracy: 0.7853 - val_loss: 0.7637 - val_accuracy: 0.8059\n",
            "Epoch 5/5\n",
            "24/24 [==============================] - ETA: 0s - loss: 0.7801 - accuracy: 0.8187\n",
            "Epoch 5: saving model to ten_percent_model_checkpoints_weights/checkpoint.ckpt\n",
            "24/24 [==============================] - 92s 4s/step - loss: 0.7801 - accuracy: 0.8187 - val_loss: 0.7135 - val_accuracy: 0.8141\n"
          ]
        }
      ],
      "source": [
        "history_10_percent_data_aug=model_2.fit(train_data_10_percent,\n",
        "                epochs=5,\n",
        "                steps_per_epoch=len(train_data_10_percent),\n",
        "                validation_steps=int(0.25*len(test_data)),\n",
        "                validation_data=test_data,\n",
        "                callbacks=[create_tensorboard_callback(dir_name=\"transfer_learning\",\n",
        "                                                       experiment_name=\"10_percent_data_aug\"),\n",
        "                           checkpoint_callback])"
      ]
    },
    {
      "cell_type": "code",
      "execution_count": null,
      "metadata": {
        "colab": {
          "background_save": true,
          "base_uri": "https://localhost:8080/"
        },
        "id": "m9IRT6NatbQ_",
        "outputId": "fb494b91-1090-4072-ad10-3b65eaea0d34"
      },
      "outputs": [
        {
          "name": "stdout",
          "output_type": "stream",
          "text": [
            "79/79 [==============================] - 162s 2s/step - loss: 0.6026 - accuracy: 0.8424\n"
          ]
        },
        {
          "data": {
            "text/plain": [
              "[0.6025770902633667, 0.8424000144004822]"
            ]
          },
          "execution_count": 37,
          "metadata": {},
          "output_type": "execute_result"
        }
      ],
      "source": [
        "model_0.evaluate(test_data)"
      ]
    },
    {
      "cell_type": "code",
      "execution_count": null,
      "metadata": {
        "colab": {
          "background_save": true
        },
        "id": "f6hLgrNVvNsO",
        "outputId": "d6726971-cb35-4074-d13e-8c090098561e"
      },
      "outputs": [
        {
          "name": "stdout",
          "output_type": "stream",
          "text": [
            "79/79 [==============================] - 161s 2s/step - loss: 0.6943 - accuracy: 0.8112\n"
          ]
        }
      ],
      "source": [
        "results_10_percent_data_aug=model_2.evaluate(test_data)"
      ]
    },
    {
      "cell_type": "code",
      "execution_count": null,
      "metadata": {
        "colab": {
          "background_save": true
        },
        "id": "_rTOH-_BvUGK",
        "outputId": "d07d5755-ad19-4bb8-b08c-6ab93272c9c9"
      },
      "outputs": [
        {
          "data": {
            "image/png": "[encoded data removed]",
            "text/plain": [
              "<Figure size 432x288 with 1 Axes>"
            ]
          },
          "metadata": {},
          "output_type": "display_data"
        },
        {
          "data": {
            "image/png": "[encoded data removed]",
            "text/plain": [
              "<Figure size 432x288 with 1 Axes>"
            ]
          },
          "metadata": {},
          "output_type": "display_data"
        }
      ],
      "source": [
        "plot_loss_curves(history_10_percent_data_aug)"
      ]
    },
    {
      "cell_type": "markdown",
      "metadata": {
        "id": "aKFLYGfUveCC"
      },
      "source": [
        "###Loading in checkpointed weights\n",
        "Loading in checkpointed weights and evaluate model to a specific checkpoint."
      ]
    },
    {
      "cell_type": "code",
      "execution_count": null,
      "metadata": {
        "colab": {
          "background_save": true
        },
        "id": "Y--8XijT8pQj",
        "outputId": "99f4fc92-1c75-42c9-bdbc-2423c80b88f7"
      },
      "outputs": [
        {
          "data": {
            "text/plain": [
              "<tensorflow.python.training.tracking.util.CheckpointLoadStatus at 0x7f4d804b3f50>"
            ]
          },
          "execution_count": 40,
          "metadata": {},
          "output_type": "execute_result"
        }
      ],
      "source": [
        "model_2.load_weights(checkpoint_path)"
      ]
    },
    {
      "cell_type": "code",
      "execution_count": null,
      "metadata": {
        "colab": {
          "background_save": true
        },
        "id": "anMOsl_W8zTy",
        "outputId": "701d6f7e-a43a-4ca3-9e55-fc17c995300d"
      },
      "outputs": [
        {
          "name": "stdout",
          "output_type": "stream",
          "text": [
            "79/79 [==============================] - 161s 2s/step - loss: 0.6943 - accuracy: 0.8112\n"
          ]
        }
      ],
      "source": [
        "loaded_weights_model_results = model_2.evaluate(test_data)"
      ]
    },
    {
      "cell_type": "code",
      "execution_count": null,
      "metadata": {
        "colab": {
          "background_save": true
        },
        "id": "w0ZhPLV69AeJ",
        "outputId": "807dafae-7947-4361-821e-aa416ff381b5"
      },
      "outputs": [
        {
          "data": {
            "text/plain": [
              "False"
            ]
          },
          "execution_count": 42,
          "metadata": {},
          "output_type": "execute_result"
        }
      ],
      "source": [
        "# If the results from previously evaluated model_2 matches the loaded weights, everything has worked!\n",
        "results_10_percent_data_aug==loaded_weights_model_results"
      ]
    },
    {
      "cell_type": "code",
      "execution_count": null,
      "metadata": {
        "colab": {
          "background_save": true
        },
        "id": "GQv1X0AA9qHR",
        "outputId": "9a11d1d3-ba23-4f90-848b-c9f6847654ec"
      },
      "outputs": [
        {
          "data": {
            "text/plain": [
              "[0.694343626499176, 0.8112000226974487]"
            ]
          },
          "execution_count": 43,
          "metadata": {},
          "output_type": "execute_result"
        }
      ],
      "source": [
        "results_10_percent_data_aug"
      ]
    },
    {
      "cell_type": "code",
      "execution_count": null,
      "metadata": {
        "colab": {
          "background_save": true
        },
        "id": "tyWKt1Tw9wao",
        "outputId": "a884a13e-01e3-403d-b37d-1c355f08be92"
      },
      "outputs": [
        {
          "data": {
            "text/plain": [
              "[0.6943436861038208, 0.8112000226974487]"
            ]
          },
          "execution_count": 44,
          "metadata": {},
          "output_type": "execute_result"
        }
      ],
      "source": [
        "loaded_weights_model_results"
      ]
    },
    {
      "cell_type": "code",
      "execution_count": null,
      "metadata": {
        "colab": {
          "background_save": true
        },
        "id": "cnT7PVVl9_fs",
        "outputId": "341ac937-cfc2-4ba6-cdef-1cbb765960c8"
      },
      "outputs": [
        {
          "data": {
            "text/plain": [
              "array([ True,  True])"
            ]
          },
          "execution_count": 45,
          "metadata": {},
          "output_type": "execute_result"
        }
      ],
      "source": [
        "#Check to see if loaded model results are very close to our previous non-loaded model\n",
        "import numpy as np\n",
        "np.isclose(np.array(results_10_percent_data_aug),np.array(loaded_weights_model_results))"
      ]
    },
    {
      "cell_type": "code",
      "execution_count": null,
      "metadata": {
        "colab": {
          "background_save": true
        },
        "id": "cnNHc2Wm-YjB",
        "outputId": "c3f7b07f-fa74-49e7-9a3b-895770c2c616"
      },
      "outputs": [
        {
          "name": "stdout",
          "output_type": "stream",
          "text": [
            "[-5.96046448e-08  0.00000000e+00]\n"
          ]
        }
      ],
      "source": [
        "#Check the difference between the two results\n",
        "print(np.array(results_10_percent_data_aug)-np.array(loaded_weights_model_results))"
      ]
    },
    {
      "cell_type": "markdown",
      "metadata": {
        "id": "D2N7I2l8-pIy"
      },
      "source": [
        "##Model 3: Fine-tuning an existing model on 10% of the data"
      ]
    },
    {
      "cell_type": "markdown",
      "metadata": {
        "id": "lYWyWptGh3pr"
      },
      "source": [
        "> 🔑**Note:** Fine-tuning usually works best *after* a training feature extraction model for a few epochs with large amounts of custom data."
      ]
    },
    {
      "cell_type": "code",
      "execution_count": null,
      "metadata": {
        "colab": {
          "background_save": true
        },
        "id": "mAiybA1Cir7o",
        "outputId": "2ee5265e-dcd2-49b1-97d1-51b1c5a0d0e8"
      },
      "outputs": [
        {
          "data": {
            "text/plain": [
              "[<keras.engine.input_layer.InputLayer at 0x7f4d85322450>,\n",
              " <keras.engine.sequential.Sequential at 0x7f4d85227050>,\n",
              " <keras.engine.functional.Functional at 0x7f4d84aaa410>,\n",
              " <keras.layers.pooling.GlobalAveragePooling2D at 0x7f4d897fcf10>,\n",
              " <keras.layers.core.dense.Dense at 0x7f4d84afc450>]"
            ]
          },
          "execution_count": 47,
          "metadata": {},
          "output_type": "execute_result"
        }
      ],
      "source": [
        "#Layers in loaded model\n",
        "model_2.layers"
      ]
    },
    {
      "cell_type": "code",
      "execution_count": null,
      "metadata": {
        "colab": {
          "background_save": true
        },
        "id": "JcdynfkNjA51",
        "outputId": "ecdaea8d-3a05-4efc-ea29-85357cf2261b"
      },
      "outputs": [
        {
          "name": "stdout",
          "output_type": "stream",
          "text": [
            "<keras.engine.input_layer.InputLayer object at 0x7f4d85322450> True\n",
            "<keras.engine.sequential.Sequential object at 0x7f4d85227050> True\n",
            "<keras.engine.functional.Functional object at 0x7f4d84aaa410> False\n",
            "<keras.layers.pooling.GlobalAveragePooling2D object at 0x7f4d897fcf10> True\n",
            "<keras.layers.core.dense.Dense object at 0x7f4d84afc450> True\n"
          ]
        }
      ],
      "source": [
        "#Are these layers trainable?\n",
        "for layer in model_2.layers:\n",
        "  print(layer, layer.trainable)"
      ]
    },
    {
      "cell_type": "code",
      "execution_count": null,
      "metadata": {
        "colab": {
          "background_save": true
        },
        "id": "3UfKmCIrjJEk",
        "outputId": "1149bfc9-99c9-4d2a-aa38-e20692330a0f"
      },
      "outputs": [
        {
          "name": "stdout",
          "output_type": "stream",
          "text": [
            "0 <keras.engine.input_layer.InputLayer object at 0x7f4d897fcdd0> input_3 False\n",
            "1 <keras.layers.preprocessing.image_preprocessing.Rescaling object at 0x7f4d8504b250> rescaling_3 False\n",
            "2 <keras.layers.preprocessing.normalization.Normalization object at 0x7f4d850b8310> normalization_2 False\n",
            "3 <keras.layers.convolutional.ZeroPadding2D object at 0x7f4d84e23350> stem_conv_pad False\n",
            "4 <keras.layers.convolutional.Conv2D object at 0x7f4e01a12110> stem_conv False\n",
            "5 <keras.layers.normalization.batch_normalization.BatchNormalization object at 0x7f4d84e00510> stem_bn False\n",
            "6 <keras.layers.core.activation.Activation object at 0x7f4d84e3ead0> stem_activation False\n",
            "7 <keras.layers.convolutional.DepthwiseConv2D object at 0x7f4d84e14dd0> block1a_dwconv False\n",
            "8 <keras.layers.normalization.batch_normalization.BatchNormalization object at 0x7f4d84e1e910> block1a_bn False\n",
            "9 <keras.layers.core.activation.Activation object at 0x7f4d8504b890> block1a_activation False\n",
            "10 <keras.layers.pooling.GlobalAveragePooling2D object at 0x7f4d84e1fc10> block1a_se_squeeze False\n",
            "11 <keras.layers.core.reshape.Reshape object at 0x7f4d84f059d0> block1a_se_reshape False\n",
            "12 <keras.layers.convolutional.Conv2D object at 0x7f4d84f19790> block1a_se_reduce False\n",
            "13 <keras.layers.convolutional.Conv2D object at 0x7f4d84f21610> block1a_se_expand False\n",
            "14 <keras.layers.merge.Multiply object at 0x7f4d84eaea50> block1a_se_excite False\n",
            "15 <keras.layers.convolutional.Conv2D object at 0x7f4d84ebea10> block1a_project_conv False\n",
            "16 <keras.layers.normalization.batch_normalization.BatchNormalization object at 0x7f4d84ec3550> block1a_project_bn False\n",
            "17 <keras.layers.convolutional.Conv2D object at 0x7f4d84eca050> block2a_expand_conv False\n",
            "18 <keras.layers.normalization.batch_normalization.BatchNormalization object at 0x7f4d84ed65d0> block2a_expand_bn False\n",
            "19 <keras.layers.core.activation.Activation object at 0x7f4d85361ad0> block2a_expand_activation False\n",
            "20 <keras.layers.convolutional.ZeroPadding2D object at 0x7f4d84eca3d0> block2a_dwconv_pad False\n",
            "21 <keras.layers.convolutional.DepthwiseConv2D object at 0x7f4d85209090> block2a_dwconv False\n",
            "22 <keras.layers.normalization.batch_normalization.BatchNormalization object at 0x7f4d85242690> block2a_bn False\n",
            "23 <keras.layers.core.activation.Activation object at 0x7f4d8520cc50> block2a_activation False\n",
            "24 <keras.layers.pooling.GlobalAveragePooling2D object at 0x7f4d84e652d0> block2a_se_squeeze False\n",
            "25 <keras.layers.core.reshape.Reshape object at 0x7f4d85200710> block2a_se_reshape False\n",
            "26 <keras.layers.convolutional.Conv2D object at 0x7f4d851faa50> block2a_se_reduce False\n",
            "27 <keras.layers.convolutional.Conv2D object at 0x7f4d84e81f90> block2a_se_expand False\n",
            "28 <keras.layers.merge.Multiply object at 0x7f4d84e8d910> block2a_se_excite False\n",
            "29 <keras.layers.convolutional.Conv2D object at 0x7f4d84e81250> block2a_project_conv False\n",
            "30 <keras.layers.normalization.batch_normalization.BatchNormalization object at 0x7f4d84e97490> block2a_project_bn False\n",
            "31 <keras.layers.convolutional.Conv2D object at 0x7f4d84f230d0> block2b_expand_conv False\n",
            "32 <keras.layers.normalization.batch_normalization.BatchNormalization object at 0x7f4d84f29490> block2b_expand_bn False\n",
            "33 <keras.layers.core.activation.Activation object at 0x7f4d84f2d690> block2b_expand_activation False\n",
            "34 <keras.layers.convolutional.DepthwiseConv2D object at 0x7f4d84f40590> block2b_dwconv False\n",
            "35 <keras.layers.normalization.batch_normalization.BatchNormalization object at 0x7f4d84f3ed90> block2b_bn False\n",
            "36 <keras.layers.core.activation.Activation object at 0x7f4d84f4bd90> block2b_activation False\n",
            "37 <keras.layers.pooling.GlobalAveragePooling2D object at 0x7f4d84f5d9d0> block2b_se_squeeze False\n",
            "38 <keras.layers.core.reshape.Reshape object at 0x7f4d84f56e10> block2b_se_reshape False\n",
            "39 <keras.layers.convolutional.Conv2D object at 0x7f4d84f53450> block2b_se_reduce False\n",
            "40 <keras.layers.convolutional.Conv2D object at 0x7f4d84e9d9d0> block2b_se_expand False\n",
            "41 <keras.layers.merge.Multiply object at 0x7f4d84ed6790> block2b_se_excite False\n",
            "42 <keras.layers.convolutional.Conv2D object at 0x7f4d84f56e90> block2b_project_conv False\n",
            "43 <keras.layers.normalization.batch_normalization.BatchNormalization object at 0x7f4d84f19f90> block2b_project_bn False\n",
            "44 <keras.layers.core.dropout.Dropout object at 0x7f4d84e0de10> block2b_drop False\n",
            "45 <keras.layers.merge.Add object at 0x7f4d84e140d0> block2b_add False\n",
            "46 <keras.layers.convolutional.Conv2D object at 0x7f4d84e2e210> block3a_expand_conv False\n",
            "47 <keras.layers.normalization.batch_normalization.BatchNormalization object at 0x7f4d84fea950> block3a_expand_bn False\n",
            "48 <keras.layers.core.activation.Activation object at 0x7f4d84febd10> block3a_expand_activation False\n",
            "49 <keras.layers.convolutional.ZeroPadding2D object at 0x7f4d84feb610> block3a_dwconv_pad False\n",
            "50 <keras.layers.convolutional.DepthwiseConv2D object at 0x7f4d84ff6290> block3a_dwconv False\n",
            "51 <keras.layers.normalization.batch_normalization.BatchNormalization object at 0x7f4d84ff8dd0> block3a_bn False\n",
            "52 <keras.layers.core.activation.Activation object at 0x7f4d84ff8f50> block3a_activation False\n",
            "53 <keras.layers.pooling.GlobalAveragePooling2D object at 0x7f4d84ffc990> block3a_se_squeeze False\n",
            "54 <keras.layers.core.reshape.Reshape object at 0x7f4d85009710> block3a_se_reshape False\n",
            "55 <keras.layers.convolutional.Conv2D object at 0x7f4d84ffc290> block3a_se_reduce False\n",
            "56 <keras.layers.convolutional.Conv2D object at 0x7f4d84fe58d0> block3a_se_expand False\n",
            "57 <keras.layers.merge.Multiply object at 0x7f4d85013790> block3a_se_excite False\n",
            "58 <keras.layers.convolutional.Conv2D object at 0x7f4d8501a290> block3a_project_conv False\n",
            "59 <keras.layers.normalization.batch_normalization.BatchNormalization object at 0x7f4d85013490> block3a_project_bn False\n",
            "60 <keras.layers.convolutional.Conv2D object at 0x7f4d84fa9f90> block3b_expand_conv False\n",
            "61 <keras.layers.normalization.batch_normalization.BatchNormalization object at 0x7f4d84fa3f90> block3b_expand_bn False\n",
            "62 <keras.layers.core.activation.Activation object at 0x7f4d84fc1b10> block3b_expand_activation False\n",
            "63 <keras.layers.convolutional.DepthwiseConv2D object at 0x7f4d84fc1cd0> block3b_dwconv False\n",
            "64 <keras.layers.normalization.batch_normalization.BatchNormalization object at 0x7f4d84fd5a10> block3b_bn False\n",
            "65 <keras.layers.core.activation.Activation object at 0x7f4d84fbec10> block3b_activation False\n",
            "66 <keras.layers.pooling.GlobalAveragePooling2D object at 0x7f4d84fd5750> block3b_se_squeeze False\n",
            "67 <keras.layers.core.reshape.Reshape object at 0x7f4d84fbe290> block3b_se_reshape False\n",
            "68 <keras.layers.convolutional.Conv2D object at 0x7f4d84ffcf50> block3b_se_reduce False\n",
            "69 <keras.layers.convolutional.Conv2D object at 0x7f4d84fb7310> block3b_se_expand False\n",
            "70 <keras.layers.merge.Multiply object at 0x7f4d84f6b850> block3b_se_excite False\n",
            "71 <keras.layers.convolutional.Conv2D object at 0x7f4d84f70890> block3b_project_conv False\n",
            "72 <keras.layers.normalization.batch_normalization.BatchNormalization object at 0x7f4d84f6b690> block3b_project_bn False\n",
            "73 <keras.layers.core.dropout.Dropout object at 0x7f4d84f83fd0> block3b_drop False\n",
            "74 <keras.layers.merge.Add object at 0x7f4d84e0d510> block3b_add False\n",
            "75 <keras.layers.convolutional.Conv2D object at 0x7f4d84f9a2d0> block4a_expand_conv False\n",
            "76 <keras.layers.normalization.batch_normalization.BatchNormalization object at 0x7f4d84f9ad50> block4a_expand_bn False\n",
            "77 <keras.layers.core.activation.Activation object at 0x7f4d84f90210> block4a_expand_activation False\n",
            "78 <keras.layers.convolutional.ZeroPadding2D object at 0x7f4d84da4a50> block4a_dwconv_pad False\n",
            "79 <keras.layers.convolutional.DepthwiseConv2D object at 0x7f4d84dabb50> block4a_dwconv False\n",
            "80 <keras.layers.normalization.batch_normalization.BatchNormalization object at 0x7f4d84f90510> block4a_bn False\n",
            "81 <keras.layers.core.activation.Activation object at 0x7f4d84dabb10> block4a_activation False\n",
            "82 <keras.layers.pooling.GlobalAveragePooling2D object at 0x7f4d84fddc90> block4a_se_squeeze False\n",
            "83 <keras.layers.core.reshape.Reshape object at 0x7f4d84fcd250> block4a_se_reshape False\n",
            "84 <keras.layers.convolutional.Conv2D object at 0x7f4d84f941d0> block4a_se_reduce False\n",
            "85 <keras.layers.convolutional.Conv2D object at 0x7f4d84f812d0> block4a_se_expand False\n",
            "86 <keras.layers.merge.Multiply object at 0x7f4d84fc8050> block4a_se_excite False\n",
            "87 <keras.layers.convolutional.Conv2D object at 0x7f4d84f6bd90> block4a_project_conv False\n",
            "88 <keras.layers.normalization.batch_normalization.BatchNormalization object at 0x7f4d84fc8d50> block4a_project_bn False\n",
            "89 <keras.layers.convolutional.Conv2D object at 0x7f4d84e97b10> block4b_expand_conv False\n",
            "90 <keras.layers.normalization.batch_normalization.BatchNormalization object at 0x7f4d84dab1d0> block4b_expand_bn False\n",
            "91 <keras.layers.core.activation.Activation object at 0x7f4d84f29f90> block4b_expand_activation False\n",
            "92 <keras.layers.convolutional.DepthwiseConv2D object at 0x7f4d84dbf050> block4b_dwconv False\n",
            "93 <keras.layers.normalization.batch_normalization.BatchNormalization object at 0x7f4d84dbfb90> block4b_bn False\n",
            "94 <keras.layers.core.activation.Activation object at 0x7f4d84dc3810> block4b_activation False\n",
            "95 <keras.layers.pooling.GlobalAveragePooling2D object at 0x7f4d84dbf990> block4b_se_squeeze False\n",
            "96 <keras.layers.core.reshape.Reshape object at 0x7f4d84dc3a90> block4b_se_reshape False\n",
            "97 <keras.layers.convolutional.Conv2D object at 0x7f4d84d66f90> block4b_se_reduce False\n",
            "98 <keras.layers.convolutional.Conv2D object at 0x7f4d84db14d0> block4b_se_expand False\n",
            "99 <keras.layers.merge.Multiply object at 0x7f4d84db1e10> block4b_se_excite False\n",
            "100 <keras.layers.convolutional.Conv2D object at 0x7f4d84db9b90> block4b_project_conv False\n",
            "101 <keras.layers.normalization.batch_normalization.BatchNormalization object at 0x7f4d84d661d0> block4b_project_bn False\n",
            "102 <keras.layers.core.dropout.Dropout object at 0x7f4d84d82fd0> block4b_drop False\n",
            "103 <keras.layers.merge.Add object at 0x7f4d84d82e10> block4b_add False\n",
            "104 <keras.layers.convolutional.Conv2D object at 0x7f4d84d82ed0> block4c_expand_conv False\n",
            "105 <keras.layers.normalization.batch_normalization.BatchNormalization object at 0x7f4d84dd3290> block4c_expand_bn False\n",
            "106 <keras.layers.core.activation.Activation object at 0x7f4d84d6e110> block4c_expand_activation False\n",
            "107 <keras.layers.convolutional.DepthwiseConv2D object at 0x7f4d84d94150> block4c_dwconv False\n",
            "108 <keras.layers.normalization.batch_normalization.BatchNormalization object at 0x7f4d84dcb7d0> block4c_bn False\n",
            "109 <keras.layers.core.activation.Activation object at 0x7f4d84d65310> block4c_activation False\n",
            "110 <keras.layers.pooling.GlobalAveragePooling2D object at 0x7f4d84d253d0> block4c_se_squeeze False\n",
            "111 <keras.layers.core.reshape.Reshape object at 0x7f4d84d2f190> block4c_se_reshape False\n",
            "112 <keras.layers.convolutional.Conv2D object at 0x7f4d84d2f610> block4c_se_reduce False\n",
            "113 <keras.layers.convolutional.Conv2D object at 0x7f4d84f7be50> block4c_se_expand False\n",
            "114 <keras.layers.merge.Multiply object at 0x7f4d84d40cd0> block4c_se_excite False\n",
            "115 <keras.layers.convolutional.Conv2D object at 0x7f4d84d40f50> block4c_project_conv False\n",
            "116 <keras.layers.normalization.batch_normalization.BatchNormalization object at 0x7f4d84d40b10> block4c_project_bn False\n",
            "117 <keras.layers.core.dropout.Dropout object at 0x7f4d84d59c90> block4c_drop False\n",
            "118 <keras.layers.merge.Add object at 0x7f4d84d5f390> block4c_add False\n",
            "119 <keras.layers.convolutional.Conv2D object at 0x7f4d84d4e450> block5a_expand_conv False\n",
            "120 <keras.layers.normalization.batch_normalization.BatchNormalization object at 0x7f4d84d45d90> block5a_expand_bn False\n",
            "121 <keras.layers.core.activation.Activation object at 0x7f4d84cf1bd0> block5a_expand_activation False\n",
            "122 <keras.layers.convolutional.DepthwiseConv2D object at 0x7f4d84d540d0> block5a_dwconv False\n",
            "123 <keras.layers.normalization.batch_normalization.BatchNormalization object at 0x7f4d84d2f1d0> block5a_bn False\n",
            "124 <keras.layers.core.activation.Activation object at 0x7f4d84d5f690> block5a_activation False\n",
            "125 <keras.layers.pooling.GlobalAveragePooling2D object at 0x7f4d84d5f810> block5a_se_squeeze False\n",
            "126 <keras.layers.core.reshape.Reshape object at 0x7f4d84d54b50> block5a_se_reshape False\n",
            "127 <keras.layers.convolutional.Conv2D object at 0x7f4d84d2f150> block5a_se_reduce False\n",
            "128 <keras.layers.convolutional.Conv2D object at 0x7f4d84d4e910> block5a_se_expand False\n",
            "129 <keras.layers.merge.Multiply object at 0x7f4d84eb6510> block5a_se_excite False\n",
            "130 <keras.layers.convolutional.Conv2D object at 0x7f4d84d34a50> block5a_project_conv False\n",
            "131 <keras.layers.normalization.batch_normalization.BatchNormalization object at 0x7f4d84db1a50> block5a_project_bn False\n",
            "132 <keras.layers.convolutional.Conv2D object at 0x7f4d84cf5fd0> block5b_expand_conv False\n",
            "133 <keras.layers.normalization.batch_normalization.BatchNormalization object at 0x7f4d84d0ff50> block5b_expand_bn False\n",
            "134 <keras.layers.core.activation.Activation object at 0x7f4d84d0fd90> block5b_expand_activation False\n",
            "135 <keras.layers.convolutional.DepthwiseConv2D object at 0x7f4d84d0ff90> block5b_dwconv False\n",
            "136 <keras.layers.normalization.batch_normalization.BatchNormalization object at 0x7f4d84ca4c50> block5b_bn False\n",
            "137 <keras.layers.core.activation.Activation object at 0x7f4d84d10b50> block5b_activation False\n",
            "138 <keras.layers.pooling.GlobalAveragePooling2D object at 0x7f4d84ca4990> block5b_se_squeeze False\n",
            "139 <keras.layers.core.reshape.Reshape object at 0x7f4d84d10910> block5b_se_reshape False\n",
            "140 <keras.layers.convolutional.Conv2D object at 0x7f4d84caec10> block5b_se_reduce False\n",
            "141 <keras.layers.convolutional.Conv2D object at 0x7f4d84d09590> block5b_se_expand False\n",
            "142 <keras.layers.merge.Multiply object at 0x7f4d84cb98d0> block5b_se_excite False\n",
            "143 <keras.layers.convolutional.Conv2D object at 0x7f4d84cb9290> block5b_project_conv False\n",
            "144 <keras.layers.normalization.batch_normalization.BatchNormalization object at 0x7f4d84cb9a90> block5b_project_bn False\n",
            "145 <keras.layers.core.dropout.Dropout object at 0x7f4d84cd5190> block5b_drop False\n",
            "146 <keras.layers.merge.Add object at 0x7f4d84d54690> block5b_add False\n",
            "147 <keras.layers.convolutional.Conv2D object at 0x7f4d84ce5590> block5c_expand_conv False\n",
            "148 <keras.layers.normalization.batch_normalization.BatchNormalization object at 0x7f4d84ccbf10> block5c_expand_bn False\n",
            "149 <keras.layers.core.activation.Activation object at 0x7f4d84c65610> block5c_expand_activation False\n",
            "150 <keras.layers.convolutional.DepthwiseConv2D object at 0x7f4d84cd9a10> block5c_dwconv False\n",
            "151 <keras.layers.normalization.batch_normalization.BatchNormalization object at 0x7f4d84ca4f50> block5c_bn False\n",
            "152 <keras.layers.core.activation.Activation object at 0x7f4d84c7ad50> block5c_activation False\n",
            "153 <keras.layers.pooling.GlobalAveragePooling2D object at 0x7f4d84c8e610> block5c_se_squeeze False\n",
            "154 <keras.layers.core.reshape.Reshape object at 0x7f4d84ca4a10> block5c_se_reshape False\n",
            "155 <keras.layers.convolutional.Conv2D object at 0x7f4d84c8e350> block5c_se_reduce False\n",
            "156 <keras.layers.convolutional.Conv2D object at 0x7f4d84cc4510> block5c_se_expand False\n",
            "157 <keras.layers.merge.Multiply object at 0x7f4d84c9c490> block5c_se_excite False\n",
            "158 <keras.layers.convolutional.Conv2D object at 0x7f4d84c7db10> block5c_project_conv False\n",
            "159 <keras.layers.normalization.batch_normalization.BatchNormalization object at 0x7f4d84c26a50> block5c_project_bn False\n",
            "160 <keras.layers.core.dropout.Dropout object at 0x7f4d84c36150> block5c_drop False\n",
            "161 <keras.layers.merge.Add object at 0x7f4d84c360d0> block5c_add False\n",
            "162 <keras.layers.convolutional.Conv2D object at 0x7f4d84c2a250> block6a_expand_conv False\n",
            "163 <keras.layers.normalization.batch_normalization.BatchNormalization object at 0x7f4d84c95e50> block6a_expand_bn False\n",
            "164 <keras.layers.core.activation.Activation object at 0x7f4d84cae190> block6a_expand_activation False\n",
            "165 <keras.layers.convolutional.ZeroPadding2D object at 0x7f4d84f21450> block6a_dwconv_pad False\n",
            "166 <keras.layers.convolutional.DepthwiseConv2D object at 0x7f4d84cb0910> block6a_dwconv False\n",
            "167 <keras.layers.normalization.batch_normalization.BatchNormalization object at 0x7f4d84d82210> block6a_bn False\n",
            "168 <keras.layers.core.activation.Activation object at 0x7f4d84dd3510> block6a_activation False\n",
            "169 <keras.layers.pooling.GlobalAveragePooling2D object at 0x7f4d84d2f110> block6a_se_squeeze False\n",
            "170 <keras.layers.core.reshape.Reshape object at 0x7f4d84d854d0> block6a_se_reshape False\n",
            "171 <keras.layers.convolutional.Conv2D object at 0x7f4d84c6c3d0> block6a_se_reduce False\n",
            "172 <keras.layers.convolutional.Conv2D object at 0x7f4d84c7da50> block6a_se_expand False\n",
            "173 <keras.layers.merge.Multiply object at 0x7f4d84c519d0> block6a_se_excite False\n",
            "174 <keras.layers.convolutional.Conv2D object at 0x7f4d84c89f10> block6a_project_conv False\n",
            "175 <keras.layers.normalization.batch_normalization.BatchNormalization object at 0x7f4d84c4d310> block6a_project_bn False\n",
            "176 <keras.layers.convolutional.Conv2D object at 0x7f4d84c5be10> block6b_expand_conv False\n",
            "177 <keras.layers.normalization.batch_normalization.BatchNormalization object at 0x7f4d84bf9c50> block6b_expand_bn False\n",
            "178 <keras.layers.core.activation.Activation object at 0x7f4d84bf0910> block6b_expand_activation False\n",
            "179 <keras.layers.convolutional.DepthwiseConv2D object at 0x7f4d84bec5d0> block6b_dwconv False\n",
            "180 <keras.layers.normalization.batch_normalization.BatchNormalization object at 0x7f4d84c53ad0> block6b_bn False\n",
            "181 <keras.layers.core.activation.Activation object at 0x7f4d84bf5c50> block6b_activation False\n",
            "182 <keras.layers.pooling.GlobalAveragePooling2D object at 0x7f4d84c0da10> block6b_se_squeeze False\n",
            "183 <keras.layers.core.reshape.Reshape object at 0x7f4d84bf0050> block6b_se_reshape False\n",
            "184 <keras.layers.convolutional.Conv2D object at 0x7f4d84dd3110> block6b_se_reduce False\n",
            "185 <keras.layers.convolutional.Conv2D object at 0x7f4d84bf0350> block6b_se_expand False\n",
            "186 <keras.layers.merge.Multiply object at 0x7f4d84ba56d0> block6b_se_excite False\n",
            "187 <keras.layers.convolutional.Conv2D object at 0x7f4d84c1bed0> block6b_project_conv False\n",
            "188 <keras.layers.normalization.batch_normalization.BatchNormalization object at 0x7f4d84ba5b50> block6b_project_bn False\n",
            "189 <keras.layers.core.dropout.Dropout object at 0x7f4d84bbe910> block6b_drop False\n",
            "190 <keras.layers.merge.Add object at 0x7f4d84c36450> block6b_add False\n",
            "191 <keras.layers.convolutional.Conv2D object at 0x7f4d84bce910> block6c_expand_conv False\n",
            "192 <keras.layers.normalization.batch_normalization.BatchNormalization object at 0x7f4d84bb5fd0> block6c_expand_bn False\n",
            "193 <keras.layers.core.activation.Activation object at 0x7f4d84bc79d0> block6c_expand_activation False\n",
            "194 <keras.layers.convolutional.DepthwiseConv2D object at 0x7f4d84bca8d0> block6c_dwconv False\n",
            "195 <keras.layers.normalization.batch_normalization.BatchNormalization object at 0x7f4d84c0dfd0> block6c_bn False\n",
            "196 <keras.layers.core.activation.Activation object at 0x7f4d84bca990> block6c_activation False\n",
            "197 <keras.layers.pooling.GlobalAveragePooling2D object at 0x7f4d84bb9910> block6c_se_squeeze False\n",
            "198 <keras.layers.core.reshape.Reshape object at 0x7f4d84c0dd10> block6c_se_reshape False\n",
            "199 <keras.layers.convolutional.Conv2D object at 0x7f4d84b751d0> block6c_se_reduce False\n",
            "200 <keras.layers.convolutional.Conv2D object at 0x7f4d84bd7550> block6c_se_expand False\n",
            "201 <keras.layers.merge.Multiply object at 0x7f4d84b773d0> block6c_se_excite False\n",
            "202 <keras.layers.convolutional.Conv2D object at 0x7f4d84b83590> block6c_project_conv False\n",
            "203 <keras.layers.normalization.batch_normalization.BatchNormalization object at 0x7f4d84bd56d0> block6c_project_bn False\n",
            "204 <keras.layers.core.dropout.Dropout object at 0x7f4d84bf9590> block6c_drop False\n",
            "205 <keras.layers.merge.Add object at 0x7f4d84bf5910> block6c_add False\n",
            "206 <keras.layers.convolutional.Conv2D object at 0x7f4d84bf9110> block6d_expand_conv False\n",
            "207 <keras.layers.normalization.batch_normalization.BatchNormalization object at 0x7f4d84bd7250> block6d_expand_bn False\n",
            "208 <keras.layers.core.activation.Activation object at 0x7f4d84c011d0> block6d_expand_activation False\n",
            "209 <keras.layers.convolutional.DepthwiseConv2D object at 0x7f4d84c3a8d0> block6d_dwconv False\n",
            "210 <keras.layers.normalization.batch_normalization.BatchNormalization object at 0x7f4d84bd72d0> block6d_bn False\n",
            "211 <keras.layers.core.activation.Activation object at 0x7f4d84bce590> block6d_activation False\n",
            "212 <keras.layers.pooling.GlobalAveragePooling2D object at 0x7f4d84b93bd0> block6d_se_squeeze False\n",
            "213 <keras.layers.core.reshape.Reshape object at 0x7f4d84b9c6d0> block6d_se_reshape False\n",
            "214 <keras.layers.convolutional.Conv2D object at 0x7f4d84b6bf90> block6d_se_reduce False\n",
            "215 <keras.layers.convolutional.Conv2D object at 0x7f4d84c53610> block6d_se_expand False\n",
            "216 <keras.layers.merge.Multiply object at 0x7f4d84b2d410> block6d_se_excite False\n",
            "217 <keras.layers.convolutional.Conv2D object at 0x7f4d84b2a990> block6d_project_conv False\n",
            "218 <keras.layers.normalization.batch_normalization.BatchNormalization object at 0x7f4d84b75e90> block6d_project_bn False\n",
            "219 <keras.layers.core.dropout.Dropout object at 0x7f4d84b3bd10> block6d_drop False\n",
            "220 <keras.layers.merge.Add object at 0x7f4d84b40690> block6d_add False\n",
            "221 <keras.layers.convolutional.Conv2D object at 0x7f4d84b39e10> block7a_expand_conv False\n",
            "222 <keras.layers.normalization.batch_normalization.BatchNormalization object at 0x7f4d84b56590> block7a_expand_bn False\n",
            "223 <keras.layers.core.activation.Activation object at 0x7f4d84b561d0> block7a_expand_activation False\n",
            "224 <keras.layers.convolutional.DepthwiseConv2D object at 0x7f4d84b4e210> block7a_dwconv False\n",
            "225 <keras.layers.normalization.batch_normalization.BatchNormalization object at 0x7f4d84b5c310> block7a_bn False\n",
            "226 <keras.layers.core.activation.Activation object at 0x7f4d84b39fd0> block7a_activation False\n",
            "227 <keras.layers.pooling.GlobalAveragePooling2D object at 0x7f4d84aed250> block7a_se_squeeze False\n",
            "228 <keras.layers.core.reshape.Reshape object at 0x7f4d84b5d350> block7a_se_reshape False\n",
            "229 <keras.layers.convolutional.Conv2D object at 0x7f4d84b9c890> block7a_se_reduce False\n",
            "230 <keras.layers.convolutional.Conv2D object at 0x7f4d84b39c90> block7a_se_expand False\n",
            "231 <keras.layers.merge.Multiply object at 0x7f4d84b0cc10> block7a_se_excite False\n",
            "232 <keras.layers.convolutional.Conv2D object at 0x7f4d84b2a510> block7a_project_conv False\n",
            "233 <keras.layers.normalization.batch_normalization.BatchNormalization object at 0x7f4d84b01e50> block7a_project_bn False\n",
            "234 <keras.layers.convolutional.Conv2D object at 0x7f4d84e0aad0> top_conv False\n",
            "235 <keras.layers.normalization.batch_normalization.BatchNormalization object at 0x7f4d84b137d0> top_bn False\n",
            "236 <keras.layers.core.activation.Activation object at 0x7f4d84aaa490> top_activation False\n"
          ]
        }
      ],
      "source": [
        "#What layers are in our base_model (EfficentNetB0) and are they trainable?\n",
        "\n",
        "for i,layer in enumerate(model_2.layers[2].layers):\n",
        "  print(i, layer, layer.name, layer.trainable)"
      ]
    },
    {
      "cell_type": "code",
      "execution_count": null,
      "metadata": {
        "colab": {
          "background_save": true
        },
        "id": "R8ZP51LLjVmh",
        "outputId": "959eb464-67b1-49de-a19e-a9b6545ba28f"
      },
      "outputs": [
        {
          "name": "stdout",
          "output_type": "stream",
          "text": [
            "0\n"
          ]
        }
      ],
      "source": [
        "#How many trainable variables are in our base model?\n",
        "print(len(model_2.layers[2].trainable_variables))"
      ]
    },
    {
      "cell_type": "code",
      "execution_count": null,
      "metadata": {
        "colab": {
          "background_save": true
        },
        "id": "Cx1M6IhakF3E",
        "outputId": "81143344-de27-43f3-ce5d-b093ea6e1d39"
      },
      "outputs": [
        {
          "name": "stderr",
          "output_type": "stream",
          "text": [
            "/usr/local/lib/python3.7/dist-packages/keras/optimizer_v2/adam.py:105: UserWarning: The `lr` argument is deprecated, use `learning_rate` instead.\n",
            "  super(Adam, self).__init__(name, **kwargs)\n"
          ]
        }
      ],
      "source": [
        "#To begin Fine-tuning let's begin by setting the last 10 layers of our base_model.trainable=True\n",
        "base_model.trainable=True\n",
        "\n",
        "#Freeze all layers except the last 10\n",
        "for layer in base_model.layers[:-10]:\n",
        "  layer.trainable=False\n",
        "\n",
        "#Recompile (er have to recompile our models every time we make a change)\n",
        "model_2.compile(loss=\"categorical_crossentropy\",\n",
        "                optimizer = tf.keras.optimizers.Adam(lr=0.0001), #when fine-tuning you typically want to lower the learning rate b y 10X\n",
        "                metrics=[\"accuracy\"])"
      ]
    },
    {
      "cell_type": "markdown",
      "metadata": {
        "id": "dFVXGE4aljMf"
      },
      "source": [
        "> 🔑 **Note:** When using fine-tuning it's best practice to lower your learning rate by some amount, How much? This is a hyperparameter you can tune. But a good rule of thumb is atleast 10x (though different sources will claim different values).... because you don't want your model to drastically change already learned patterns i.e. you don't want it to overfit."
      ]
    },
    {
      "cell_type": "code",
      "execution_count": null,
      "metadata": {
        "colab": {
          "background_save": true
        },
        "id": "Z7bWAPWilSoc",
        "outputId": "5d878a13-9051-40a6-eb39-d946fc9aacaa"
      },
      "outputs": [
        {
          "name": "stdout",
          "output_type": "stream",
          "text": [
            "0 input_3 False\n",
            "1 rescaling_3 False\n",
            "2 normalization_2 False\n",
            "3 stem_conv_pad False\n",
            "4 stem_conv False\n",
            "5 stem_bn False\n",
            "6 stem_activation False\n",
            "7 block1a_dwconv False\n",
            "8 block1a_bn False\n",
            "9 block1a_activation False\n",
            "10 block1a_se_squeeze False\n",
            "11 block1a_se_reshape False\n",
            "12 block1a_se_reduce False\n",
            "13 block1a_se_expand False\n",
            "14 block1a_se_excite False\n",
            "15 block1a_project_conv False\n",
            "16 block1a_project_bn False\n",
            "17 block2a_expand_conv False\n",
            "18 block2a_expand_bn False\n",
            "19 block2a_expand_activation False\n",
            "20 block2a_dwconv_pad False\n",
            "21 block2a_dwconv False\n",
            "22 block2a_bn False\n",
            "23 block2a_activation False\n",
            "24 block2a_se_squeeze False\n",
            "25 block2a_se_reshape False\n",
            "26 block2a_se_reduce False\n",
            "27 block2a_se_expand False\n",
            "28 block2a_se_excite False\n",
            "29 block2a_project_conv False\n",
            "30 block2a_project_bn False\n",
            "31 block2b_expand_conv False\n",
            "32 block2b_expand_bn False\n",
            "33 block2b_expand_activation False\n",
            "34 block2b_dwconv False\n",
            "35 block2b_bn False\n",
            "36 block2b_activation False\n",
            "37 block2b_se_squeeze False\n",
            "38 block2b_se_reshape False\n",
            "39 block2b_se_reduce False\n",
            "40 block2b_se_expand False\n",
            "41 block2b_se_excite False\n",
            "42 block2b_project_conv False\n",
            "43 block2b_project_bn False\n",
            "44 block2b_drop False\n",
            "45 block2b_add False\n",
            "46 block3a_expand_conv False\n",
            "47 block3a_expand_bn False\n",
            "48 block3a_expand_activation False\n",
            "49 block3a_dwconv_pad False\n",
            "50 block3a_dwconv False\n",
            "51 block3a_bn False\n",
            "52 block3a_activation False\n",
            "53 block3a_se_squeeze False\n",
            "54 block3a_se_reshape False\n",
            "55 block3a_se_reduce False\n",
            "56 block3a_se_expand False\n",
            "57 block3a_se_excite False\n",
            "58 block3a_project_conv False\n",
            "59 block3a_project_bn False\n",
            "60 block3b_expand_conv False\n",
            "61 block3b_expand_bn False\n",
            "62 block3b_expand_activation False\n",
            "63 block3b_dwconv False\n",
            "64 block3b_bn False\n",
            "65 block3b_activation False\n",
            "66 block3b_se_squeeze False\n",
            "67 block3b_se_reshape False\n",
            "68 block3b_se_reduce False\n",
            "69 block3b_se_expand False\n",
            "70 block3b_se_excite False\n",
            "71 block3b_project_conv False\n",
            "72 block3b_project_bn False\n",
            "73 block3b_drop False\n",
            "74 block3b_add False\n",
            "75 block4a_expand_conv False\n",
            "76 block4a_expand_bn False\n",
            "77 block4a_expand_activation False\n",
            "78 block4a_dwconv_pad False\n",
            "79 block4a_dwconv False\n",
            "80 block4a_bn False\n",
            "81 block4a_activation False\n",
            "82 block4a_se_squeeze False\n",
            "83 block4a_se_reshape False\n",
            "84 block4a_se_reduce False\n",
            "85 block4a_se_expand False\n",
            "86 block4a_se_excite False\n",
            "87 block4a_project_conv False\n",
            "88 block4a_project_bn False\n",
            "89 block4b_expand_conv False\n",
            "90 block4b_expand_bn False\n",
            "91 block4b_expand_activation False\n",
            "92 block4b_dwconv False\n",
            "93 block4b_bn False\n",
            "94 block4b_activation False\n",
            "95 block4b_se_squeeze False\n",
            "96 block4b_se_reshape False\n",
            "97 block4b_se_reduce False\n",
            "98 block4b_se_expand False\n",
            "99 block4b_se_excite False\n",
            "100 block4b_project_conv False\n",
            "101 block4b_project_bn False\n",
            "102 block4b_drop False\n",
            "103 block4b_add False\n",
            "104 block4c_expand_conv False\n",
            "105 block4c_expand_bn False\n",
            "106 block4c_expand_activation False\n",
            "107 block4c_dwconv False\n",
            "108 block4c_bn False\n",
            "109 block4c_activation False\n",
            "110 block4c_se_squeeze False\n",
            "111 block4c_se_reshape False\n",
            "112 block4c_se_reduce False\n",
            "113 block4c_se_expand False\n",
            "114 block4c_se_excite False\n",
            "115 block4c_project_conv False\n",
            "116 block4c_project_bn False\n",
            "117 block4c_drop False\n",
            "118 block4c_add False\n",
            "119 block5a_expand_conv False\n",
            "120 block5a_expand_bn False\n",
            "121 block5a_expand_activation False\n",
            "122 block5a_dwconv False\n",
            "123 block5a_bn False\n",
            "124 block5a_activation False\n",
            "125 block5a_se_squeeze False\n",
            "126 block5a_se_reshape False\n",
            "127 block5a_se_reduce False\n",
            "128 block5a_se_expand False\n",
            "129 block5a_se_excite False\n",
            "130 block5a_project_conv False\n",
            "131 block5a_project_bn False\n",
            "132 block5b_expand_conv False\n",
            "133 block5b_expand_bn False\n",
            "134 block5b_expand_activation False\n",
            "135 block5b_dwconv False\n",
            "136 block5b_bn False\n",
            "137 block5b_activation False\n",
            "138 block5b_se_squeeze False\n",
            "139 block5b_se_reshape False\n",
            "140 block5b_se_reduce False\n",
            "141 block5b_se_expand False\n",
            "142 block5b_se_excite False\n",
            "143 block5b_project_conv False\n",
            "144 block5b_project_bn False\n",
            "145 block5b_drop False\n",
            "146 block5b_add False\n",
            "147 block5c_expand_conv False\n",
            "148 block5c_expand_bn False\n",
            "149 block5c_expand_activation False\n",
            "150 block5c_dwconv False\n",
            "151 block5c_bn False\n",
            "152 block5c_activation False\n",
            "153 block5c_se_squeeze False\n",
            "154 block5c_se_reshape False\n",
            "155 block5c_se_reduce False\n",
            "156 block5c_se_expand False\n",
            "157 block5c_se_excite False\n",
            "158 block5c_project_conv False\n",
            "159 block5c_project_bn False\n",
            "160 block5c_drop False\n",
            "161 block5c_add False\n",
            "162 block6a_expand_conv False\n",
            "163 block6a_expand_bn False\n",
            "164 block6a_expand_activation False\n",
            "165 block6a_dwconv_pad False\n",
            "166 block6a_dwconv False\n",
            "167 block6a_bn False\n",
            "168 block6a_activation False\n",
            "169 block6a_se_squeeze False\n",
            "170 block6a_se_reshape False\n",
            "171 block6a_se_reduce False\n",
            "172 block6a_se_expand False\n",
            "173 block6a_se_excite False\n",
            "174 block6a_project_conv False\n",
            "175 block6a_project_bn False\n",
            "176 block6b_expand_conv False\n",
            "177 block6b_expand_bn False\n",
            "178 block6b_expand_activation False\n",
            "179 block6b_dwconv False\n",
            "180 block6b_bn False\n",
            "181 block6b_activation False\n",
            "182 block6b_se_squeeze False\n",
            "183 block6b_se_reshape False\n",
            "184 block6b_se_reduce False\n",
            "185 block6b_se_expand False\n",
            "186 block6b_se_excite False\n",
            "187 block6b_project_conv False\n",
            "188 block6b_project_bn False\n",
            "189 block6b_drop False\n",
            "190 block6b_add False\n",
            "191 block6c_expand_conv False\n",
            "192 block6c_expand_bn False\n",
            "193 block6c_expand_activation False\n",
            "194 block6c_dwconv False\n",
            "195 block6c_bn False\n",
            "196 block6c_activation False\n",
            "197 block6c_se_squeeze False\n",
            "198 block6c_se_reshape False\n",
            "199 block6c_se_reduce False\n",
            "200 block6c_se_expand False\n",
            "201 block6c_se_excite False\n",
            "202 block6c_project_conv False\n",
            "203 block6c_project_bn False\n",
            "204 block6c_drop False\n",
            "205 block6c_add False\n",
            "206 block6d_expand_conv False\n",
            "207 block6d_expand_bn False\n",
            "208 block6d_expand_activation False\n",
            "209 block6d_dwconv False\n",
            "210 block6d_bn False\n",
            "211 block6d_activation False\n",
            "212 block6d_se_squeeze False\n",
            "213 block6d_se_reshape False\n",
            "214 block6d_se_reduce False\n",
            "215 block6d_se_expand False\n",
            "216 block6d_se_excite False\n",
            "217 block6d_project_conv False\n",
            "218 block6d_project_bn False\n",
            "219 block6d_drop False\n",
            "220 block6d_add False\n",
            "221 block7a_expand_conv False\n",
            "222 block7a_expand_bn False\n",
            "223 block7a_expand_activation False\n",
            "224 block7a_dwconv False\n",
            "225 block7a_bn False\n",
            "226 block7a_activation False\n",
            "227 block7a_se_squeeze True\n",
            "228 block7a_se_reshape True\n",
            "229 block7a_se_reduce True\n",
            "230 block7a_se_expand True\n",
            "231 block7a_se_excite True\n",
            "232 block7a_project_conv True\n",
            "233 block7a_project_bn True\n",
            "234 top_conv True\n",
            "235 top_bn True\n",
            "236 top_activation True\n"
          ]
        }
      ],
      "source": [
        "#Check which layers are tunable (trainable):\n",
        "for layer_number, layer in enumerate(model_2.layers[2].layers):\n",
        "  print(layer_number, layer.name, layer.trainable)"
      ]
    },
    {
      "cell_type": "code",
      "execution_count": null,
      "metadata": {
        "colab": {
          "background_save": true
        },
        "id": "VaPnnGc1m5sk",
        "outputId": "342e4b3c-beba-42a2-a551-d1659ef260b4"
      },
      "outputs": [
        {
          "name": "stdout",
          "output_type": "stream",
          "text": [
            "12\n"
          ]
        }
      ],
      "source": [
        "#Now we've unfrozen some of the layers closer to the top, how many unfrozen variables are there?\n",
        "print(len(model_2.trainable_variables))"
      ]
    },
    {
      "cell_type": "code",
      "execution_count": null,
      "metadata": {
        "colab": {
          "background_save": true
        },
        "id": "JsU9YvQGnSWe",
        "outputId": "1bd3ae34-0bf3-4e35-c2c8-af7d09fa7ba6"
      },
      "outputs": [
        {
          "name": "stdout",
          "output_type": "stream",
          "text": [
            "Saving TensorBoard log files to: transfer_learning/10_percent_fine_tune_last_10/20220928-130947\n",
            "Epoch 5/10\n",
            "24/24 [==============================] - 110s 4s/step - loss: 0.6732 - accuracy: 0.8053 - val_loss: 0.5454 - val_accuracy: 0.8306\n",
            "Epoch 6/10\n",
            "24/24 [==============================] - 99s 4s/step - loss: 0.5680 - accuracy: 0.8200 - val_loss: 0.5254 - val_accuracy: 0.8257\n",
            "Epoch 7/10\n",
            "24/24 [==============================] - 104s 4s/step - loss: 0.4963 - accuracy: 0.8440 - val_loss: 0.5186 - val_accuracy: 0.8257\n",
            "Epoch 8/10\n",
            "24/24 [==============================] - 104s 4s/step - loss: 0.4111 - accuracy: 0.8720 - val_loss: 0.5142 - val_accuracy: 0.8257\n",
            "Epoch 9/10\n",
            "24/24 [==============================] - 100s 4s/step - loss: 0.4031 - accuracy: 0.8787 - val_loss: 0.4715 - val_accuracy: 0.8339\n",
            "Epoch 10/10\n",
            "24/24 [==============================] - 144s 6s/step - loss: 0.3766 - accuracy: 0.8893 - val_loss: 0.5020 - val_accuracy: 0.8257\n"
          ]
        }
      ],
      "source": [
        "#Fine tune for another 5 epochs\n",
        "fine_tune_epochs = 10\n",
        "\n",
        "#Refit the model (same as model_2 except with more trainable layers)\n",
        "history_fine_10_percent_data_aug = model_2.fit(train_data_10_percent,\n",
        "                                               epochs=fine_tune_epochs,\n",
        "                                               validation_data=test_data,\n",
        "                                               validation_steps=int(0.25*len(test_data)),\n",
        "                                               initial_epoch= history_10_percent_data_aug.epoch[-1], #start training from previous last epoch\n",
        "                                               callbacks=[create_tensorboard_callback(\n",
        "                                                   dir_name=\"transfer_learning\",\n",
        "                                                   experiment_name=\"10_percent_fine_tune_last_10\"\n",
        "                                               )])"
      ]
    },
    {
      "cell_type": "code",
      "execution_count": null,
      "metadata": {
        "colab": {
          "background_save": true
        },
        "id": "Q1P-tSjTqpnh",
        "outputId": "786ce1b9-8608-4457-fd27-216c86ffe469"
      },
      "outputs": [
        {
          "name": "stdout",
          "output_type": "stream",
          "text": [
            "79/79 [==============================] - 183s 2s/step - loss: 0.4844 - accuracy: 0.8384\n"
          ]
        }
      ],
      "source": [
        "#Evaluate the fine-tuned model (model_3 which is actually model_2 fine-tuned for another 5 epochs)\n",
        "results_fine_tune_10_percent=model_2.evaluate(test_data)"
      ]
    },
    {
      "cell_type": "code",
      "execution_count": null,
      "metadata": {
        "colab": {
          "background_save": true
        },
        "id": "Mvzz9IxlrN98",
        "outputId": "b3f549c2-b7aa-4ff3-f370-235f6e99f08e"
      },
      "outputs": [
        {
          "data": {
            "text/plain": [
              "[0.694343626499176, 0.8112000226974487]"
            ]
          },
          "execution_count": 56,
          "metadata": {},
          "output_type": "execute_result"
        }
      ],
      "source": [
        "results_10_percent_data_aug"
      ]
    },
    {
      "cell_type": "code",
      "execution_count": null,
      "metadata": {
        "colab": {
          "background_save": true
        },
        "id": "Opi4h7B7rf46",
        "outputId": "2eebcbb0-d814-442e-b39c-c313a3148c19"
      },
      "outputs": [
        {
          "data": {
            "image/png": "[encoded data removed]",
            "text/plain": [
              "<Figure size 432x288 with 1 Axes>"
            ]
          },
          "metadata": {},
          "output_type": "display_data"
        },
        {
          "data": {
            "image/png": "[encoded data removed]",
            "text/plain": [
              "<Figure size 432x288 with 1 Axes>"
            ]
          },
          "metadata": {},
          "output_type": "display_data"
        }
      ],
      "source": [
        "#Check out the loss curves of our fine-tuned model\n",
        "plot_loss_curves(history_fine_10_percent_data_aug)"
      ]
    },
    {
      "cell_type": "markdown",
      "metadata": {
        "id": "MM9BgTpYsutf"
      },
      "source": [
        "The `plot_loss_curves` function works great with models which have only been fit once, however, we want something to compare one series of running `fit()` with another (e.g. before and after fine-tuning)."
      ]
    },
    {
      "cell_type": "code",
      "execution_count": null,
      "metadata": {
        "colab": {
          "background_save": true
        },
        "id": "wDrKe2iDtNyR"
      },
      "outputs": [],
      "source": [
        "#Let's create a funciton to compare training histories\n",
        "def compare_historys(original_history, new_history, initial_epochs=5):\n",
        "  \"\"\"\n",
        "  Compares two TensorFlow History objects.\n",
        "  \"\"\"\n",
        "  #Get original history measurments\n",
        "  acc = original_history.history[\"accuracy\"]\n",
        "  loss = original_history.history[\"loss\"]\n",
        "\n",
        "  val_acc = original_history.history[\"val_accuracy\"]\n",
        "  val_loss = original_history.history[\"val_loss\"]\n",
        "\n",
        "  #Combine original history\n",
        "  total_acc = acc+ new_history.history[\"accuracy\"]\n",
        "  total_loss = loss + new_history.history[\"loss\"]\n",
        "\n",
        "  total_val_acc = acc+ new_history.history[\"val_accuracy\"]\n",
        "  total_val_loss = loss + new_history.history[\"val_loss\"]\n",
        "\n",
        "  #Make plot for accuracy\n",
        "  plt.figure(figsize=(8,8))\n",
        "  plt.subplot(2,1,1)\n",
        "  plt.plot(total_acc,label=\"Training accuracy\")\n",
        "  plt.plot(total_val_acc,label=\"Val accuracy\")\n",
        "  plt.plot([initial_epochs-1,initial_epochs-1],plt.ylim(),label=\"Start Fine tuning\")\n",
        "  plt.legend(loc=\"lower right\")\n",
        "  plt.title(\"Training and Validation Accuracy\")\n",
        "\n",
        "  #Make plot for loss\n",
        "  plt.figure(figsize=(8,8))\n",
        "  plt.subplot(2,1,2)\n",
        "  plt.plot(total_loss,label=\"Training loss\")\n",
        "  plt.plot(total_val_loss,label=\"Val loss\")\n",
        "  plt.plot([initial_epochs-1,initial_epochs-1],plt.ylim(),label=\"Start Fine tuning\")\n",
        "  plt.legend(loc=\"lower right\")\n",
        "  plt.title(\"Training and Validation Accuracy\")"
      ]
    },
    {
      "cell_type": "code",
      "execution_count": null,
      "metadata": {
        "colab": {
          "background_save": true
        },
        "id": "c0hTYrcWtbtG",
        "outputId": "57a0e56c-81e1-41e5-d90c-772cf8af21f1"
      },
      "outputs": [
        {
          "data": {
            "image/png": "[encoded data removed]",
            "text/plain": [
              "<Figure size 576x576 with 1 Axes>"
            ]
          },
          "metadata": {},
          "output_type": "display_data"
        },
        {
          "data": {
            "image/png": "[encoded data removed]",
            "text/plain": [
              "<Figure size 576x576 with 1 Axes>"
            ]
          },
          "metadata": {},
          "output_type": "display_data"
        }
      ],
      "source": [
        "compare_historys(history_10_percent_data_aug,\n",
        "                 history_fine_10_percent_data_aug,\n",
        "                 initial_epochs=5)"
      ]
    },
    {
      "cell_type": "markdown",
      "metadata": {
        "id": "Q6F9E3TbxCmz"
      },
      "source": [
        "##Model 4: Fine-tuning an existing model on all of the data"
      ]
    },
    {
      "cell_type": "code",
      "execution_count": null,
      "metadata": {
        "colab": {
          "background_save": true
        },
        "id": "WmqRKqXW0S8N",
        "outputId": "dbe6c4fd-88e2-4c6b-af9c-7b72b324ce4d"
      },
      "outputs": [
        {
          "name": "stdout",
          "output_type": "stream",
          "text": [
            "--2022-09-28 13:25:53--  https://storage.googleapis.com/ztm_tf_course/food_vision/10_food_classes_all_data.zip\n",
            "Resolving storage.googleapis.com (storage.googleapis.com)... 173.194.193.128, 173.194.194.128, 173.194.196.128, ...\n",
            "Connecting to storage.googleapis.com (storage.googleapis.com)|173.194.193.128|:443... connected.\n",
            "HTTP request sent, awaiting response... 200 OK\n",
            "Length: 519183241 (495M) [application/zip]\n",
            "Saving to: ‘10_food_classes_all_data.zip’\n",
            "\n",
            "10_food_classes_all 100%[===================>] 495.13M   128MB/s    in 3.8s    \n",
            "\n",
            "2022-09-28 13:25:57 (130 MB/s) - ‘10_food_classes_all_data.zip’ saved [519183241/519183241]\n",
            "\n"
          ]
        }
      ],
      "source": [
        "#Download and unzip 10 classes of Food101 data with all images\n",
        "!wget https://storage.googleapis.com/ztm_tf_course/food_vision/10_food_classes_all_data.zip\n",
        "unzip_data(\"10_food_classes_all_data.zip\")"
      ]
    },
    {
      "cell_type": "code",
      "execution_count": null,
      "metadata": {
        "colab": {
          "background_save": true
        },
        "id": "LUq6SyRU0ry3"
      },
      "outputs": [],
      "source": [
        "#Setup training and test dir\n",
        "train_dir_all_data=\"10_food_classes_all_data/train\"\n",
        "test_dir = \"10_food_classes_all_data/test\""
      ]
    },
    {
      "cell_type": "code",
      "execution_count": null,
      "metadata": {
        "colab": {
          "background_save": true
        },
        "id": "Nb0V38zi1DSc",
        "outputId": "c64f15dc-caff-4c57-f213-770d454b458e"
      },
      "outputs": [
        {
          "name": "stdout",
          "output_type": "stream",
          "text": [
            "There are 2 directories and 0 images in '10_food_classes_all_data'.\n",
            "There are 10 directories and 0 images in '10_food_classes_all_data/test'.\n",
            "There are 0 directories and 250 images in '10_food_classes_all_data/test/steak'.\n",
            "There are 0 directories and 250 images in '10_food_classes_all_data/test/chicken_wings'.\n",
            "There are 0 directories and 250 images in '10_food_classes_all_data/test/ice_cream'.\n",
            "There are 0 directories and 250 images in '10_food_classes_all_data/test/pizza'.\n",
            "There are 0 directories and 250 images in '10_food_classes_all_data/test/ramen'.\n",
            "There are 0 directories and 250 images in '10_food_classes_all_data/test/chicken_curry'.\n",
            "There are 0 directories and 250 images in '10_food_classes_all_data/test/hamburger'.\n",
            "There are 0 directories and 250 images in '10_food_classes_all_data/test/fried_rice'.\n",
            "There are 0 directories and 250 images in '10_food_classes_all_data/test/grilled_salmon'.\n",
            "There are 0 directories and 250 images in '10_food_classes_all_data/test/sushi'.\n",
            "There are 10 directories and 0 images in '10_food_classes_all_data/train'.\n",
            "There are 0 directories and 750 images in '10_food_classes_all_data/train/steak'.\n",
            "There are 0 directories and 750 images in '10_food_classes_all_data/train/chicken_wings'.\n",
            "There are 0 directories and 750 images in '10_food_classes_all_data/train/ice_cream'.\n",
            "There are 0 directories and 750 images in '10_food_classes_all_data/train/pizza'.\n",
            "There are 0 directories and 750 images in '10_food_classes_all_data/train/ramen'.\n",
            "There are 0 directories and 750 images in '10_food_classes_all_data/train/chicken_curry'.\n",
            "There are 0 directories and 750 images in '10_food_classes_all_data/train/hamburger'.\n",
            "There are 0 directories and 750 images in '10_food_classes_all_data/train/fried_rice'.\n",
            "There are 0 directories and 750 images in '10_food_classes_all_data/train/grilled_salmon'.\n",
            "There are 0 directories and 750 images in '10_food_classes_all_data/train/sushi'.\n"
          ]
        }
      ],
      "source": [
        "#How many images are we working with?\n",
        "walk_through_dir(\"10_food_classes_all_data\")"
      ]
    },
    {
      "cell_type": "code",
      "execution_count": null,
      "metadata": {
        "colab": {
          "background_save": true
        },
        "id": "j3k-ifhi1JhH",
        "outputId": "7f5f2fc0-db00-4632-fc03-2318f8266fcb"
      },
      "outputs": [
        {
          "name": "stdout",
          "output_type": "stream",
          "text": [
            "Found 7500 files belonging to 10 classes.\n",
            "Found 2500 files belonging to 10 classes.\n"
          ]
        }
      ],
      "source": [
        "#Setup data inputs\n",
        "import tensorflow as tf\n",
        "IMG_SIZE = (224,224)\n",
        "train_data_10_classes_full = tf.keras.preprocessing.image_dataset_from_directory(\n",
        "    train_dir_all_data,\n",
        "    label_mode=\"categorical\",\n",
        "    image_size=IMG_SIZE,\n",
        "    batch_size=BATCH_SIZE\n",
        ")\n",
        "\n",
        "test_data = tf.keras.preprocessing.image_dataset_from_directory(\n",
        "    test_dir,\n",
        "    label_mode=\"categorical\",\n",
        "    image_size=IMG_SIZE,\n",
        "    batch_size=BATCH_SIZE\n",
        ")"
      ]
    },
    {
      "cell_type": "markdown",
      "metadata": {
        "id": "NVu2Sj_n1vH_"
      },
      "source": [
        "The test dataset we've loaded in is the same as what we've been using for previous experiments(all experiments have used the same test dataset).\n",
        "\n",
        "Let's verify this..."
      ]
    },
    {
      "cell_type": "code",
      "execution_count": null,
      "metadata": {
        "colab": {
          "background_save": true
        },
        "id": "WgTgIcIx3yRQ",
        "outputId": "c6b0a550-3736-4c28-b4a4-25ddfc3c50eb"
      },
      "outputs": [
        {
          "name": "stdout",
          "output_type": "stream",
          "text": [
            "79/79 [==============================] - 166s 2s/step - loss: 0.4844 - accuracy: 0.8384\n"
          ]
        },
        {
          "data": {
            "text/plain": [
              "[0.4843961000442505, 0.8384000062942505]"
            ]
          },
          "execution_count": 64,
          "metadata": {},
          "output_type": "execute_result"
        }
      ],
      "source": [
        "#Evaluate model 2 (this is the fine-tuned on 10 percent of data version)\n",
        "model_2.evaluate(test_data)"
      ]
    },
    {
      "cell_type": "code",
      "execution_count": null,
      "metadata": {
        "colab": {
          "background_save": true
        },
        "id": "W4xuV5uq4L0u",
        "outputId": "514a0217-3790-423d-cb13-69368298a07a"
      },
      "outputs": [
        {
          "data": {
            "text/plain": [
              "[0.4843960106372833, 0.8384000062942505]"
            ]
          },
          "execution_count": 65,
          "metadata": {},
          "output_type": "execute_result"
        }
      ],
      "source": [
        "results_fine_tune_10_percent"
      ]
    },
    {
      "cell_type": "markdown",
      "metadata": {
        "id": "PuxaUFk54PhR"
      },
      "source": [
        "To train a fine-tuning model(model_4) we need to revert model_2 back to its feature extraction weights."
      ]
    },
    {
      "cell_type": "code",
      "execution_count": null,
      "metadata": {
        "id": "IO2gfhymELow"
      },
      "outputs": [],
      "source": [
        "#Load weights from checkpoint, that way we can fine-tune from the same stage the 10 percent data model was fine-tuned form\n",
        "model_2.load_weights(checkpoint_path)"
      ]
    },
    {
      "cell_type": "code",
      "execution_count": null,
      "metadata": {
        "id": "Z-bhJaXoEjJA"
      },
      "outputs": [],
      "source": [
        "#Let's evaluate model_2 now\n",
        "model_2.evaluate(test_data)"
      ]
    },
    {
      "cell_type": "code",
      "execution_count": null,
      "metadata": {
        "id": "X3crxJ3FEqxT"
      },
      "outputs": [],
      "source": [
        "#Check to see if your model_2 has been reverted back to feature extraction results\n",
        "results_10_percent_data_aug"
      ]
    },
    {
      "cell_type": "markdown",
      "metadata": {
        "id": "TSU8OJSNE1Uf"
      },
      "source": [
        "Alright, the previous steps might seem quite confusing but all we've done is:\n",
        "\n",
        "1. Trained a feature extraction transfer learning model for 5 epochs on 10% of the data with data augmentation (model_2) and we saved the model's weights using `ModelCheckpoint` callback.\n",
        "2. Fine-tuned the same model on the same 10% of the data for a further 5 epochs with the top 10 layers of the base model unfrozen (model_3).\n",
        "3. Saved the results and training logs each time.\n",
        "4. Reloaded the model from step 1 to do the same steps as step 2 except this time we're going to use all of the data(model_4)."
      ]
    },
    {
      "cell_type": "code",
      "execution_count": null,
      "metadata": {
        "id": "ipYAAjUCF7GD"
      },
      "outputs": [],
      "source": [
        "#Check which layers are tunable in the whole model\n",
        "for layer_number,layer in enumerate(model_2.layers[2]):\n",
        "  print(layer_number, layer.name, layer.trainable)"
      ]
    },
    {
      "cell_type": "code",
      "execution_count": null,
      "metadata": {
        "id": "J68tuVeRHlie"
      },
      "outputs": [],
      "source": [
        "#Compile\n",
        "model_2.compile(loss=\"categorical_crossentropy\",\n",
        "                optimizer=tf.keras.optimizers.Adam(lr=0.0001),\n",
        "                metrics=[\"accuracy\"])\n",
        "\n"
      ]
    },
    {
      "cell_type": "code",
      "execution_count": null,
      "metadata": {
        "id": "99Q6PlvfH5C-"
      },
      "outputs": [],
      "source": [
        "#Continue to train and fine-tune the model to our data (100% of training data)\n",
        "fine_tune_epochs=10\n",
        "history_fine_10_classes_full = model_2.fit(\n",
        "    train_data_10_classes_full,\n",
        "    epochs=10,\n",
        "    validation_data=test_data,\n",
        "    validation_steps=int(0.25*len(test_data)),\n",
        "    initial_epoch=history_10_percent_data_aug.epoch[-1],\n",
        "    callbacks=[create_tensorboard_callback(dir_name=\"transfer_learning\",\n",
        "                                           experiment_name=\"full_10_classes_fine_tune_last_10\")]\n",
        ")"
      ]
    },
    {
      "cell_type": "code",
      "execution_count": null,
      "metadata": {
        "id": "GYSzbAPOJE3S"
      },
      "outputs": [],
      "source": [
        "#Let's evaluate on all of the test data\n",
        "results_fine_tune_full_data=model_2.evaluate(test_data)\n",
        "results_fine_tune_full_data"
      ]
    },
    {
      "cell_type": "code",
      "execution_count": null,
      "metadata": {
        "id": "feHFBtESJgql"
      },
      "outputs": [],
      "source": [
        "#How did fine-tuning go with more data?\n",
        "compare_historys(original_history=history_10_percent_data_aug,\n",
        "                 new_history=history_fine_10_classes_full,\n",
        "                 initial_epochs=5)"
      ]
    },
    {
      "cell_type": "markdown",
      "metadata": {
        "id": "yaGCVQ3_J36H"
      },
      "source": [
        "## Viewing our experiment data on Tensorboard"
      ]
    },
    {
      "cell_type": "code",
      "execution_count": null,
      "metadata": {
        "id": "xjysy1ZnKNhr"
      },
      "outputs": [],
      "source": [
        "#View tensorboard logs of transfer learning modelling experiments (should ~5 models)\n",
        "#Upload TensorBoard dev records\n",
        "!tensorboard dev upload --logdir ./transfer_learning \\\n",
        "  --name \"Transfer Learning  Experiments with 10 Food 101 Classes\" \\\n",
        "  --description \"A series of different TL experiments with diff amounts of data and fine-tuning\" \\\n",
        "  --one_shot #exits the uploader onece its finished uploading"
      ]
    }
  ],
  "metadata": {
    "accelerator": "GPU",
    "colab": {
      "collapsed_sections": [],
      "provenance": [],
      "authorship_tag": "ABX9TyO4b6/8aHBSA+8NsEY4hL9H",
      "include_colab_link": true
    },
    "kernelspec": {
      "display_name": "Python 3",
      "name": "python3"
    },
    "language_info": {
      "name": "python"
    }
  },
  "nbformat": 4,
  "nbformat_minor": 0
}