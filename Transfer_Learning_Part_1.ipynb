{
  "cells": [
    {
      "cell_type": "markdown",
      "metadata": {
        "id": "view-in-github",
        "colab_type": "text"
      },
      "source": [
        "<a href=\"https://colab.research.google.com/github/then00bprogrammer/Bot_Maker/blob/master/Transfer_Learning_Part_1.ipynb\" target=\"_parent\"><img src=\"https://colab.research.google.com/assets/colab-badge.svg\" alt=\"Open In Colab\"/></a>"
      ]
    },
    {
      "cell_type": "markdown",
      "metadata": {
        "id": "ORQQ1i3Xyvkt"
      },
      "source": [
        "#Transfer Learning with TensorFlow part 1: Feature Extraction\n",
        "\n",
        "Transfer Learning is leveraging a working model's existing architecture and learned patterns for our own problems.\n",
        "\n",
        "There are two main benefits:\n",
        "1. Can leverage an existing neural network architecture proven to work on problems similar to ours.\n",
        "2. Can leverage a working neural network architecture which has already lerned patterns on similar data to our own, then we can adapt to those patterns to our own data.\n"
      ]
    },
    {
      "cell_type": "markdown",
      "metadata": {
        "id": "4O3Ms9CO2cjF"
      },
      "source": [
        "##Downloading and becoming one with data"
      ]
    },
    {
      "cell_type": "code",
      "execution_count": 1,
      "metadata": {
        "colab": {
          "base_uri": "https://localhost:8080/"
        },
        "id": "MKImz1Ta2yST",
        "outputId": "0266fce3-7395-44d4-d98f-6c5b20303f50"
      },
      "outputs": [
        {
          "output_type": "stream",
          "name": "stdout",
          "text": [
            "--2022-11-07 09:37:38--  https://storage.googleapis.com/ztm_tf_course/food_vision/10_food_classes_10_percent.zip\n",
            "Resolving storage.googleapis.com (storage.googleapis.com)... 74.125.200.128, 142.250.4.128, 74.125.24.128, ...\n",
            "Connecting to storage.googleapis.com (storage.googleapis.com)|74.125.200.128|:443... connected.\n",
            "HTTP request sent, awaiting response... 200 OK\n",
            "Length: 168546183 (161M) [application/zip]\n",
            "Saving to: ‘10_food_classes_10_percent.zip’\n",
            "\n",
            "10_food_classes_10_ 100%[===================>] 160.74M  24.0MB/s    in 7.8s    \n",
            "\n",
            "2022-11-07 09:37:47 (20.6 MB/s) - ‘10_food_classes_10_percent.zip’ saved [168546183/168546183]\n",
            "\n"
          ]
        }
      ],
      "source": [
        "#Get the data (10% of 10 food classes from Food101)\n",
        "import zipfile\n",
        "\n",
        "#Download the data\n",
        "!wget https://storage.googleapis.com/ztm_tf_course/food_vision/10_food_classes_10_percent.zip\n",
        "\n",
        "#Unzip the downloaded file\n",
        "zip_ref=zipfile.ZipFile(\"10_food_classes_10_percent.zip\")\n",
        "zip_ref.extractall()\n",
        "zip_ref.close()"
      ]
    },
    {
      "cell_type": "code",
      "execution_count": 2,
      "metadata": {
        "colab": {
          "base_uri": "https://localhost:8080/"
        },
        "id": "VMRRGFTV3c5F",
        "outputId": "685a902d-9845-4300-d733-a368683e98d7"
      },
      "outputs": [
        {
          "output_type": "stream",
          "name": "stdout",
          "text": [
            "There are 2 directories and 0 in 10_food_classes_10_percent\n",
            "There are 10 directories and 0 in 10_food_classes_10_percent/test\n",
            "There are 0 directories and 250 in 10_food_classes_10_percent/test/hamburger\n",
            "There are 0 directories and 250 in 10_food_classes_10_percent/test/steak\n",
            "There are 0 directories and 250 in 10_food_classes_10_percent/test/fried_rice\n",
            "There are 0 directories and 250 in 10_food_classes_10_percent/test/grilled_salmon\n",
            "There are 0 directories and 250 in 10_food_classes_10_percent/test/ice_cream\n",
            "There are 0 directories and 250 in 10_food_classes_10_percent/test/sushi\n",
            "There are 0 directories and 250 in 10_food_classes_10_percent/test/ramen\n",
            "There are 0 directories and 250 in 10_food_classes_10_percent/test/chicken_wings\n",
            "There are 0 directories and 250 in 10_food_classes_10_percent/test/pizza\n",
            "There are 0 directories and 250 in 10_food_classes_10_percent/test/chicken_curry\n",
            "There are 10 directories and 0 in 10_food_classes_10_percent/train\n",
            "There are 0 directories and 75 in 10_food_classes_10_percent/train/hamburger\n",
            "There are 0 directories and 75 in 10_food_classes_10_percent/train/steak\n",
            "There are 0 directories and 75 in 10_food_classes_10_percent/train/fried_rice\n",
            "There are 0 directories and 75 in 10_food_classes_10_percent/train/grilled_salmon\n",
            "There are 0 directories and 75 in 10_food_classes_10_percent/train/ice_cream\n",
            "There are 0 directories and 75 in 10_food_classes_10_percent/train/sushi\n",
            "There are 0 directories and 75 in 10_food_classes_10_percent/train/ramen\n",
            "There are 0 directories and 75 in 10_food_classes_10_percent/train/chicken_wings\n",
            "There are 0 directories and 75 in 10_food_classes_10_percent/train/pizza\n",
            "There are 0 directories and 75 in 10_food_classes_10_percent/train/chicken_curry\n"
          ]
        }
      ],
      "source": [
        "#How many images in each folder?\n",
        "import os\n",
        "\n",
        "#Walk through 10% of data and list number of files and directories in each folder\n",
        "for dirpath,dirnames,filenames in os.walk(\"10_food_classes_10_percent\"):\n",
        "  print(f\"There are {len(dirnames)} directories and {len(filenames)} in {dirpath}\")"
      ]
    },
    {
      "cell_type": "markdown",
      "metadata": {
        "id": "v4WGFloj3_Ss"
      },
      "source": [
        "##Create data loaders"
      ]
    },
    {
      "cell_type": "code",
      "execution_count": 3,
      "metadata": {
        "colab": {
          "base_uri": "https://localhost:8080/"
        },
        "id": "6NWvwUFBbXNg",
        "outputId": "6c7aca3c-caea-45e2-c922-414f5f454a4b"
      },
      "outputs": [
        {
          "output_type": "stream",
          "name": "stdout",
          "text": [
            "Training Images: \n",
            "Found 750 images belonging to 10 classes.\n",
            "Testing Images: \n",
            "Found 2500 images belonging to 10 classes.\n"
          ]
        }
      ],
      "source": [
        "from tensorflow.keras.preprocessing.image import ImageDataGenerator\n",
        "\n",
        "train_dir=\"10_food_classes_10_percent/train/\"\n",
        "test_dir=\"10_food_classes_10_percent/test/\"\n",
        "\n",
        "IMAGE_SHAPE = (224,224)\n",
        "BATCH_SIZE= 32\n",
        "\n",
        "train_datagen = ImageDataGenerator(rescale=1/255.)\n",
        "test_datagen=ImageDataGenerator(rescale=1/255.)\n",
        "\n",
        "print(\"Training Images: \")\n",
        "train_data_10_percent = train_datagen.flow_from_directory(train_dir,\n",
        "                                                          target_size=IMAGE_SHAPE,\n",
        "                                                          batch_size=BATCH_SIZE,\n",
        "                                                          class_mode=\"categorical\")\n",
        "\n",
        "print(\"Testing Images: \")\n",
        "test_datagen_10_percent=test_datagen.flow_from_directory(test_dir,\n",
        "                                                         target_size=IMAGE_SHAPE,\n",
        "                                                         batch_size=BATCH_SIZE,\n",
        "                                                         class_mode=\"categorical\")\n",
        "\n"
      ]
    },
    {
      "cell_type": "markdown",
      "metadata": {
        "id": "8aI05cvedpLl"
      },
      "source": [
        "##Callbacks: An Important concept (things to run whilst our model trains)\n",
        "Callbacks in tensorflow can be used for different purposes:\n",
        "* Experiment tracking with TensorBoard - log the performance of multiple models and then view and compare these models in a visual way on TensorBoard (a dashboard for inspecting neural network parameters). Helpful to compare the results of different models on your data.\n",
        "* Model checkpointing - save your model as it trains so you can stop training if needed and come back to continue off where you left. Helpful if training takes a long time and can't be done in one sitting.\n",
        "* Early stopping - leave your model training for an arbitrary amount of time and have it stop training automatically when it ceases to improve or ***overfits***. Helpful when you've got a large dataset and don't know how long training will take."
      ]
    },
    {
      "cell_type": "markdown",
      "metadata": {
        "id": "fNUyfUHjfWI1"
      },
      "source": [
        "###1. TensorBoard Callback"
      ]
    },
    {
      "cell_type": "code",
      "execution_count": 4,
      "metadata": {
        "id": "qhbmXhFCfbLE"
      },
      "outputs": [],
      "source": [
        "#Create tensorboard callback\n",
        "import datetime\n",
        "def create_tensorboard_callback(dir_name,experiment_name):\n",
        "  log_dir=dir_name+\"/\"+experiment_name+\"/\"+datetime.datetime.now().strftime(\"%Y%m%d-%H%M%S\")\n",
        "  tensorboard_callback = tf.keras.callbacks.TensorBoard(\n",
        "      log_dir=log_dir\n",
        "  )\n",
        "  print(f\"Saving TensorBoard log files to: {log_dir}\")\n",
        "  return tensorboard_callback"
      ]
    },
    {
      "cell_type": "markdown",
      "metadata": {
        "id": "9a7MtH8yfpj0"
      },
      "source": [
        "##Creating Models Using Tensorflow Hub\n",
        "\n",
        "In the past we've used TensorFlow to create our own models layer by layer from scratch.\n",
        "\n",
        "Now we're going to do a similar process, except the majority of our model's layers are going to come from Tensorflow Hub.\n",
        "\n",
        "We can access pretrained models on: https://tfhub.dev/\n",
        "\n",
        "Browsing the TensorFlow Hub page and sorting for image classification, we found the following feature vector model link:\n",
        "https://tfhub.dev/google/efficientnet/b0/feature-vector/1"
      ]
    },
    {
      "cell_type": "code",
      "execution_count": 5,
      "metadata": {
        "id": "_v_cZyXAmIRv"
      },
      "outputs": [],
      "source": [
        "#Let's compare the following two models\n",
        "resnet_url = \"https://tfhub.dev/google/imagenet/resnet_v2_50/classification/5\"\n",
        "\n",
        "efficentnet_url=\"https://tfhub.dev/google/efficientnet/b0/feature-vector/1\"\n",
        "\n"
      ]
    },
    {
      "cell_type": "code",
      "execution_count": 6,
      "metadata": {
        "id": "_mTEQLuJmgf9"
      },
      "outputs": [],
      "source": [
        "#Import dependencies\n",
        "import tensorflow as tf\n",
        "import tensorflow_hub as hub\n",
        "from tensorflow.keras import layers"
      ]
    },
    {
      "cell_type": "code",
      "execution_count": 7,
      "metadata": {
        "id": "FP-7akuIrGqU"
      },
      "outputs": [],
      "source": [
        "#Let's make a create_model() function to create a model from a URL\n",
        "def create_model(model_url,num_classes=10):\n",
        "  \"\"\"\n",
        "  Takes a TensorFlow Hub URL and creates a Keras Sequential model with it.\n",
        "\n",
        "  Args:\n",
        "    model_url (str): A TensorFlow Hub feature extraction URL.\n",
        "    num_classes (int): Number of output neurons in the output layer,\n",
        "    should be equal to target classes, default 10.\n",
        "\n",
        "  Returns:\n",
        "    An uncompiled Keras Sequential model with model_url as feature extractor layer\n",
        "    and Dense output layer with num_classes output neurons.\n",
        "  \"\"\"\n",
        "\n",
        "  #Download the pretrained model and save it as a keras layer\n",
        "  feature_extraction_layer = hub.KerasLayer(model_url,\n",
        "                                            trainable=False,\n",
        "                                            name=\"Feature_Extraction_layer\",\n",
        "                                            input_shape=IMAGE_SHAPE+(3,)\n",
        "                                            ) #freeze the already learned patterns\n",
        "\n",
        "  #Create our own model\n",
        "  model = tf.keras.Sequential([\n",
        "    feature_extraction_layer,\n",
        "    layers.Dense(num_classes,activation=\"softmax\",name=\"output_layer\")\n",
        "  ])\n",
        "    \n",
        "  return model\n",
        "    "
      ]
    },
    {
      "cell_type": "markdown",
      "metadata": {
        "id": "KZIndyaDdB4n"
      },
      "source": [
        "###Creating and testing ResNet TensorFlow Hub Feature Extraction model"
      ]
    },
    {
      "cell_type": "code",
      "execution_count": 8,
      "metadata": {
        "id": "xYbCNZV8b1JT"
      },
      "outputs": [],
      "source": [
        "#Create Resnet model\n",
        "resnet_model = create_model(resnet_url,\n",
        "                            num_classes=train_data_10_percent.num_classes)"
      ]
    },
    {
      "cell_type": "code",
      "execution_count": 9,
      "metadata": {
        "colab": {
          "base_uri": "https://localhost:8080/"
        },
        "id": "sJi7oe5IhgtE",
        "outputId": "fffb5f52-deac-4e05-907f-61b6dfc453ab"
      },
      "outputs": [
        {
          "output_type": "stream",
          "name": "stdout",
          "text": [
            "Model: \"sequential\"\n",
            "_________________________________________________________________\n",
            " Layer (type)                Output Shape              Param #   \n",
            "=================================================================\n",
            " Feature_Extraction_layer (K  (None, 1001)             25615849  \n",
            " erasLayer)                                                      \n",
            "                                                                 \n",
            " output_layer (Dense)        (None, 10)                10020     \n",
            "                                                                 \n",
            "=================================================================\n",
            "Total params: 25,625,869\n",
            "Trainable params: 10,020\n",
            "Non-trainable params: 25,615,849\n",
            "_________________________________________________________________\n"
          ]
        }
      ],
      "source": [
        "resnet_model.summary()"
      ]
    },
    {
      "cell_type": "code",
      "execution_count": 10,
      "metadata": {
        "id": "IGskSRKkh8go"
      },
      "outputs": [],
      "source": [
        "resnet_model.compile(loss=\"categorical_crossentropy\",\n",
        "                     optimizer=tf.keras.optimizers.Adam(),\n",
        "                     metrics=[\"accuracy\"])"
      ]
    },
    {
      "cell_type": "code",
      "execution_count": 11,
      "metadata": {
        "colab": {
          "base_uri": "https://localhost:8080/"
        },
        "id": "_WvlUYWDiWaM",
        "outputId": "60813fb5-2dd0-4fb4-b2bd-3f402579c9a3"
      },
      "outputs": [
        {
          "output_type": "stream",
          "name": "stdout",
          "text": [
            "Saving TensorBoard log files to: tensorflow_hub/resnet50V2/20221107-093806\n",
            "Epoch 1/5\n",
            "24/24 [==============================] - 30s 759ms/step - loss: 2.2900 - accuracy: 0.3760 - val_loss: 1.3082 - val_accuracy: 0.5712\n",
            "Epoch 2/5\n",
            "24/24 [==============================] - 16s 686ms/step - loss: 0.9513 - accuracy: 0.6947 - val_loss: 0.8900 - val_accuracy: 0.7044\n",
            "Epoch 3/5\n",
            "24/24 [==============================] - 17s 750ms/step - loss: 0.6744 - accuracy: 0.7880 - val_loss: 0.8072 - val_accuracy: 0.7296\n",
            "Epoch 4/5\n",
            "24/24 [==============================] - 20s 859ms/step - loss: 0.5216 - accuracy: 0.8387 - val_loss: 0.7864 - val_accuracy: 0.7392\n",
            "Epoch 5/5\n",
            "24/24 [==============================] - 16s 691ms/step - loss: 0.4275 - accuracy: 0.8773 - val_loss: 0.7653 - val_accuracy: 0.7464\n"
          ]
        }
      ],
      "source": [
        "resnet_history = resnet_model.fit(train_data_10_percent,\n",
        "                                  epochs=5,\n",
        "                                  steps_per_epoch=len(train_data_10_percent),\n",
        "                                  validation_data=test_datagen_10_percent,\n",
        "                                  validation_steps=len(test_datagen_10_percent),\n",
        "                                  callbacks=[create_tensorboard_callback(dir_name=\"tensorflow_hub\",\n",
        "                                                                         experiment_name=\"resnet50V2\")]\n",
        "                                  )"
      ]
    },
    {
      "cell_type": "markdown",
      "metadata": {
        "id": "p5Fe9gEOl6Lf"
      },
      "source": [
        "Wow!\n",
        "Our Transfer Learning feature extractor model outperformed ALL of the previous models we built by hand...(substantially) and in a quicker training time AND with only 10% of the training examples."
      ]
    },
    {
      "cell_type": "code",
      "execution_count": 12,
      "metadata": {
        "id": "52MNOfPKknCZ"
      },
      "outputs": [],
      "source": [
        "#Let's create a function to plot our loss curves...\n",
        "import matplotlib.pyplot as plt\n",
        "\n",
        "def plot_loss_curves(history):\n",
        "  \"\"\"\n",
        "  Returns seprate loss curves for training and validation metrics.\n",
        "\n",
        "  Args:\n",
        "    history: TensorFlow history object.\n",
        "\n",
        "  Returns:\n",
        "    Plots of training/validation loss and accuracy metrics.\n",
        "  \"\"\"\n",
        "\n",
        "  loss= history.history[\"loss\"]\n",
        "  val_loss = history.history[\"val_loss\"]\n",
        "\n",
        "  accuracy = history.history[\"accuracy\"]\n",
        "  val_accuracy = history.history[\"val_accuracy\"]\n",
        "\n",
        "  epochs = range(len(history.history[\"loss\"]))\n",
        "\n",
        "  #Plot loss\n",
        "  plt.plot(epochs,loss,label=\"training_loss\")\n",
        "  plt.plot(epochs,val_loss,label=\"val_loss\")\n",
        "  plt.title(\"Loss\")\n",
        "  plt.xlabel(\"Epochs\")\n",
        "  plt.legend()\n",
        "\n",
        "  #Plot accuracy\n",
        "  plt.figure()\n",
        "  plt.plot(epochs,accuracy,label=\"Training accuracy\")\n",
        "  plt.plot(epochs,val_accuracy,label=\"Val accuracy\")\n",
        "  plt.title(\"accuracy\")\n",
        "  plt.xlabel(\"epochs\")\n",
        "  plt.legend()"
      ]
    },
    {
      "cell_type": "code",
      "execution_count": 13,
      "metadata": {
        "colab": {
          "base_uri": "https://localhost:8080/",
          "height": 573
        },
        "id": "S4qKxrYEoEWG",
        "outputId": "1e37a2ba-3edd-4821-9d75-962fe6f43f2f"
      },
      "outputs": [
        {
          "output_type": "display_data",
          "data": {
            "text/plain": [
              "<Figure size 432x288 with 1 Axes>"
            ],
            "image/png": "[encoded data removed]"
          },
          "metadata": {
            "needs_background": "light"
          }
        },
        {
          "output_type": "display_data",
          "data": {
            "text/plain": [
              "<Figure size 432x288 with 1 Axes>"
            ],
            "image/png": "[encoded data removed]"
          },
          "metadata": {
            "needs_background": "light"
          }
        }
      ],
      "source": [
        "plot_loss_curves(resnet_history)"
      ]
    },
    {
      "cell_type": "markdown",
      "metadata": {
        "id": "XDc86SIQqdoV"
      },
      "source": [
        "###Creating and testing EfficentNetB0 TensorFlow Hub Feature Extraction Model"
      ]
    },
    {
      "cell_type": "code",
      "execution_count": 14,
      "metadata": {
        "id": "0-b-XIA9qKwA"
      },
      "outputs": [],
      "source": [
        "efficentnet_model=create_model(efficentnet_url,train_data_10_percent.num_classes)"
      ]
    },
    {
      "cell_type": "code",
      "execution_count": 15,
      "metadata": {
        "id": "Gy3e8TQmrChX"
      },
      "outputs": [],
      "source": [
        "efficentnet_model.compile(loss=\"categorical_crossentropy\",\n",
        "                          optimizer=tf.keras.optimizers.Adam(),\n",
        "                          metrics=[\"accuracy\"])"
      ]
    },
    {
      "cell_type": "code",
      "execution_count": 16,
      "metadata": {
        "colab": {
          "base_uri": "https://localhost:8080/"
        },
        "id": "peUwfoxTsF2K",
        "outputId": "968d944e-3a0d-4d11-9e02-533534c756e9"
      },
      "outputs": [
        {
          "output_type": "stream",
          "name": "stdout",
          "text": [
            "Model: \"sequential_1\"\n",
            "_________________________________________________________________\n",
            " Layer (type)                Output Shape              Param #   \n",
            "=================================================================\n",
            " Feature_Extraction_layer (K  (None, 1280)             4049564   \n",
            " erasLayer)                                                      \n",
            "                                                                 \n",
            " output_layer (Dense)        (None, 10)                12810     \n",
            "                                                                 \n",
            "=================================================================\n",
            "Total params: 4,062,374\n",
            "Trainable params: 12,810\n",
            "Non-trainable params: 4,049,564\n",
            "_________________________________________________________________\n"
          ]
        }
      ],
      "source": [
        "efficentnet_model.summary()"
      ]
    },
    {
      "cell_type": "code",
      "execution_count": 17,
      "metadata": {
        "colab": {
          "base_uri": "https://localhost:8080/"
        },
        "id": "gmKPWzJSsK1e",
        "outputId": "581a92ad-e75e-48e0-d4e8-b6422ece259a"
      },
      "outputs": [
        {
          "output_type": "stream",
          "name": "stdout",
          "text": [
            "Saving TensorBoard log files to: tensorflow_hub/efficentnet_bo/20221107-093954\n",
            "Epoch 1/5\n",
            "24/24 [==============================] - 21s 750ms/step - loss: 1.7795 - accuracy: 0.4613 - val_loss: 1.2548 - val_accuracy: 0.7412\n",
            "Epoch 2/5\n",
            "24/24 [==============================] - 15s 659ms/step - loss: 1.0336 - accuracy: 0.7867 - val_loss: 0.8408 - val_accuracy: 0.8200\n",
            "Epoch 3/5\n",
            "24/24 [==============================] - 15s 661ms/step - loss: 0.7367 - accuracy: 0.8453 - val_loss: 0.6803 - val_accuracy: 0.8412\n",
            "Epoch 4/5\n",
            "24/24 [==============================] - 15s 653ms/step - loss: 0.5888 - accuracy: 0.8733 - val_loss: 0.5969 - val_accuracy: 0.8520\n",
            "Epoch 5/5\n",
            "24/24 [==============================] - 15s 652ms/step - loss: 0.4990 - accuracy: 0.8987 - val_loss: 0.5491 - val_accuracy: 0.8616\n"
          ]
        }
      ],
      "source": [
        "efficentnet_history=efficentnet_model.fit(train_data_10_percent,\n",
        "                      epochs=5,\n",
        "                      steps_per_epoch=len(train_data_10_percent),\n",
        "                      validation_steps=len(test_datagen_10_percent),\n",
        "                      validation_data=test_datagen_10_percent,\n",
        "                      callbacks=[create_tensorboard_callback(dir_name=\"tensorflow_hub\",\n",
        "                                                                         experiment_name=\"efficentnet_bo\")])"
      ]
    },
    {
      "cell_type": "code",
      "execution_count": 18,
      "metadata": {
        "colab": {
          "base_uri": "https://localhost:8080/",
          "height": 573
        },
        "id": "XdioeRYds8NK",
        "outputId": "809fc2eb-71a5-4fa4-a58f-e18ada98c9ba"
      },
      "outputs": [
        {
          "output_type": "display_data",
          "data": {
            "text/plain": [
              "<Figure size 432x288 with 1 Axes>"
            ],
            "image/png": "[encoded data removed]"
          },
          "metadata": {
            "needs_background": "light"
          }
        },
        {
          "output_type": "display_data",
          "data": {
            "text/plain": [
              "<Figure size 432x288 with 1 Axes>"
            ],
            "image/png": "[encoded data removed]"
          },
          "metadata": {
            "needs_background": "light"
          }
        }
      ],
      "source": [
        "plot_loss_curves(efficentnet_history)"
      ]
    },
    {
      "cell_type": "markdown",
      "source": [
        "##Different types of transfer learning\n",
        "\n",
        "* \"**As is\" transfer learning** - using an existing model with no changes what so ever(e.g. using ImageNet model on 1000 Imagenet classes, none of your own)\n",
        "* **\"Feature Extraction\" transfer learning** - use the prelearned patterns of an existing model (e.g. EfficentNetBO trained on imageNet) and adjust the output layer for our own problem (e.g. 1000 classes -> 10 classes of food)\n",
        "* **\"Fine-tuning\" transfer learning** - use the prelearned patterns of an existing model and \"fine-tune\" many or all  of the underlying layers"
      ],
      "metadata": {
        "id": "jXjbdhf-tVsv"
      }
    },
    {
      "cell_type": "markdown",
      "source": [
        "##Comparing our Models with TensorBoard\n",
        "\n",
        "> 🔑**Note:** When you upload things to tensorboard.dev, your experiments are public. So if you're running a private experiment (things you don't want other people to see) don't upload them to TensorBoard.dev."
      ],
      "metadata": {
        "id": "XP-8xu0-u47K"
      }
    },
    {
      "cell_type": "code",
      "source": [
        "\n",
        "# Upload Tensorboard dev records\n",
        "!tensorboard dev upload --logdir ./tensorflow_hub/ \\\n",
        "--name \"EfficentNetBo vs. ResNet50V2\" \\\n",
        "--description \"Comparing two different TF Hub extraction model architectures using 10% of the training data\" \\\n",
        "--one_shot"
      ],
      "metadata": {
        "id": "BEpIL9u8G98B",
        "colab": {
          "base_uri": "https://localhost:8080/"
        },
        "outputId": "6e8347e3-c41a-4a6f-cefa-733627b8c14d"
      },
      "execution_count": 19,
      "outputs": [
        {
          "output_type": "stream",
          "name": "stdout",
          "text": [
            "\n",
            "***** TensorBoard Uploader *****\n",
            "\n",
            "This will upload your TensorBoard logs to https://tensorboard.dev/ from\n",
            "the following directory:\n",
            "\n",
            "./tensorflow_hub/\n",
            "\n",
            "This TensorBoard will be visible to everyone. Do not upload sensitive\n",
            "data.\n",
            "\n",
            "Your use of this service is subject to Google's Terms of Service\n",
            "<https://policies.google.com/terms> and Privacy Policy\n",
            "<https://policies.google.com/privacy>, and TensorBoard.dev's Terms of Service\n",
            "<https://tensorboard.dev/policy/terms/>.\n",
            "\n",
            "This notice will not be shown again while you are logged into the uploader.\n",
            "To log out, run `tensorboard dev auth revoke`.\n",
            "\n",
            "Continue? (yes/NO) yes\n",
            "\n",
            "Please visit this URL to authorize this application: https://accounts.google.com/o/oauth2/auth?response_type=code&client_id=373649185512-8v619h5kft38l4456nm2dj4ubeqsrvh6.apps.googleusercontent.com&redirect_uri=urn%3Aietf%3Awg%3Aoauth%3A2.0%3Aoob&scope=openid+https%3A%2F%2Fwww.googleapis.com%2Fauth%2Fuserinfo.email&state=nHIn8HLtbPouPMQIllflqwJ4di68PI&prompt=consent&access_type=offline\n",
            "Enter the authorization code: 4/1AfgeXvvm_Ot_VnB72yWxTnuQH9CzOmUR6s8_M5ShN61xXWMJxCP211oNkHo\n",
            "\n",
            "\n",
            "New experiment created. View your TensorBoard at: https://tensorboard.dev/experiment/1FZDbhmARPyZ26aYQKLNTg/\n",
            "\n",
            "\u001b[1m[2022-11-07T09:46:46]\u001b[0m Started scanning logdir.\n",
            "\u001b[1m[2022-11-07T09:46:52]\u001b[0m Total uploaded: 60 scalars, 0 tensors, 2 binary objects (3.0 MB)\n",
            "\u001b[1m[2022-11-07T09:46:52]\u001b[0m Done scanning logdir.\n",
            "\n",
            "\n",
            "Done. View your TensorBoard at https://tensorboard.dev/experiment/1FZDbhmARPyZ26aYQKLNTg/\n"
          ]
        }
      ]
    },
    {
      "cell_type": "markdown",
      "source": [
        "Our experiments are uploaded publically here https://tensorboard.dev/experiment/fJOBBU5YTMmeHJnoUELLgA/"
      ],
      "metadata": {
        "id": "aBzC14miIlnn"
      }
    },
    {
      "cell_type": "code",
      "source": [
        "#Checkout what TensorBoard experiments you have\n",
        "!tensorboard dev list"
      ],
      "metadata": {
        "colab": {
          "base_uri": "https://localhost:8080/"
        },
        "id": "qoLlnDtpLsw9",
        "outputId": "a8893019-4d0b-4197-a81a-b8a17a61e023"
      },
      "execution_count": 20,
      "outputs": [
        {
          "output_type": "stream",
          "name": "stdout",
          "text": [
            "https://tensorboard.dev/experiment/1FZDbhmARPyZ26aYQKLNTg/\n",
            "\tName                 EfficentNetBo vs. ResNet50V2\n",
            "\tDescription          Comparing two different TF Hub extraction model architectures using 10% of the training data\n",
            "\tId                   1FZDbhmARPyZ26aYQKLNTg\n",
            "\tCreated              2022-11-07 09:46:46 (11 seconds ago)\n",
            "\tUpdated              2022-11-07 09:46:52 (5 seconds ago)\n",
            "\tRuns                 4\n",
            "\tTags                 5\n",
            "\tScalars              60\n",
            "\tTensor bytes         0\n",
            "\tBinary object bytes  3158170\n",
            "https://tensorboard.dev/experiment/fJOBBU5YTMmeHJnoUELLgA/\n",
            "\tName                 EfficentNetBo vs. ResNet50V2\n",
            "\tDescription          Comparing two different TF Hub extraction model architectures using 10% of the training data\n",
            "\tId                   fJOBBU5YTMmeHJnoUELLgA\n",
            "\tCreated              2022-09-26 14:22:35\n",
            "\tUpdated              2022-09-26 14:22:40\n",
            "\tRuns                 4\n",
            "\tTags                 5\n",
            "\tScalars              60\n",
            "\tTensor bytes         0\n",
            "\tBinary object bytes  3158238\n",
            "Total: 2 experiment(s)\n"
          ]
        }
      ]
    },
    {
      "cell_type": "code",
      "source": [
        "#Delete an experiment\n",
        "# !tensorboard dev delete --experiment_id fJOBBU5YTMmeHJnoUELLgA"
      ],
      "metadata": {
        "id": "Pcopqs8uMlgs"
      },
      "execution_count": 21,
      "outputs": []
    },
    {
      "cell_type": "code",
      "source": [
        "#Confirm the deletion by rechecking what experiments you have left\n",
        "!tensorboard dev list"
      ],
      "metadata": {
        "colab": {
          "base_uri": "https://localhost:8080/"
        },
        "id": "9bihrdEWM2ho",
        "outputId": "2b945bf2-d27c-49fc-b94d-30429d60628c"
      },
      "execution_count": 22,
      "outputs": [
        {
          "output_type": "stream",
          "name": "stdout",
          "text": [
            "https://tensorboard.dev/experiment/1FZDbhmARPyZ26aYQKLNTg/\n",
            "\tName                 EfficentNetBo vs. ResNet50V2\n",
            "\tDescription          Comparing two different TF Hub extraction model architectures using 10% of the training data\n",
            "\tId                   1FZDbhmARPyZ26aYQKLNTg\n",
            "\tCreated              2022-11-07 09:46:46 (15 seconds ago)\n",
            "\tUpdated              2022-11-07 09:46:52 (9 seconds ago)\n",
            "\tRuns                 4\n",
            "\tTags                 5\n",
            "\tScalars              60\n",
            "\tTensor bytes         0\n",
            "\tBinary object bytes  3158170\n",
            "https://tensorboard.dev/experiment/fJOBBU5YTMmeHJnoUELLgA/\n",
            "\tName                 EfficentNetBo vs. ResNet50V2\n",
            "\tDescription          Comparing two different TF Hub extraction model architectures using 10% of the training data\n",
            "\tId                   fJOBBU5YTMmeHJnoUELLgA\n",
            "\tCreated              2022-09-26 14:22:35\n",
            "\tUpdated              2022-09-26 14:22:40\n",
            "\tRuns                 4\n",
            "\tTags                 5\n",
            "\tScalars              60\n",
            "\tTensor bytes         0\n",
            "\tBinary object bytes  3158238\n",
            "Total: 2 experiment(s)\n"
          ]
        }
      ]
    }
  ],
  "metadata": {
    "accelerator": "GPU",
    "colab": {
      "collapsed_sections": [],
      "provenance": [],
      "authorship_tag": "ABX9TyNv4wz2028tjLEUA0NG6aP1",
      "include_colab_link": true
    },
    "gpuClass": "standard",
    "kernelspec": {
      "display_name": "Python 3",
      "name": "python3"
    },
    "language_info": {
      "name": "python"
    }
  },
  "nbformat": 4,
  "nbformat_minor": 0
}