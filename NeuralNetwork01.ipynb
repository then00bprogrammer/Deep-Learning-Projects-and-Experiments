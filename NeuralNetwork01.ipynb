{
  "nbformat": 4,
  "nbformat_minor": 0,
  "metadata": {
    "colab": {
      "provenance": [],
      "collapsed_sections": [],
      "authorship_tag": "ABX9TyOQZNnFo1kLrNNAUZcMa+8m",
      "include_colab_link": true
    },
    "kernelspec": {
      "name": "python3",
      "display_name": "Python 3"
    },
    "language_info": {
      "name": "python"
    },
    "accelerator": "GPU",
    "gpuClass": "standard"
  },
  "cells": [
    {
      "cell_type": "markdown",
      "metadata": {
        "id": "view-in-github",
        "colab_type": "text"
      },
      "source": [
        "<a href=\"https://colab.research.google.com/github/then00bprogrammer/Deep-Learning-Projects-and-Experiments/blob/main/NeuralNetwork01.ipynb\" target=\"_parent\"><img src=\"https://colab.research.google.com/assets/colab-badge.svg\" alt=\"Open In Colab\"/></a>"
      ]
    },
    {
      "cell_type": "markdown",
      "source": [
        "#Intro to Regression with Neural Networks in TensorFlow"
      ],
      "metadata": {
        "id": "3WfYRBvXxQLv"
      }
    },
    {
      "cell_type": "code",
      "source": [
        "import tensorflow as tf\n",
        "print(tf.__version__)"
      ],
      "metadata": {
        "colab": {
          "base_uri": "https://localhost:8080/"
        },
        "id": "sXLPzN4CxoWa",
        "outputId": "c9168e40-b2b3-4b41-d1e9-3aecdc94356c"
      },
      "execution_count": null,
      "outputs": [
        {
          "output_type": "stream",
          "name": "stdout",
          "text": [
            "2.8.2\n"
          ]
        }
      ]
    },
    {
      "cell_type": "markdown",
      "source": [
        "Creating data to view and fit"
      ],
      "metadata": {
        "id": "JJC3qnYEx1zu"
      }
    },
    {
      "cell_type": "code",
      "source": [
        "import numpy as np\n",
        "import matplotlib.pyplot as plt\n",
        "\n",
        "#Create Features\n",
        "X=np.array([-7.0,-4.0,-1.0,2.0,5.0,8.0,11.0,14.0])\n",
        "\n",
        "#Create Labels\n",
        "y=np.array([3.0,6.0,9.0,12.0,15.0,18.0,21.0,24.0])\n",
        "\n",
        "#Visualize it\n",
        "plt.scatter(X,y)\n"
      ],
      "metadata": {
        "colab": {
          "base_uri": "https://localhost:8080/",
          "height": 286
        },
        "id": "LlYaxMEvx4fr",
        "outputId": "98b784ac-7583-4ec8-c617-c0fefc5f0c2f"
      },
      "execution_count": null,
      "outputs": [
        {
          "output_type": "execute_result",
          "data": {
            "text/plain": [
              "<matplotlib.collections.PathCollection at 0x7f3cd3eaa8d0>"
            ]
          },
          "metadata": {},
          "execution_count": 2
        },
        {
          "output_type": "display_data",
          "data": {
            "text/plain": [
              "<Figure size 432x288 with 1 Axes>"
            ],
            "image/png": "[encoded data removed]"
          },
          "metadata": {
            "needs_background": "light"
          }
        }
      ]
    },
    {
      "cell_type": "code",
      "source": [
        "y==X+10"
      ],
      "metadata": {
        "colab": {
          "base_uri": "https://localhost:8080/"
        },
        "id": "nMFxwg1nyuAi",
        "outputId": "4821330f-1804-464f-ac6a-46b2cdf5180e"
      },
      "execution_count": null,
      "outputs": [
        {
          "output_type": "execute_result",
          "data": {
            "text/plain": [
              "array([ True,  True,  True,  True,  True,  True,  True,  True])"
            ]
          },
          "metadata": {},
          "execution_count": 3
        }
      ]
    },
    {
      "cell_type": "markdown",
      "source": [
        "#Input and Output Shapes"
      ],
      "metadata": {
        "id": "YOpIOAGby8_6"
      }
    },
    {
      "cell_type": "code",
      "source": [
        "#Create a demo tensor for out housing price prediction problem\n",
        "house_info=tf.constant(['bedroom','bathroom','garage'])\n",
        "house_price=tf.constant([939700])\n",
        "house_info,house_price"
      ],
      "metadata": {
        "colab": {
          "base_uri": "https://localhost:8080/"
        },
        "id": "DSORh84jzAVx",
        "outputId": "73f9e693-5cb3-4ce6-fd26-69e5947665ab"
      },
      "execution_count": null,
      "outputs": [
        {
          "output_type": "execute_result",
          "data": {
            "text/plain": [
              "(<tf.Tensor: shape=(3,), dtype=string, numpy=array([b'bedroom', b'bathroom', b'garage'], dtype=object)>,\n",
              " <tf.Tensor: shape=(1,), dtype=int32, numpy=array([939700], dtype=int32)>)"
            ]
          },
          "metadata": {},
          "execution_count": 4
        }
      ]
    },
    {
      "cell_type": "code",
      "source": [
        "input_shape=X.shape\n",
        "output_shape=y.shape\n",
        "input_shape,output_shape\n"
      ],
      "metadata": {
        "colab": {
          "base_uri": "https://localhost:8080/"
        },
        "id": "m-HZmW42zqwf",
        "outputId": "41607516-fe44-4201-a919-f48efb3ea5fd"
      },
      "execution_count": null,
      "outputs": [
        {
          "output_type": "execute_result",
          "data": {
            "text/plain": [
              "((8,), (8,))"
            ]
          },
          "metadata": {},
          "execution_count": 5
        }
      ]
    },
    {
      "cell_type": "code",
      "source": [
        "X[0].ndim"
      ],
      "metadata": {
        "colab": {
          "base_uri": "https://localhost:8080/"
        },
        "id": "s74aOuxx0Jtt",
        "outputId": "0b26aa0f-9e7a-45d4-ebce-702bbff8d8be"
      },
      "execution_count": null,
      "outputs": [
        {
          "output_type": "execute_result",
          "data": {
            "text/plain": [
              "0"
            ]
          },
          "metadata": {},
          "execution_count": 6
        }
      ]
    },
    {
      "cell_type": "code",
      "source": [
        "X[0],y[0]"
      ],
      "metadata": {
        "colab": {
          "base_uri": "https://localhost:8080/"
        },
        "id": "sH80SXwx0Ncg",
        "outputId": "c3666386-75a3-4f6f-ab59-2410e6611b83"
      },
      "execution_count": null,
      "outputs": [
        {
          "output_type": "execute_result",
          "data": {
            "text/plain": [
              "(-7.0, 3.0)"
            ]
          },
          "metadata": {},
          "execution_count": 7
        }
      ]
    },
    {
      "cell_type": "code",
      "source": [
        "#Turn our numpy arrays into tenses\n",
        "X=tf.constant(X)\n",
        "y=tf.constant(y)\n",
        "X,y"
      ],
      "metadata": {
        "colab": {
          "base_uri": "https://localhost:8080/"
        },
        "id": "jEUQ-pOu0weH",
        "outputId": "b7b10de4-cea7-4d37-885b-2d6e35f772b9"
      },
      "execution_count": null,
      "outputs": [
        {
          "output_type": "execute_result",
          "data": {
            "text/plain": [
              "(<tf.Tensor: shape=(8,), dtype=float64, numpy=array([-7., -4., -1.,  2.,  5.,  8., 11., 14.])>,\n",
              " <tf.Tensor: shape=(8,), dtype=float64, numpy=array([ 3.,  6.,  9., 12., 15., 18., 21., 24.])>)"
            ]
          },
          "metadata": {},
          "execution_count": 8
        }
      ]
    },
    {
      "cell_type": "code",
      "source": [
        "X[0].shape,y[0].shape"
      ],
      "metadata": {
        "colab": {
          "base_uri": "https://localhost:8080/"
        },
        "id": "l2Ym-ONa1W7s",
        "outputId": "44db9471-b135-49fa-accc-c38ec2a1314c"
      },
      "execution_count": null,
      "outputs": [
        {
          "output_type": "execute_result",
          "data": {
            "text/plain": [
              "(TensorShape([]), TensorShape([]))"
            ]
          },
          "metadata": {},
          "execution_count": 9
        }
      ]
    },
    {
      "cell_type": "markdown",
      "source": [
        "#Steps in modelling with TensorFlow\n",
        "\n",
        "1. **Create a model** - define the input and output layers, as well as the hidden layers of a deep learning model.\n",
        "2. **Compile a model** - define the loss function(tells us how wrong our model is) and optimizer(tells our model how to improve patterns) and evaluation metrics(what we can use to interpret the performance of our model).\n",
        "3. **Fitting a model**- letting the mosel try to find patterns b/w X and y."
      ],
      "metadata": {
        "id": "4Tel6tnQ1di3"
      }
    },
    {
      "cell_type": "code",
      "source": [
        "#Set random seed\n",
        "tf.random.set_seed(42)"
      ],
      "metadata": {
        "id": "C-rox2-42xBa"
      },
      "execution_count": null,
      "outputs": []
    },
    {
      "cell_type": "code",
      "source": [
        "from tensorflow.python import metrics\n",
        "#Create A MODEL\n",
        "\n",
        "#1. Create a model using Sequential API\n",
        "model = tf.keras.Sequential([\n",
        "    tf.keras.layers.Dense(1)\n",
        "])\n",
        "\n",
        "#2. Compile the model\n",
        "model.compile(loss=tf.keras.losses.mae,\n",
        "              optimizer = tf.keras.optimizers.SGD(),\n",
        "              metrics=[\"mae\"]\n",
        "              ) #maE = MEAN ABSOLUTE ERROR\n",
        "#SGD is Stochastic gradient descent\n",
        "\n",
        "\n",
        "#3. Fit the model\n",
        "model.fit(tf.expand_dims(X, axis=-1), y, epochs=5)\n",
        "\n",
        "\n"
      ],
      "metadata": {
        "colab": {
          "base_uri": "https://localhost:8080/"
        },
        "id": "U49QkAYJ2-Te",
        "outputId": "07e202ee-0ca6-4af0-b58c-9c15ca7132f2"
      },
      "execution_count": null,
      "outputs": [
        {
          "output_type": "stream",
          "name": "stdout",
          "text": [
            "Epoch 1/5\n",
            "1/1 [==============================] - 1s 989ms/step - loss: 11.5048 - mae: 11.5048\n",
            "Epoch 2/5\n",
            "1/1 [==============================] - 0s 8ms/step - loss: 11.3723 - mae: 11.3723\n",
            "Epoch 3/5\n",
            "1/1 [==============================] - 0s 12ms/step - loss: 11.2398 - mae: 11.2398\n",
            "Epoch 4/5\n",
            "1/1 [==============================] - 0s 7ms/step - loss: 11.1073 - mae: 11.1073\n",
            "Epoch 5/5\n",
            "1/1 [==============================] - 0s 6ms/step - loss: 10.9748 - mae: 10.9748\n"
          ]
        },
        {
          "output_type": "execute_result",
          "data": {
            "text/plain": [
              "<keras.callbacks.History at 0x7f3cc00fc650>"
            ]
          },
          "metadata": {},
          "execution_count": 11
        }
      ]
    },
    {
      "cell_type": "code",
      "source": [
        "#Check out X and y\n",
        "X,y"
      ],
      "metadata": {
        "colab": {
          "base_uri": "https://localhost:8080/"
        },
        "id": "O_el8q6E80Ao",
        "outputId": "a9d80ada-5c8e-4099-a47b-8d313b7986f1"
      },
      "execution_count": null,
      "outputs": [
        {
          "output_type": "execute_result",
          "data": {
            "text/plain": [
              "(<tf.Tensor: shape=(8,), dtype=float64, numpy=array([-7., -4., -1.,  2.,  5.,  8., 11., 14.])>,\n",
              " <tf.Tensor: shape=(8,), dtype=float64, numpy=array([ 3.,  6.,  9., 12., 15., 18., 21., 24.])>)"
            ]
          },
          "metadata": {},
          "execution_count": 12
        }
      ]
    },
    {
      "cell_type": "code",
      "source": [
        "model.predict([17.0])"
      ],
      "metadata": {
        "colab": {
          "base_uri": "https://localhost:8080/"
        },
        "id": "6eqp7s5l9bq1",
        "outputId": "1e000bc8-c295-4f49-e535-a5dcaf35a699"
      },
      "execution_count": null,
      "outputs": [
        {
          "output_type": "execute_result",
          "data": {
            "text/plain": [
              "array([[12.716021]], dtype=float32)"
            ]
          },
          "metadata": {},
          "execution_count": 13
        }
      ]
    },
    {
      "cell_type": "markdown",
      "source": [
        "#Improving Our Model\n",
        "\n",
        "We can improve our model, by alt  ering the steps we took to create a model.\n",
        "1. **Create a model**- here we might add more layers, increase the number of hidden units(also called neurons) within each of the hidden layer, change the activation function of each layer.\n",
        "\n",
        "2. **Compiling the model**- here we might alter the optimization function or perhaps the **learning rate** of the optimzation function.\n",
        "3. **Fitting the model**- here we might fit a model for more **epochs**(leave it for traininf longer) or on more data(give the model more examples to learn from)"
      ],
      "metadata": {
        "id": "NTnde6fJ93mR"
      }
    },
    {
      "cell_type": "markdown",
      "source": [
        "##Rebuilding the Model"
      ],
      "metadata": {
        "id": "-t0cEo7Ixyvh"
      }
    },
    {
      "cell_type": "code",
      "source": [
        "# 1. Create a Model\n",
        "model= tf.keras.Sequential(\n",
        "    [tf.keras.layers.Dense(100,activation=None),\n",
        "     tf.keras.layers.Dense(1)]\n",
        ")\n",
        "\n",
        "#2. Compile the Model\n",
        "model.compile(loss=tf.keras.losses.mae,\n",
        "              optimizer=tf.keras\n",
        "              .optimizers.Adam(lr=0.01),\n",
        "              metrics=[\"mae\"])\n",
        "\n",
        "#3. Fit the Model\n",
        "model.fit(tf.expand_dims(X, axis=-1), y, epochs=100)"
      ],
      "metadata": {
        "colab": {
          "base_uri": "https://localhost:8080/"
        },
        "id": "I-cBZHcex1YK",
        "outputId": "18993a86-11de-49b4-87aa-5fc3ace2998b"
      },
      "execution_count": null,
      "outputs": [
        {
          "output_type": "stream",
          "name": "stdout",
          "text": [
            "Epoch 1/100\n"
          ]
        },
        {
          "output_type": "stream",
          "name": "stderr",
          "text": [
            "/usr/local/lib/python3.7/dist-packages/keras/optimizer_v2/adam.py:105: UserWarning: The `lr` argument is deprecated, use `learning_rate` instead.\n",
            "  super(Adam, self).__init__(name, **kwargs)\n"
          ]
        },
        {
          "output_type": "stream",
          "name": "stdout",
          "text": [
            "1/1 [==============================] - 1s 650ms/step - loss: 14.6302 - mae: 14.6302\n",
            "Epoch 2/100\n",
            "1/1 [==============================] - 0s 9ms/step - loss: 13.6545 - mae: 13.6545\n",
            "Epoch 3/100\n",
            "1/1 [==============================] - 0s 11ms/step - loss: 12.6828 - mae: 12.6828\n",
            "Epoch 4/100\n",
            "1/1 [==============================] - 0s 9ms/step - loss: 11.7088 - mae: 11.7088\n",
            "Epoch 5/100\n",
            "1/1 [==============================] - 0s 7ms/step - loss: 10.7265 - mae: 10.7265\n",
            "Epoch 6/100\n",
            "1/1 [==============================] - 0s 19ms/step - loss: 9.7303 - mae: 9.7303\n",
            "Epoch 7/100\n",
            "1/1 [==============================] - 0s 10ms/step - loss: 8.7154 - mae: 8.7154\n",
            "Epoch 8/100\n",
            "1/1 [==============================] - 0s 16ms/step - loss: 7.6770 - mae: 7.6770\n",
            "Epoch 9/100\n",
            "1/1 [==============================] - 0s 11ms/step - loss: 6.6850 - mae: 6.6850\n",
            "Epoch 10/100\n",
            "1/1 [==============================] - 0s 20ms/step - loss: 6.8416 - mae: 6.8416\n",
            "Epoch 11/100\n",
            "1/1 [==============================] - 0s 10ms/step - loss: 7.2148 - mae: 7.2148\n",
            "Epoch 12/100\n",
            "1/1 [==============================] - 0s 10ms/step - loss: 7.6199 - mae: 7.6199\n",
            "Epoch 13/100\n",
            "1/1 [==============================] - 0s 9ms/step - loss: 7.6673 - mae: 7.6673\n",
            "Epoch 14/100\n",
            "1/1 [==============================] - 0s 11ms/step - loss: 7.4445 - mae: 7.4445\n",
            "Epoch 15/100\n",
            "1/1 [==============================] - 0s 17ms/step - loss: 7.0307 - mae: 7.0307\n",
            "Epoch 16/100\n",
            "1/1 [==============================] - 0s 21ms/step - loss: 6.6182 - mae: 6.6182\n",
            "Epoch 17/100\n",
            "1/1 [==============================] - 0s 11ms/step - loss: 6.2543 - mae: 6.2543\n",
            "Epoch 18/100\n",
            "1/1 [==============================] - 0s 12ms/step - loss: 5.9449 - mae: 5.9449\n",
            "Epoch 19/100\n",
            "1/1 [==============================] - 0s 9ms/step - loss: 5.8876 - mae: 5.8876\n",
            "Epoch 20/100\n",
            "1/1 [==============================] - 0s 12ms/step - loss: 6.0335 - mae: 6.0335\n",
            "Epoch 21/100\n",
            "1/1 [==============================] - 0s 9ms/step - loss: 6.1118 - mae: 6.1118\n",
            "Epoch 22/100\n",
            "1/1 [==============================] - 0s 8ms/step - loss: 6.0524 - mae: 6.0524\n",
            "Epoch 23/100\n",
            "1/1 [==============================] - 0s 7ms/step - loss: 5.8729 - mae: 5.8729\n",
            "Epoch 24/100\n",
            "1/1 [==============================] - 0s 14ms/step - loss: 5.5856 - mae: 5.5856\n",
            "Epoch 25/100\n",
            "1/1 [==============================] - 0s 7ms/step - loss: 5.2610 - mae: 5.2610\n",
            "Epoch 26/100\n",
            "1/1 [==============================] - 0s 39ms/step - loss: 5.1116 - mae: 5.1116\n",
            "Epoch 27/100\n",
            "1/1 [==============================] - 0s 11ms/step - loss: 5.0216 - mae: 5.0216\n",
            "Epoch 28/100\n",
            "1/1 [==============================] - 0s 26ms/step - loss: 4.9988 - mae: 4.9988\n",
            "Epoch 29/100\n",
            "1/1 [==============================] - 0s 14ms/step - loss: 4.9181 - mae: 4.9181\n",
            "Epoch 30/100\n",
            "1/1 [==============================] - 0s 11ms/step - loss: 4.7834 - mae: 4.7834\n",
            "Epoch 31/100\n",
            "1/1 [==============================] - 0s 13ms/step - loss: 4.5985 - mae: 4.5985\n",
            "Epoch 32/100\n",
            "1/1 [==============================] - 0s 13ms/step - loss: 4.3670 - mae: 4.3670\n",
            "Epoch 33/100\n",
            "1/1 [==============================] - 0s 12ms/step - loss: 4.1154 - mae: 4.1154\n",
            "Epoch 34/100\n",
            "1/1 [==============================] - 0s 13ms/step - loss: 3.9706 - mae: 3.9706\n",
            "Epoch 35/100\n",
            "1/1 [==============================] - 0s 11ms/step - loss: 3.8121 - mae: 3.8121\n",
            "Epoch 36/100\n",
            "1/1 [==============================] - 0s 18ms/step - loss: 3.7090 - mae: 3.7090\n",
            "Epoch 37/100\n",
            "1/1 [==============================] - 0s 12ms/step - loss: 3.4749 - mae: 3.4749\n",
            "Epoch 38/100\n",
            "1/1 [==============================] - 0s 13ms/step - loss: 3.2067 - mae: 3.2067\n",
            "Epoch 39/100\n",
            "1/1 [==============================] - 0s 13ms/step - loss: 2.9859 - mae: 2.9859\n",
            "Epoch 40/100\n",
            "1/1 [==============================] - 0s 13ms/step - loss: 2.8180 - mae: 2.8180\n",
            "Epoch 41/100\n",
            "1/1 [==============================] - 0s 11ms/step - loss: 2.5758 - mae: 2.5758\n",
            "Epoch 42/100\n",
            "1/1 [==============================] - 0s 11ms/step - loss: 2.2613 - mae: 2.2613\n",
            "Epoch 43/100\n",
            "1/1 [==============================] - 0s 15ms/step - loss: 1.9896 - mae: 1.9896\n",
            "Epoch 44/100\n",
            "1/1 [==============================] - 0s 12ms/step - loss: 1.8610 - mae: 1.8610\n",
            "Epoch 45/100\n",
            "1/1 [==============================] - 0s 7ms/step - loss: 1.5442 - mae: 1.5442\n",
            "Epoch 46/100\n",
            "1/1 [==============================] - 0s 11ms/step - loss: 1.0797 - mae: 1.0797\n",
            "Epoch 47/100\n",
            "1/1 [==============================] - 0s 9ms/step - loss: 0.9138 - mae: 0.9138\n",
            "Epoch 48/100\n",
            "1/1 [==============================] - 0s 9ms/step - loss: 0.6021 - mae: 0.6021\n",
            "Epoch 49/100\n",
            "1/1 [==============================] - 0s 9ms/step - loss: 0.0555 - mae: 0.0555\n",
            "Epoch 50/100\n",
            "1/1 [==============================] - 0s 9ms/step - loss: 0.3266 - mae: 0.3266\n",
            "Epoch 51/100\n",
            "1/1 [==============================] - 0s 24ms/step - loss: 0.6898 - mae: 0.6898\n",
            "Epoch 52/100\n",
            "1/1 [==============================] - 0s 9ms/step - loss: 0.8215 - mae: 0.8215\n",
            "Epoch 53/100\n",
            "1/1 [==============================] - 0s 27ms/step - loss: 1.0171 - mae: 1.0171\n",
            "Epoch 54/100\n",
            "1/1 [==============================] - 0s 10ms/step - loss: 1.0736 - mae: 1.0736\n",
            "Epoch 55/100\n",
            "1/1 [==============================] - 0s 14ms/step - loss: 1.0185 - mae: 1.0185\n",
            "Epoch 56/100\n",
            "1/1 [==============================] - 0s 13ms/step - loss: 1.0045 - mae: 1.0045\n",
            "Epoch 57/100\n",
            "1/1 [==============================] - 0s 12ms/step - loss: 0.8721 - mae: 0.8721\n",
            "Epoch 58/100\n",
            "1/1 [==============================] - 0s 11ms/step - loss: 0.7378 - mae: 0.7378\n",
            "Epoch 59/100\n",
            "1/1 [==============================] - 0s 8ms/step - loss: 0.5968 - mae: 0.5968\n",
            "Epoch 60/100\n",
            "1/1 [==============================] - 0s 10ms/step - loss: 0.3704 - mae: 0.3704\n",
            "Epoch 61/100\n",
            "1/1 [==============================] - 0s 19ms/step - loss: 0.1464 - mae: 0.1464\n",
            "Epoch 62/100\n",
            "1/1 [==============================] - 0s 17ms/step - loss: 0.2101 - mae: 0.2101\n",
            "Epoch 63/100\n",
            "1/1 [==============================] - 0s 15ms/step - loss: 0.3325 - mae: 0.3325\n",
            "Epoch 64/100\n",
            "1/1 [==============================] - 0s 10ms/step - loss: 0.4069 - mae: 0.4069\n",
            "Epoch 65/100\n",
            "1/1 [==============================] - 0s 11ms/step - loss: 0.6025 - mae: 0.6025\n",
            "Epoch 66/100\n",
            "1/1 [==============================] - 0s 10ms/step - loss: 0.6283 - mae: 0.6283\n",
            "Epoch 67/100\n",
            "1/1 [==============================] - 0s 11ms/step - loss: 0.4829 - mae: 0.4829\n",
            "Epoch 68/100\n",
            "1/1 [==============================] - 0s 10ms/step - loss: 0.5359 - mae: 0.5359\n",
            "Epoch 69/100\n",
            "1/1 [==============================] - 0s 11ms/step - loss: 0.4023 - mae: 0.4023\n",
            "Epoch 70/100\n",
            "1/1 [==============================] - 0s 10ms/step - loss: 0.3767 - mae: 0.3767\n",
            "Epoch 71/100\n",
            "1/1 [==============================] - 0s 11ms/step - loss: 0.2337 - mae: 0.2337\n",
            "Epoch 72/100\n",
            "1/1 [==============================] - 0s 10ms/step - loss: 0.2630 - mae: 0.2630\n",
            "Epoch 73/100\n",
            "1/1 [==============================] - 0s 12ms/step - loss: 0.2937 - mae: 0.2937\n",
            "Epoch 74/100\n",
            "1/1 [==============================] - 0s 19ms/step - loss: 0.3366 - mae: 0.3366\n",
            "Epoch 75/100\n",
            "1/1 [==============================] - 0s 14ms/step - loss: 0.4169 - mae: 0.4169\n",
            "Epoch 76/100\n",
            "1/1 [==============================] - 0s 22ms/step - loss: 0.2725 - mae: 0.2725\n",
            "Epoch 77/100\n",
            "1/1 [==============================] - 0s 11ms/step - loss: 0.4368 - mae: 0.4368\n",
            "Epoch 78/100\n",
            "1/1 [==============================] - 0s 13ms/step - loss: 0.4277 - mae: 0.4277\n",
            "Epoch 79/100\n",
            "1/1 [==============================] - 0s 12ms/step - loss: 0.0438 - mae: 0.0438\n",
            "Epoch 80/100\n",
            "1/1 [==============================] - 0s 17ms/step - loss: 0.6692 - mae: 0.6692\n",
            "Epoch 81/100\n",
            "1/1 [==============================] - 0s 8ms/step - loss: 0.9252 - mae: 0.9252\n",
            "Epoch 82/100\n",
            "1/1 [==============================] - 0s 11ms/step - loss: 0.7875 - mae: 0.7875\n",
            "Epoch 83/100\n",
            "1/1 [==============================] - 0s 11ms/step - loss: 0.3600 - mae: 0.3600\n",
            "Epoch 84/100\n",
            "1/1 [==============================] - 0s 12ms/step - loss: 0.5282 - mae: 0.5282\n",
            "Epoch 85/100\n",
            "1/1 [==============================] - 0s 11ms/step - loss: 0.8020 - mae: 0.8020\n",
            "Epoch 86/100\n",
            "1/1 [==============================] - 0s 10ms/step - loss: 0.8306 - mae: 0.8306\n",
            "Epoch 87/100\n",
            "1/1 [==============================] - 0s 10ms/step - loss: 0.5278 - mae: 0.5278\n",
            "Epoch 88/100\n",
            "1/1 [==============================] - 0s 22ms/step - loss: 0.1109 - mae: 0.1109\n",
            "Epoch 89/100\n",
            "1/1 [==============================] - 0s 15ms/step - loss: 0.3251 - mae: 0.3251\n",
            "Epoch 90/100\n",
            "1/1 [==============================] - 0s 15ms/step - loss: 0.2181 - mae: 0.2181\n",
            "Epoch 91/100\n",
            "1/1 [==============================] - 0s 11ms/step - loss: 0.2310 - mae: 0.2310\n",
            "Epoch 92/100\n",
            "1/1 [==============================] - 0s 12ms/step - loss: 0.2938 - mae: 0.2938\n",
            "Epoch 93/100\n",
            "1/1 [==============================] - 0s 9ms/step - loss: 0.1065 - mae: 0.1065\n",
            "Epoch 94/100\n",
            "1/1 [==============================] - 0s 18ms/step - loss: 0.3063 - mae: 0.3063\n",
            "Epoch 95/100\n",
            "1/1 [==============================] - 0s 10ms/step - loss: 0.2642 - mae: 0.2642\n",
            "Epoch 96/100\n",
            "1/1 [==============================] - 0s 12ms/step - loss: 0.1020 - mae: 0.1020\n",
            "Epoch 97/100\n",
            "1/1 [==============================] - 0s 14ms/step - loss: 0.1953 - mae: 0.1953\n",
            "Epoch 98/100\n",
            "1/1 [==============================] - 0s 19ms/step - loss: 0.0517 - mae: 0.0517\n",
            "Epoch 99/100\n",
            "1/1 [==============================] - 0s 16ms/step - loss: 0.0168 - mae: 0.0168\n",
            "Epoch 100/100\n",
            "1/1 [==============================] - 0s 20ms/step - loss: 0.2231 - mae: 0.2231\n"
          ]
        },
        {
          "output_type": "execute_result",
          "data": {
            "text/plain": [
              "<keras.callbacks.History at 0x7f3cc0051f10>"
            ]
          },
          "metadata": {},
          "execution_count": 14
        }
      ]
    },
    {
      "cell_type": "code",
      "source": [
        "model.predict([17.0])"
      ],
      "metadata": {
        "colab": {
          "base_uri": "https://localhost:8080/"
        },
        "id": "0RAht2k8ykV7",
        "outputId": "2574bc2f-c2d1-4d75-b79d-97f63b66a764"
      },
      "execution_count": null,
      "outputs": [
        {
          "output_type": "execute_result",
          "data": {
            "text/plain": [
              "array([[26.718159]], dtype=float32)"
            ]
          },
          "metadata": {},
          "execution_count": 15
        }
      ]
    },
    {
      "cell_type": "markdown",
      "source": [
        "##Evaluating a Model"
      ],
      "metadata": {
        "id": "zh35VUza0MzN"
      }
    },
    {
      "cell_type": "code",
      "source": [
        "# Make a bigger dataset\n",
        "X = np.arange(-100, 100, 4)\n",
        "X"
      ],
      "metadata": {
        "colab": {
          "base_uri": "https://localhost:8080/"
        },
        "id": "OT8t2_lZ5XtZ",
        "outputId": "6d6f9626-95bf-448b-bc01-11337bcf4bd6"
      },
      "execution_count": null,
      "outputs": [
        {
          "output_type": "execute_result",
          "data": {
            "text/plain": [
              "array([-100,  -96,  -92,  -88,  -84,  -80,  -76,  -72,  -68,  -64,  -60,\n",
              "        -56,  -52,  -48,  -44,  -40,  -36,  -32,  -28,  -24,  -20,  -16,\n",
              "        -12,   -8,   -4,    0,    4,    8,   12,   16,   20,   24,   28,\n",
              "         32,   36,   40,   44,   48,   52,   56,   60,   64,   68,   72,\n",
              "         76,   80,   84,   88,   92,   96])"
            ]
          },
          "metadata": {},
          "execution_count": 16
        }
      ]
    },
    {
      "cell_type": "code",
      "source": [
        "# Make labels for the dataset (adhering to the same pattern as before)\n",
        "y = np.arange(-90, 110, 4)\n",
        "y"
      ],
      "metadata": {
        "colab": {
          "base_uri": "https://localhost:8080/"
        },
        "id": "YO8XOd8SJBPb",
        "outputId": "615848ce-09df-43a0-cfd8-a9b7e3f51db4"
      },
      "execution_count": null,
      "outputs": [
        {
          "output_type": "execute_result",
          "data": {
            "text/plain": [
              "array([-90, -86, -82, -78, -74, -70, -66, -62, -58, -54, -50, -46, -42,\n",
              "       -38, -34, -30, -26, -22, -18, -14, -10,  -6,  -2,   2,   6,  10,\n",
              "        14,  18,  22,  26,  30,  34,  38,  42,  46,  50,  54,  58,  62,\n",
              "        66,  70,  74,  78,  82,  86,  90,  94,  98, 102, 106])"
            ]
          },
          "metadata": {},
          "execution_count": 17
        }
      ]
    },
    {
      "cell_type": "markdown",
      "source": [
        "##Split data into training/test set"
      ],
      "metadata": {
        "id": "OIlYUjoMJRL5"
      }
    },
    {
      "cell_type": "code",
      "source": [
        "# Check how many samples we have\n",
        "len(X)"
      ],
      "metadata": {
        "colab": {
          "base_uri": "https://localhost:8080/"
        },
        "id": "eg3E5NMOJDMj",
        "outputId": "8b89547d-ab96-476f-ed1c-e7fcdf86a39f"
      },
      "execution_count": null,
      "outputs": [
        {
          "output_type": "execute_result",
          "data": {
            "text/plain": [
              "50"
            ]
          },
          "metadata": {},
          "execution_count": 18
        }
      ]
    },
    {
      "cell_type": "code",
      "source": [
        "# Split data into train and test sets\n",
        "X_train = X[:40] # first 40 examples (80% of data)\n",
        "y_train = y[:40]\n",
        "\n",
        "X_test = X[40:] # last 10 examples (20% of data)\n",
        "y_test = y[40:]\n",
        "\n",
        "len(X_train), len(X_test)"
      ],
      "metadata": {
        "colab": {
          "base_uri": "https://localhost:8080/"
        },
        "id": "5sHE3_oIJN4W",
        "outputId": "4306d4dd-6620-4aa5-a6e3-a5bb5e1ab15c"
      },
      "execution_count": null,
      "outputs": [
        {
          "output_type": "execute_result",
          "data": {
            "text/plain": [
              "(40, 10)"
            ]
          },
          "metadata": {},
          "execution_count": 19
        }
      ]
    },
    {
      "cell_type": "markdown",
      "source": [
        "##Visualizing the data"
      ],
      "metadata": {
        "id": "B4BYWCOiJd3u"
      }
    },
    {
      "cell_type": "code",
      "source": [
        "plt.figure(figsize=(10, 7))\n",
        "# Plot training data in blue\n",
        "plt.scatter(X_train, y_train, c='b', label='Training data')\n",
        "# Plot test data in green\n",
        "plt.scatter(X_test, y_test, c='g', label='Testing data')\n",
        "# Show the legend\n",
        "plt.legend();"
      ],
      "metadata": {
        "colab": {
          "base_uri": "https://localhost:8080/",
          "height": 428
        },
        "id": "NWKA8TSaJfRr",
        "outputId": "26b087df-336b-4ef0-afc7-2bfd191fea0d"
      },
      "execution_count": null,
      "outputs": [
        {
          "output_type": "display_data",
          "data": {
            "text/plain": [
              "<Figure size 720x504 with 1 Axes>"
            ],
            "image/png": "[encoded data removed]"
          },
          "metadata": {
            "needs_background": "light"
          }
        }
      ]
    },
    {
      "cell_type": "code",
      "source": [
        "# Set random seed\n",
        "tf.random.set_seed(42)\n",
        "\n",
        "# Create a model (same as above)\n",
        "model = tf.keras.Sequential([\n",
        "  tf.keras.layers.Dense(1)\n",
        "])\n",
        "\n",
        "# Compile model (same as above)\n",
        "model.compile(loss=tf.keras.losses.mae,\n",
        "              optimizer=tf.keras.optimizers.SGD(),\n",
        "              metrics=[\"mae\"])\n",
        "\n",
        "# Fit model (same as above)\n",
        "#model.fit(X_train, y_train, epochs=100) # commented out on purpose (not fitting "
      ],
      "metadata": {
        "id": "wcgCopxsJi3w"
      },
      "execution_count": null,
      "outputs": []
    },
    {
      "cell_type": "code",
      "source": [
        "# model.summary()"
      ],
      "metadata": {
        "id": "B9iuIHVUJpVC"
      },
      "execution_count": null,
      "outputs": []
    },
    {
      "cell_type": "code",
      "source": [
        "# Set random seed\n",
        "tf.random.set_seed(42)\n",
        "\n",
        "# Create a model (same as above)\n",
        "model = tf.keras.Sequential([\n",
        "  tf.keras.layers.Dense(10, input_shape=[1],name='input_layer'), # define the input_shape to our model\n",
        "  tf.keras.layers.Dense(1, input_shape=[1],name='output_layer')\n",
        "],name='first_model')\n",
        "\n",
        "# Compile model (same as above)\n",
        "model.compile(loss=tf.keras.losses.mae,\n",
        "              optimizer=tf.keras.optimizers.SGD(),\n",
        "              metrics=[\"mae\"])"
      ],
      "metadata": {
        "id": "9n-enGV_JrpK"
      },
      "execution_count": null,
      "outputs": []
    },
    {
      "cell_type": "code",
      "source": [
        "# This will work after specifying the input shape\n",
        "model.summary()"
      ],
      "metadata": {
        "colab": {
          "base_uri": "https://localhost:8080/"
        },
        "id": "CV4iHDStJs4n",
        "outputId": "463f5d5b-d15d-4bea-fc0e-1fbf2147f1f4"
      },
      "execution_count": null,
      "outputs": [
        {
          "output_type": "stream",
          "name": "stdout",
          "text": [
            "Model: \"first_model\"\n",
            "_________________________________________________________________\n",
            " Layer (type)                Output Shape              Param #   \n",
            "=================================================================\n",
            " input_layer (Dense)         (None, 10)                20        \n",
            "                                                                 \n",
            " output_layer (Dense)        (None, 1)                 11        \n",
            "                                                                 \n",
            "=================================================================\n",
            "Total params: 31\n",
            "Trainable params: 31\n",
            "Non-trainable params: 0\n",
            "_________________________________________________________________\n"
          ]
        }
      ]
    },
    {
      "cell_type": "code",
      "source": [
        "# Fit the model to the training data\n",
        "model.fit(X_train, y_train, epochs=100, verbose=0) # verbose controls how much gets"
      ],
      "metadata": {
        "colab": {
          "base_uri": "https://localhost:8080/"
        },
        "id": "bGwloeTmJ2PD",
        "outputId": "0d1caad9-3f44-4191-ed88-2af717d38f34"
      },
      "execution_count": null,
      "outputs": [
        {
          "output_type": "execute_result",
          "data": {
            "text/plain": [
              "<keras.callbacks.History at 0x7f3c565a5dd0>"
            ]
          },
          "metadata": {},
          "execution_count": 25
        }
      ]
    },
    {
      "cell_type": "code",
      "source": [
        "model.summary()"
      ],
      "metadata": {
        "colab": {
          "base_uri": "https://localhost:8080/"
        },
        "id": "7OqF-U81J7QK",
        "outputId": "28f5fe50-d551-4816-c71e-fb3ac094c54b"
      },
      "execution_count": null,
      "outputs": [
        {
          "output_type": "stream",
          "name": "stdout",
          "text": [
            "Model: \"first_model\"\n",
            "_________________________________________________________________\n",
            " Layer (type)                Output Shape              Param #   \n",
            "=================================================================\n",
            " input_layer (Dense)         (None, 10)                20        \n",
            "                                                                 \n",
            " output_layer (Dense)        (None, 1)                 11        \n",
            "                                                                 \n",
            "=================================================================\n",
            "Total params: 31\n",
            "Trainable params: 31\n",
            "Non-trainable params: 0\n",
            "_________________________________________________________________\n"
          ]
        }
      ]
    },
    {
      "cell_type": "code",
      "source": [
        "from tensorflow.keras.utils import plot_model\n",
        "\n",
        "plot_model(model=model)"
      ],
      "metadata": {
        "colab": {
          "base_uri": "https://localhost:8080/",
          "height": 272
        },
        "id": "f7GOm8k-r7DA",
        "outputId": "e34750c3-8f09-4ef9-cc12-d51be7dc83d4"
      },
      "execution_count": null,
      "outputs": [
        {
          "output_type": "execute_result",
          "data": {
            "image/png": "[encoded data removed]",
            "text/plain": [
              "<IPython.core.display.Image object>"
            ]
          },
          "metadata": {},
          "execution_count": 27
        }
      ]
    },
    {
      "cell_type": "markdown",
      "source": [
        "##Visualizing our Model's Predictions"
      ],
      "metadata": {
        "id": "_sI8GebZtdUq"
      }
    },
    {
      "cell_type": "code",
      "source": [
        "y_pred=model.predict(X_test)\n",
        "y_pred"
      ],
      "metadata": {
        "colab": {
          "base_uri": "https://localhost:8080/"
        },
        "id": "laXlvBl32ItX",
        "outputId": "912e9ced-270a-47d0-f58a-1fc1a1f52d6b"
      },
      "execution_count": null,
      "outputs": [
        {
          "output_type": "execute_result",
          "data": {
            "text/plain": [
              "array([[ 70.55219 ],\n",
              "       [ 75.139915],\n",
              "       [ 79.72764 ],\n",
              "       [ 84.31536 ],\n",
              "       [ 88.90308 ],\n",
              "       [ 93.49081 ],\n",
              "       [ 98.07853 ],\n",
              "       [102.66626 ],\n",
              "       [107.253975],\n",
              "       [111.841705]], dtype=float32)"
            ]
          },
          "metadata": {},
          "execution_count": 28
        }
      ]
    },
    {
      "cell_type": "code",
      "source": [
        "y_test"
      ],
      "metadata": {
        "colab": {
          "base_uri": "https://localhost:8080/"
        },
        "id": "H6TMJLpq2fnn",
        "outputId": "9e8cd529-e942-4db5-a8b5-b3a4826ad55a"
      },
      "execution_count": null,
      "outputs": [
        {
          "output_type": "execute_result",
          "data": {
            "text/plain": [
              "array([ 70,  74,  78,  82,  86,  90,  94,  98, 102, 106])"
            ]
          },
          "metadata": {},
          "execution_count": 29
        }
      ]
    },
    {
      "cell_type": "code",
      "source": [
        "plt.scatter(X_test,y_pred,c='r')\n",
        "plt.scatter(X_test,y_test,c=\"g\")\n",
        "plt.legend()"
      ],
      "metadata": {
        "colab": {
          "base_uri": "https://localhost:8080/",
          "height": 300
        },
        "id": "JQ1_aZR62hhq",
        "outputId": "a11f8a10-9482-479b-8bdf-b1c17e54d424"
      },
      "execution_count": null,
      "outputs": [
        {
          "output_type": "stream",
          "name": "stderr",
          "text": [
            "WARNING:matplotlib.legend:No handles with labels found to put in legend.\n"
          ]
        },
        {
          "output_type": "execute_result",
          "data": {
            "text/plain": [
              "<matplotlib.legend.Legend at 0x7f3c5636b090>"
            ]
          },
          "metadata": {},
          "execution_count": 30
        },
        {
          "output_type": "display_data",
          "data": {
            "text/plain": [
              "<Figure size 432x288 with 1 Axes>"
            ],
            "image/png": "[encoded data removed]"
          },
          "metadata": {
            "needs_background": "light"
          }
        }
      ]
    },
    {
      "cell_type": "code",
      "source": [
        "def plot_predictions(train_data=X_train,\n",
        "                     train_labels=y_train,\n",
        "                     test_data=X_test,\n",
        "                     test_labels=y_test,\n",
        "                     predictions=y_pred):\n",
        "  plt.figure(figsize=(10,7))\n",
        "  #Plot training data in blue\n",
        "  plt.scatter(train_data,train_labels,c=\"b\",label=\"Training Data\")\n",
        "  #Plot testing data in green\n",
        "  plt.scatter(test_data,test_labels,c=\"g\",label=\"Testing data\")\n",
        "  #Plot model's prediction in red\n",
        "  plt.scatter(test_data,predictions,c=\"r\",label=\"Predictions\")\n",
        "  #Show the legend\n",
        "  plt.legend()\n"
      ],
      "metadata": {
        "id": "2xFNAubJ2-8J"
      },
      "execution_count": null,
      "outputs": []
    },
    {
      "cell_type": "code",
      "source": [
        "plot_predictions()"
      ],
      "metadata": {
        "colab": {
          "base_uri": "https://localhost:8080/",
          "height": 428
        },
        "id": "tx9VDeW95SNY",
        "outputId": "70112b01-6e30-407d-8b80-12ccc2e99c8f"
      },
      "execution_count": null,
      "outputs": [
        {
          "output_type": "display_data",
          "data": {
            "text/plain": [
              "<Figure size 720x504 with 1 Axes>"
            ],
            "image/png": "[encoded data removed]"
          },
          "metadata": {
            "needs_background": "light"
          }
        }
      ]
    },
    {
      "cell_type": "markdown",
      "source": [
        "##Evaluation Metrics"
      ],
      "metadata": {
        "id": "bTMXflP35aa5"
      }
    },
    {
      "cell_type": "code",
      "source": [
        "model.evaluate(X_test,y_test)"
      ],
      "metadata": {
        "colab": {
          "base_uri": "https://localhost:8080/"
        },
        "id": "o8gQXlnk53rC",
        "outputId": "2f25cab5-0bc6-4c8e-9a53-c3c0c6c48c05"
      },
      "execution_count": null,
      "outputs": [
        {
          "output_type": "stream",
          "name": "stdout",
          "text": [
            "1/1 [==============================] - 0s 269ms/step - loss: 3.1969 - mae: 3.1969\n"
          ]
        },
        {
          "output_type": "execute_result",
          "data": {
            "text/plain": [
              "[3.196946620941162, 3.196946620941162]"
            ]
          },
          "metadata": {},
          "execution_count": 33
        }
      ]
    },
    {
      "cell_type": "code",
      "source": [
        "#Calculating the mean absolute error"
      ],
      "metadata": {
        "id": "uHoqo_5l605-"
      },
      "execution_count": null,
      "outputs": []
    },
    {
      "cell_type": "code",
      "source": [
        "def getMae(y_true=y_test,y_pred=tf.squeeze(y_pred)):\n",
        "  return tf.metrics.mean_absolute_error(y_true=y_true,y_pred=y_pred)"
      ],
      "metadata": {
        "id": "HEyaU_F97cC3"
      },
      "execution_count": null,
      "outputs": []
    },
    {
      "cell_type": "code",
      "source": [
        "getMae()"
      ],
      "metadata": {
        "colab": {
          "base_uri": "https://localhost:8080/"
        },
        "id": "RvQm0prB8_ob",
        "outputId": "71d8d278-2a2c-44d2-d580-e4a04eeb1a81"
      },
      "execution_count": null,
      "outputs": [
        {
          "output_type": "execute_result",
          "data": {
            "text/plain": [
              "<tf.Tensor: shape=(), dtype=float32, numpy=3.1969466>"
            ]
          },
          "metadata": {},
          "execution_count": 36
        }
      ]
    },
    {
      "cell_type": "code",
      "source": [
        "def getMse(y_true=y_test,y_pred=tf.squeeze(y_pred)):\n",
        "  return tf.metrics.mean_squared_error(y_true=y_true,y_pred=y_pred)"
      ],
      "metadata": {
        "id": "kY1loihb9Avt"
      },
      "execution_count": null,
      "outputs": []
    },
    {
      "cell_type": "code",
      "source": [
        "tf.random.set_seed(42)"
      ],
      "metadata": {
        "id": "7QOnQ61I9MeX"
      },
      "execution_count": null,
      "outputs": []
    },
    {
      "cell_type": "code",
      "source": [
        "model_1=tf.keras.Sequential([\n",
        "    tf.keras.layers.Dense(1,input_shape=[1],name='output_layer')\n",
        "])\n",
        "model_1.compile(\n",
        "    loss=tf.keras.losses.mae,\n",
        "    optimizer=tf.keras.optimizers.SGD(),\n",
        "    metrics=[\"mae\"]\n",
        ")\n",
        "model_1.fit(tf.expand_dims(X_train, axis=-1), y_train, epochs=100)"
      ],
      "metadata": {
        "colab": {
          "base_uri": "https://localhost:8080/"
        },
        "id": "Z1eCDI0a_9Fm",
        "outputId": "f48f9312-d8ff-4999-f84c-02f425e3f0f1"
      },
      "execution_count": null,
      "outputs": [
        {
          "output_type": "stream",
          "name": "stdout",
          "text": [
            "Epoch 1/100\n",
            "2/2 [==============================] - 1s 15ms/step - loss: 15.9024 - mae: 15.9024\n",
            "Epoch 2/100\n",
            "2/2 [==============================] - 0s 13ms/step - loss: 11.2837 - mae: 11.2837\n",
            "Epoch 3/100\n",
            "2/2 [==============================] - 0s 11ms/step - loss: 11.1074 - mae: 11.1074\n",
            "Epoch 4/100\n",
            "2/2 [==============================] - 0s 8ms/step - loss: 9.2990 - mae: 9.2990\n",
            "Epoch 5/100\n",
            "2/2 [==============================] - 0s 9ms/step - loss: 10.1677 - mae: 10.1677\n",
            "Epoch 6/100\n",
            "2/2 [==============================] - 0s 19ms/step - loss: 9.4303 - mae: 9.4303\n",
            "Epoch 7/100\n",
            "2/2 [==============================] - 0s 7ms/step - loss: 8.5704 - mae: 8.5704\n",
            "Epoch 8/100\n",
            "2/2 [==============================] - 0s 14ms/step - loss: 9.0442 - mae: 9.0442\n",
            "Epoch 9/100\n",
            "2/2 [==============================] - 0s 10ms/step - loss: 18.7517 - mae: 18.7517\n",
            "Epoch 10/100\n",
            "2/2 [==============================] - 0s 12ms/step - loss: 10.1142 - mae: 10.1142\n",
            "Epoch 11/100\n",
            "2/2 [==============================] - 0s 6ms/step - loss: 8.3980 - mae: 8.3980\n",
            "Epoch 12/100\n",
            "2/2 [==============================] - 0s 9ms/step - loss: 10.6639 - mae: 10.6639\n",
            "Epoch 13/100\n",
            "2/2 [==============================] - 0s 7ms/step - loss: 9.7977 - mae: 9.7977\n",
            "Epoch 14/100\n",
            "2/2 [==============================] - 0s 13ms/step - loss: 16.0103 - mae: 16.0103\n",
            "Epoch 15/100\n",
            "2/2 [==============================] - 0s 6ms/step - loss: 11.4068 - mae: 11.4068\n",
            "Epoch 16/100\n",
            "2/2 [==============================] - 0s 8ms/step - loss: 8.5393 - mae: 8.5393\n",
            "Epoch 17/100\n",
            "2/2 [==============================] - 0s 11ms/step - loss: 13.6348 - mae: 13.6348\n",
            "Epoch 18/100\n",
            "2/2 [==============================] - 0s 13ms/step - loss: 11.4629 - mae: 11.4629\n",
            "Epoch 19/100\n",
            "2/2 [==============================] - 0s 5ms/step - loss: 17.9148 - mae: 17.9148\n",
            "Epoch 20/100\n",
            "2/2 [==============================] - 0s 16ms/step - loss: 15.0494 - mae: 15.0494\n",
            "Epoch 21/100\n",
            "2/2 [==============================] - 0s 7ms/step - loss: 11.0216 - mae: 11.0216\n",
            "Epoch 22/100\n",
            "2/2 [==============================] - 0s 7ms/step - loss: 8.1558 - mae: 8.1558\n",
            "Epoch 23/100\n",
            "2/2 [==============================] - 0s 5ms/step - loss: 9.5138 - mae: 9.5138\n",
            "Epoch 24/100\n",
            "2/2 [==============================] - 0s 17ms/step - loss: 7.6617 - mae: 7.6617\n",
            "Epoch 25/100\n",
            "2/2 [==============================] - 0s 8ms/step - loss: 13.1859 - mae: 13.1859\n",
            "Epoch 26/100\n",
            "2/2 [==============================] - 0s 27ms/step - loss: 16.4211 - mae: 16.4211\n",
            "Epoch 27/100\n",
            "2/2 [==============================] - 0s 6ms/step - loss: 13.1659 - mae: 13.1659\n",
            "Epoch 28/100\n",
            "2/2 [==============================] - 0s 11ms/step - loss: 14.2559 - mae: 14.2559\n",
            "Epoch 29/100\n",
            "2/2 [==============================] - 0s 7ms/step - loss: 10.0670 - mae: 10.0670\n",
            "Epoch 30/100\n",
            "2/2 [==============================] - 0s 4ms/step - loss: 16.3409 - mae: 16.3409\n",
            "Epoch 31/100\n",
            "2/2 [==============================] - 0s 10ms/step - loss: 23.6444 - mae: 23.6444\n",
            "Epoch 32/100\n",
            "2/2 [==============================] - 0s 6ms/step - loss: 7.6215 - mae: 7.6215\n",
            "Epoch 33/100\n",
            "2/2 [==============================] - 0s 4ms/step - loss: 9.3221 - mae: 9.3221\n",
            "Epoch 34/100\n",
            "2/2 [==============================] - 0s 8ms/step - loss: 13.7313 - mae: 13.7313\n",
            "Epoch 35/100\n",
            "2/2 [==============================] - 0s 8ms/step - loss: 11.1276 - mae: 11.1276\n",
            "Epoch 36/100\n",
            "2/2 [==============================] - 0s 4ms/step - loss: 13.3222 - mae: 13.3222\n",
            "Epoch 37/100\n",
            "2/2 [==============================] - 0s 6ms/step - loss: 9.4763 - mae: 9.4763\n",
            "Epoch 38/100\n",
            "2/2 [==============================] - 0s 6ms/step - loss: 10.1381 - mae: 10.1381\n",
            "Epoch 39/100\n",
            "2/2 [==============================] - 0s 6ms/step - loss: 10.1793 - mae: 10.1793\n",
            "Epoch 40/100\n",
            "2/2 [==============================] - 0s 7ms/step - loss: 10.9137 - mae: 10.9137\n",
            "Epoch 41/100\n",
            "2/2 [==============================] - 0s 88ms/step - loss: 7.9063 - mae: 7.9063\n",
            "Epoch 42/100\n",
            "2/2 [==============================] - 0s 10ms/step - loss: 10.0914 - mae: 10.0914\n",
            "Epoch 43/100\n",
            "2/2 [==============================] - 0s 21ms/step - loss: 8.7006 - mae: 8.7006\n",
            "Epoch 44/100\n",
            "2/2 [==============================] - 0s 15ms/step - loss: 12.2047 - mae: 12.2047\n",
            "Epoch 45/100\n",
            "2/2 [==============================] - 0s 7ms/step - loss: 13.7970 - mae: 13.7970\n",
            "Epoch 46/100\n",
            "2/2 [==============================] - 0s 8ms/step - loss: 8.4687 - mae: 8.4687\n",
            "Epoch 47/100\n",
            "2/2 [==============================] - 0s 10ms/step - loss: 9.1330 - mae: 9.1330\n",
            "Epoch 48/100\n",
            "2/2 [==============================] - 0s 7ms/step - loss: 10.6190 - mae: 10.6190\n",
            "Epoch 49/100\n",
            "2/2 [==============================] - 0s 8ms/step - loss: 7.7503 - mae: 7.7503\n",
            "Epoch 50/100\n",
            "2/2 [==============================] - 0s 5ms/step - loss: 9.5407 - mae: 9.5407\n",
            "Epoch 51/100\n",
            "2/2 [==============================] - 0s 7ms/step - loss: 9.1584 - mae: 9.1584\n",
            "Epoch 52/100\n",
            "2/2 [==============================] - 0s 3ms/step - loss: 16.3630 - mae: 16.3630\n",
            "Epoch 53/100\n",
            "2/2 [==============================] - 0s 7ms/step - loss: 14.1299 - mae: 14.1299\n",
            "Epoch 54/100\n",
            "2/2 [==============================] - 0s 4ms/step - loss: 21.1247 - mae: 21.1247\n",
            "Epoch 55/100\n",
            "2/2 [==============================] - 0s 7ms/step - loss: 16.3961 - mae: 16.3961\n",
            "Epoch 56/100\n",
            "2/2 [==============================] - 0s 8ms/step - loss: 9.9806 - mae: 9.9806\n",
            "Epoch 57/100\n",
            "2/2 [==============================] - 0s 8ms/step - loss: 9.9606 - mae: 9.9606\n",
            "Epoch 58/100\n",
            "2/2 [==============================] - 0s 7ms/step - loss: 9.2209 - mae: 9.2209\n",
            "Epoch 59/100\n",
            "2/2 [==============================] - 0s 7ms/step - loss: 8.4239 - mae: 8.4239\n",
            "Epoch 60/100\n",
            "2/2 [==============================] - 0s 6ms/step - loss: 9.4869 - mae: 9.4869\n",
            "Epoch 61/100\n",
            "2/2 [==============================] - 0s 6ms/step - loss: 11.4355 - mae: 11.4355\n",
            "Epoch 62/100\n",
            "2/2 [==============================] - 0s 7ms/step - loss: 11.6887 - mae: 11.6887\n",
            "Epoch 63/100\n",
            "2/2 [==============================] - 0s 18ms/step - loss: 7.0838 - mae: 7.0838\n",
            "Epoch 64/100\n",
            "2/2 [==============================] - 0s 6ms/step - loss: 16.9675 - mae: 16.9675\n",
            "Epoch 65/100\n",
            "2/2 [==============================] - 0s 8ms/step - loss: 12.4599 - mae: 12.4599\n",
            "Epoch 66/100\n",
            "2/2 [==============================] - 0s 16ms/step - loss: 13.0184 - mae: 13.0184\n",
            "Epoch 67/100\n",
            "2/2 [==============================] - 0s 7ms/step - loss: 8.0600 - mae: 8.0600\n",
            "Epoch 68/100\n",
            "2/2 [==============================] - 0s 14ms/step - loss: 10.1888 - mae: 10.1888\n",
            "Epoch 69/100\n",
            "2/2 [==============================] - 0s 13ms/step - loss: 12.3633 - mae: 12.3633\n",
            "Epoch 70/100\n",
            "2/2 [==============================] - 0s 15ms/step - loss: 9.0516 - mae: 9.0516\n",
            "Epoch 71/100\n",
            "2/2 [==============================] - 0s 6ms/step - loss: 10.0378 - mae: 10.0378\n",
            "Epoch 72/100\n",
            "2/2 [==============================] - 0s 7ms/step - loss: 10.0516 - mae: 10.0516\n",
            "Epoch 73/100\n",
            "2/2 [==============================] - 0s 6ms/step - loss: 12.6151 - mae: 12.6151\n",
            "Epoch 74/100\n",
            "2/2 [==============================] - 0s 6ms/step - loss: 10.3819 - mae: 10.3819\n",
            "Epoch 75/100\n",
            "2/2 [==============================] - 0s 7ms/step - loss: 9.7229 - mae: 9.7229\n",
            "Epoch 76/100\n",
            "2/2 [==============================] - 0s 9ms/step - loss: 11.2252 - mae: 11.2252\n",
            "Epoch 77/100\n",
            "2/2 [==============================] - 0s 20ms/step - loss: 8.3642 - mae: 8.3642\n",
            "Epoch 78/100\n",
            "2/2 [==============================] - 0s 9ms/step - loss: 9.1274 - mae: 9.1274\n",
            "Epoch 79/100\n",
            "2/2 [==============================] - 0s 15ms/step - loss: 19.5039 - mae: 19.5039\n",
            "Epoch 80/100\n",
            "2/2 [==============================] - 0s 10ms/step - loss: 14.8945 - mae: 14.8945\n",
            "Epoch 81/100\n",
            "2/2 [==============================] - 0s 5ms/step - loss: 9.0034 - mae: 9.0034\n",
            "Epoch 82/100\n",
            "2/2 [==============================] - 0s 6ms/step - loss: 13.0206 - mae: 13.0206\n",
            "Epoch 83/100\n",
            "2/2 [==============================] - 0s 24ms/step - loss: 7.9299 - mae: 7.9299\n",
            "Epoch 84/100\n",
            "2/2 [==============================] - 0s 12ms/step - loss: 7.6872 - mae: 7.6872\n",
            "Epoch 85/100\n",
            "2/2 [==============================] - 0s 6ms/step - loss: 10.0328 - mae: 10.0328\n",
            "Epoch 86/100\n",
            "2/2 [==============================] - 0s 5ms/step - loss: 9.2433 - mae: 9.2433\n",
            "Epoch 87/100\n",
            "2/2 [==============================] - 0s 10ms/step - loss: 12.0209 - mae: 12.0209\n",
            "Epoch 88/100\n",
            "2/2 [==============================] - 0s 7ms/step - loss: 10.6389 - mae: 10.6389\n",
            "Epoch 89/100\n",
            "2/2 [==============================] - 0s 8ms/step - loss: 7.2667 - mae: 7.2667\n",
            "Epoch 90/100\n",
            "2/2 [==============================] - 0s 9ms/step - loss: 12.7786 - mae: 12.7786\n",
            "Epoch 91/100\n",
            "2/2 [==============================] - 0s 7ms/step - loss: 7.3481 - mae: 7.3481\n",
            "Epoch 92/100\n",
            "2/2 [==============================] - 0s 4ms/step - loss: 7.7175 - mae: 7.7175\n",
            "Epoch 93/100\n",
            "2/2 [==============================] - 0s 14ms/step - loss: 7.1263 - mae: 7.1263\n",
            "Epoch 94/100\n",
            "2/2 [==============================] - 0s 4ms/step - loss: 12.6190 - mae: 12.6190\n",
            "Epoch 95/100\n",
            "2/2 [==============================] - 0s 6ms/step - loss: 10.0912 - mae: 10.0912\n",
            "Epoch 96/100\n",
            "2/2 [==============================] - 0s 6ms/step - loss: 9.3558 - mae: 9.3558\n",
            "Epoch 97/100\n",
            "2/2 [==============================] - 0s 7ms/step - loss: 12.6834 - mae: 12.6834\n",
            "Epoch 98/100\n",
            "2/2 [==============================] - 0s 8ms/step - loss: 8.6762 - mae: 8.6762\n",
            "Epoch 99/100\n",
            "2/2 [==============================] - 0s 10ms/step - loss: 9.4693 - mae: 9.4693\n",
            "Epoch 100/100\n",
            "2/2 [==============================] - 0s 8ms/step - loss: 8.7067 - mae: 8.7067\n"
          ]
        },
        {
          "output_type": "execute_result",
          "data": {
            "text/plain": [
              "<keras.callbacks.History at 0x7f3c56245390>"
            ]
          },
          "metadata": {},
          "execution_count": 39
        }
      ]
    },
    {
      "cell_type": "code",
      "source": [
        "model_2=tf.keras.Sequential([\n",
        "    tf.keras.layers.Dense(100,input_shape=[1],name=\"hidden_layer\"),\n",
        "    tf.keras.layers.Dense(1,input_shape=[1],name='output_layer')\n",
        "])\n",
        "model_2.compile(\n",
        "    loss=tf.keras.losses.mae,\n",
        "    optimizer=tf.keras.optimizers.SGD(),\n",
        "    metrics=[\"mae\"]\n",
        ")\n",
        "model_2.fit(tf.expand_dims(X_train, axis=-1), y_train, epochs=100)"
      ],
      "metadata": {
        "colab": {
          "base_uri": "https://localhost:8080/"
        },
        "id": "TbhF92q1A77m",
        "outputId": "b19bbbf3-d6a8-4718-b8d2-a44f2b63be59"
      },
      "execution_count": null,
      "outputs": [
        {
          "output_type": "stream",
          "name": "stdout",
          "text": [
            "Epoch 1/100\n",
            "2/2 [==============================] - 0s 9ms/step - loss: 48.4329 - mae: 48.4329\n",
            "Epoch 2/100\n",
            "2/2 [==============================] - 0s 11ms/step - loss: 31.3826 - mae: 31.3826\n",
            "Epoch 3/100\n",
            "2/2 [==============================] - 0s 10ms/step - loss: 36.2157 - mae: 36.2157\n",
            "Epoch 4/100\n",
            "2/2 [==============================] - 0s 7ms/step - loss: 28.3086 - mae: 28.3086\n",
            "Epoch 5/100\n",
            "2/2 [==============================] - 0s 10ms/step - loss: 15.3864 - mae: 15.3864\n",
            "Epoch 6/100\n",
            "2/2 [==============================] - 0s 4ms/step - loss: 12.2199 - mae: 12.2199\n",
            "Epoch 7/100\n",
            "2/2 [==============================] - 0s 6ms/step - loss: 11.5217 - mae: 11.5217\n",
            "Epoch 8/100\n",
            "2/2 [==============================] - 0s 10ms/step - loss: 11.2331 - mae: 11.2331\n",
            "Epoch 9/100\n",
            "2/2 [==============================] - 0s 7ms/step - loss: 42.0800 - mae: 42.0800\n",
            "Epoch 10/100\n",
            "2/2 [==============================] - 0s 7ms/step - loss: 29.2675 - mae: 29.2675\n",
            "Epoch 11/100\n",
            "2/2 [==============================] - 0s 7ms/step - loss: 7.6858 - mae: 7.6858\n",
            "Epoch 12/100\n",
            "2/2 [==============================] - 0s 4ms/step - loss: 28.6175 - mae: 28.6175\n",
            "Epoch 13/100\n",
            "2/2 [==============================] - 0s 6ms/step - loss: 11.4798 - mae: 11.4798\n",
            "Epoch 14/100\n",
            "2/2 [==============================] - 0s 6ms/step - loss: 30.0701 - mae: 30.0701\n",
            "Epoch 15/100\n",
            "2/2 [==============================] - 0s 5ms/step - loss: 19.8766 - mae: 19.8766\n",
            "Epoch 16/100\n",
            "2/2 [==============================] - 0s 15ms/step - loss: 9.8824 - mae: 9.8824\n",
            "Epoch 17/100\n",
            "2/2 [==============================] - 0s 8ms/step - loss: 17.7578 - mae: 17.7578\n",
            "Epoch 18/100\n",
            "2/2 [==============================] - 0s 13ms/step - loss: 14.2335 - mae: 14.2335\n",
            "Epoch 19/100\n",
            "2/2 [==============================] - 0s 7ms/step - loss: 14.0768 - mae: 14.0768\n",
            "Epoch 20/100\n",
            "2/2 [==============================] - 0s 15ms/step - loss: 11.2609 - mae: 11.2609\n",
            "Epoch 21/100\n",
            "2/2 [==============================] - 0s 8ms/step - loss: 17.4079 - mae: 17.4079\n",
            "Epoch 22/100\n",
            "2/2 [==============================] - 0s 6ms/step - loss: 15.9320 - mae: 15.9320\n",
            "Epoch 23/100\n",
            "2/2 [==============================] - 0s 6ms/step - loss: 9.8475 - mae: 9.8475\n",
            "Epoch 24/100\n",
            "2/2 [==============================] - 0s 5ms/step - loss: 16.4471 - mae: 16.4471\n",
            "Epoch 25/100\n",
            "2/2 [==============================] - 0s 4ms/step - loss: 15.3786 - mae: 15.3786\n",
            "Epoch 26/100\n",
            "2/2 [==============================] - 0s 6ms/step - loss: 20.6014 - mae: 20.6014\n",
            "Epoch 27/100\n",
            "2/2 [==============================] - 0s 13ms/step - loss: 26.2924 - mae: 26.2924\n",
            "Epoch 28/100\n",
            "2/2 [==============================] - 0s 5ms/step - loss: 18.7467 - mae: 18.7467\n",
            "Epoch 29/100\n",
            "2/2 [==============================] - 0s 5ms/step - loss: 9.2507 - mae: 9.2507\n",
            "Epoch 30/100\n",
            "2/2 [==============================] - 0s 12ms/step - loss: 29.3830 - mae: 29.3830\n",
            "Epoch 31/100\n",
            "2/2 [==============================] - 0s 6ms/step - loss: 53.2515 - mae: 53.2515\n",
            "Epoch 32/100\n",
            "2/2 [==============================] - 0s 5ms/step - loss: 9.4664 - mae: 9.4664\n",
            "Epoch 33/100\n",
            "2/2 [==============================] - 0s 4ms/step - loss: 12.0405 - mae: 12.0405\n",
            "Epoch 34/100\n",
            "2/2 [==============================] - 0s 6ms/step - loss: 23.2453 - mae: 23.2453\n",
            "Epoch 35/100\n",
            "2/2 [==============================] - 0s 9ms/step - loss: 11.8478 - mae: 11.8478\n",
            "Epoch 36/100\n",
            "2/2 [==============================] - 0s 14ms/step - loss: 21.8293 - mae: 21.8293\n",
            "Epoch 37/100\n",
            "2/2 [==============================] - 0s 9ms/step - loss: 11.1256 - mae: 11.1256\n",
            "Epoch 38/100\n",
            "2/2 [==============================] - 0s 27ms/step - loss: 12.7162 - mae: 12.7162\n",
            "Epoch 39/100\n",
            "2/2 [==============================] - 0s 6ms/step - loss: 11.5918 - mae: 11.5918\n",
            "Epoch 40/100\n",
            "2/2 [==============================] - 0s 4ms/step - loss: 19.2197 - mae: 19.2197\n",
            "Epoch 41/100\n",
            "2/2 [==============================] - 0s 6ms/step - loss: 10.9543 - mae: 10.9543\n",
            "Epoch 42/100\n",
            "2/2 [==============================] - 0s 4ms/step - loss: 9.2866 - mae: 9.2866\n",
            "Epoch 43/100\n",
            "2/2 [==============================] - 0s 4ms/step - loss: 9.5921 - mae: 9.5921\n",
            "Epoch 44/100\n",
            "2/2 [==============================] - 0s 6ms/step - loss: 27.9106 - mae: 27.9106\n",
            "Epoch 45/100\n",
            "2/2 [==============================] - 0s 9ms/step - loss: 11.2681 - mae: 11.2681\n",
            "Epoch 46/100\n",
            "2/2 [==============================] - 0s 6ms/step - loss: 13.8594 - mae: 13.8594\n",
            "Epoch 47/100\n",
            "2/2 [==============================] - 0s 6ms/step - loss: 11.9248 - mae: 11.9248\n",
            "Epoch 48/100\n",
            "2/2 [==============================] - 0s 6ms/step - loss: 16.9602 - mae: 16.9602\n",
            "Epoch 49/100\n",
            "2/2 [==============================] - 0s 6ms/step - loss: 9.7767 - mae: 9.7767\n",
            "Epoch 50/100\n",
            "2/2 [==============================] - 0s 15ms/step - loss: 14.1668 - mae: 14.1668\n",
            "Epoch 51/100\n",
            "2/2 [==============================] - 0s 9ms/step - loss: 11.7390 - mae: 11.7390\n",
            "Epoch 52/100\n",
            "2/2 [==============================] - 0s 6ms/step - loss: 31.3661 - mae: 31.3661\n",
            "Epoch 53/100\n",
            "2/2 [==============================] - 0s 6ms/step - loss: 14.7180 - mae: 14.7180\n",
            "Epoch 54/100\n",
            "2/2 [==============================] - 0s 6ms/step - loss: 24.5992 - mae: 24.5992\n",
            "Epoch 55/100\n",
            "2/2 [==============================] - 0s 6ms/step - loss: 23.8819 - mae: 23.8819\n",
            "Epoch 56/100\n",
            "2/2 [==============================] - 0s 6ms/step - loss: 11.1205 - mae: 11.1205\n",
            "Epoch 57/100\n",
            "2/2 [==============================] - 0s 7ms/step - loss: 13.0567 - mae: 13.0567\n",
            "Epoch 58/100\n",
            "2/2 [==============================] - 0s 6ms/step - loss: 9.7800 - mae: 9.7800\n",
            "Epoch 59/100\n",
            "2/2 [==============================] - 0s 8ms/step - loss: 13.2316 - mae: 13.2316\n",
            "Epoch 60/100\n",
            "2/2 [==============================] - 0s 6ms/step - loss: 10.8314 - mae: 10.8314\n",
            "Epoch 61/100\n",
            "2/2 [==============================] - 0s 19ms/step - loss: 13.4090 - mae: 13.4090\n",
            "Epoch 62/100\n",
            "2/2 [==============================] - 0s 23ms/step - loss: 17.3656 - mae: 17.3656\n",
            "Epoch 63/100\n",
            "2/2 [==============================] - 0s 11ms/step - loss: 9.1368 - mae: 9.1368\n",
            "Epoch 64/100\n",
            "2/2 [==============================] - 0s 9ms/step - loss: 17.9854 - mae: 17.9854\n",
            "Epoch 65/100\n",
            "2/2 [==============================] - 0s 8ms/step - loss: 10.6230 - mae: 10.6230\n",
            "Epoch 66/100\n",
            "2/2 [==============================] - 0s 11ms/step - loss: 21.5091 - mae: 21.5091\n",
            "Epoch 67/100\n",
            "2/2 [==============================] - 0s 11ms/step - loss: 10.6357 - mae: 10.6357\n",
            "Epoch 68/100\n",
            "2/2 [==============================] - 0s 7ms/step - loss: 14.8852 - mae: 14.8852\n",
            "Epoch 69/100\n",
            "2/2 [==============================] - 0s 7ms/step - loss: 10.7829 - mae: 10.7829\n",
            "Epoch 70/100\n",
            "2/2 [==============================] - 0s 7ms/step - loss: 12.8857 - mae: 12.8857\n",
            "Epoch 71/100\n",
            "2/2 [==============================] - 0s 7ms/step - loss: 13.3057 - mae: 13.3057\n",
            "Epoch 72/100\n",
            "2/2 [==============================] - 0s 6ms/step - loss: 20.1720 - mae: 20.1720\n",
            "Epoch 73/100\n",
            "2/2 [==============================] - 0s 12ms/step - loss: 9.7394 - mae: 9.7394\n",
            "Epoch 74/100\n",
            "2/2 [==============================] - 0s 7ms/step - loss: 27.4854 - mae: 27.4854\n",
            "Epoch 75/100\n",
            "2/2 [==============================] - 0s 9ms/step - loss: 10.0305 - mae: 10.0305\n",
            "Epoch 76/100\n",
            "2/2 [==============================] - 0s 14ms/step - loss: 12.9516 - mae: 12.9516\n",
            "Epoch 77/100\n",
            "2/2 [==============================] - 0s 7ms/step - loss: 17.9637 - mae: 17.9637\n",
            "Epoch 78/100\n",
            "2/2 [==============================] - 0s 7ms/step - loss: 8.9648 - mae: 8.9648\n",
            "Epoch 79/100\n",
            "2/2 [==============================] - 0s 7ms/step - loss: 28.8171 - mae: 28.8171\n",
            "Epoch 80/100\n",
            "2/2 [==============================] - 0s 12ms/step - loss: 31.1710 - mae: 31.1710\n",
            "Epoch 81/100\n",
            "2/2 [==============================] - 0s 7ms/step - loss: 13.5861 - mae: 13.5861\n",
            "Epoch 82/100\n",
            "2/2 [==============================] - 0s 7ms/step - loss: 15.8610 - mae: 15.8610\n",
            "Epoch 83/100\n",
            "2/2 [==============================] - 0s 7ms/step - loss: 9.1379 - mae: 9.1379\n",
            "Epoch 84/100\n",
            "2/2 [==============================] - 0s 7ms/step - loss: 8.2037 - mae: 8.2037\n",
            "Epoch 85/100\n",
            "2/2 [==============================] - 0s 11ms/step - loss: 18.8729 - mae: 18.8729\n",
            "Epoch 86/100\n",
            "2/2 [==============================] - 0s 10ms/step - loss: 21.9827 - mae: 21.9827\n",
            "Epoch 87/100\n",
            "2/2 [==============================] - 0s 10ms/step - loss: 11.2153 - mae: 11.2153\n",
            "Epoch 88/100\n",
            "2/2 [==============================] - 0s 7ms/step - loss: 25.9418 - mae: 25.9418\n",
            "Epoch 89/100\n",
            "2/2 [==============================] - 0s 9ms/step - loss: 9.5223 - mae: 9.5223\n",
            "Epoch 90/100\n",
            "2/2 [==============================] - 0s 10ms/step - loss: 18.2501 - mae: 18.2501\n",
            "Epoch 91/100\n",
            "2/2 [==============================] - 0s 11ms/step - loss: 10.3258 - mae: 10.3258\n",
            "Epoch 92/100\n",
            "2/2 [==============================] - 0s 7ms/step - loss: 17.5002 - mae: 17.5002\n",
            "Epoch 93/100\n",
            "2/2 [==============================] - 0s 15ms/step - loss: 6.8259 - mae: 6.8259\n",
            "Epoch 94/100\n",
            "2/2 [==============================] - 0s 20ms/step - loss: 17.6564 - mae: 17.6564\n",
            "Epoch 95/100\n",
            "2/2 [==============================] - 0s 5ms/step - loss: 17.3717 - mae: 17.3717\n",
            "Epoch 96/100\n",
            "2/2 [==============================] - 0s 8ms/step - loss: 11.5391 - mae: 11.5391\n",
            "Epoch 97/100\n",
            "2/2 [==============================] - 0s 9ms/step - loss: 18.3117 - mae: 18.3117\n",
            "Epoch 98/100\n",
            "2/2 [==============================] - 0s 8ms/step - loss: 9.7555 - mae: 9.7555\n",
            "Epoch 99/100\n",
            "2/2 [==============================] - 0s 9ms/step - loss: 16.9429 - mae: 16.9429\n",
            "Epoch 100/100\n",
            "2/2 [==============================] - 0s 5ms/step - loss: 17.8149 - mae: 17.8149\n"
          ]
        },
        {
          "output_type": "execute_result",
          "data": {
            "text/plain": [
              "<keras.callbacks.History at 0x7f3c5618d8d0>"
            ]
          },
          "metadata": {},
          "execution_count": 40
        }
      ]
    },
    {
      "cell_type": "code",
      "source": [
        "y_preds_1=model_1.predict(X_test)\n",
        "plot_predictions(predictions=y_preds_1)"
      ],
      "metadata": {
        "colab": {
          "base_uri": "https://localhost:8080/",
          "height": 428
        },
        "id": "4ex7FMa-BVeg",
        "outputId": "326ba473-b9f6-48a8-87ac-dd446a05c3b3"
      },
      "execution_count": null,
      "outputs": [
        {
          "output_type": "display_data",
          "data": {
            "text/plain": [
              "<Figure size 720x504 with 1 Axes>"
            ],
            "image/png": "[encoded data removed]"
          },
          "metadata": {
            "needs_background": "light"
          }
        }
      ]
    },
    {
      "cell_type": "code",
      "source": [
        "#Import required libraries\n",
        "import tensorflow as tf\n",
        "import pandas as pd\n",
        "import matplotlib.pyplot as plt"
      ],
      "metadata": {
        "id": "CpF1uKFoC77Y"
      },
      "execution_count": null,
      "outputs": []
    },
    {
      "cell_type": "code",
      "source": [
        "#Read in the insurance dataset\n",
        "insurance = pd.read_csv('https://raw.githubusercontent.com/stedy/Machine-Learning-with-R-datasets/master/insurance.csv')"
      ],
      "metadata": {
        "id": "SPUHTPxT1tkp"
      },
      "execution_count": null,
      "outputs": []
    },
    {
      "cell_type": "code",
      "source": [
        "insurance"
      ],
      "metadata": {
        "colab": {
          "base_uri": "https://localhost:8080/",
          "height": 424
        },
        "id": "rwEcmGOS11aF",
        "outputId": "4adae0b0-7893-456a-dd44-ab566ad778aa"
      },
      "execution_count": null,
      "outputs": [
        {
          "output_type": "execute_result",
          "data": {
            "text/plain": [
              "      age     sex     bmi  children smoker     region      charges\n",
              "0      19  female  27.900         0    yes  southwest  16884.92400\n",
              "1      18    male  33.770         1     no  southeast   1725.55230\n",
              "2      28    male  33.000         3     no  southeast   4449.46200\n",
              "3      33    male  22.705         0     no  northwest  21984.47061\n",
              "4      32    male  28.880         0     no  northwest   3866.85520\n",
              "...   ...     ...     ...       ...    ...        ...          ...\n",
              "1333   50    male  30.970         3     no  northwest  10600.54830\n",
              "1334   18  female  31.920         0     no  northeast   2205.98080\n",
              "1335   18  female  36.850         0     no  southeast   1629.83350\n",
              "1336   21  female  25.800         0     no  southwest   2007.94500\n",
              "1337   61  female  29.070         0    yes  northwest  29141.36030\n",
              "\n",
              "[1338 rows x 7 columns]"
            ],
            "text/html": [
              "\n",
              "  <div id=\"df-2bc1a1bc-d659-4afe-a222-215276df7a80\">\n",
              "    <div class=\"colab-df-container\">\n",
              "      <div>\n",
              "<style scoped>\n",
              "    .dataframe tbody tr th:only-of-type {\n",
              "        vertical-align: middle;\n",
              "    }\n",
              "\n",
              "    .dataframe tbody tr th {\n",
              "        vertical-align: top;\n",
              "    }\n",
              "\n",
              "    .dataframe thead th {\n",
              "        text-align: right;\n",
              "    }\n",
              "</style>\n",
              "<table border=\"1\" class=\"dataframe\">\n",
              "  <thead>\n",
              "    <tr style=\"text-align: right;\">\n",
              "      <th></th>\n",
              "      <th>age</th>\n",
              "      <th>sex</th>\n",
              "      <th>bmi</th>\n",
              "      <th>children</th>\n",
              "      <th>smoker</th>\n",
              "      <th>region</th>\n",
              "      <th>charges</th>\n",
              "    </tr>\n",
              "  </thead>\n",
              "  <tbody>\n",
              "    <tr>\n",
              "      <th>0</th>\n",
              "      <td>19</td>\n",
              "      <td>female</td>\n",
              "      <td>27.900</td>\n",
              "      <td>0</td>\n",
              "      <td>yes</td>\n",
              "      <td>southwest</td>\n",
              "      <td>16884.92400</td>\n",
              "    </tr>\n",
              "    <tr>\n",
              "      <th>1</th>\n",
              "      <td>18</td>\n",
              "      <td>male</td>\n",
              "      <td>33.770</td>\n",
              "      <td>1</td>\n",
              "      <td>no</td>\n",
              "      <td>southeast</td>\n",
              "      <td>1725.55230</td>\n",
              "    </tr>\n",
              "    <tr>\n",
              "      <th>2</th>\n",
              "      <td>28</td>\n",
              "      <td>male</td>\n",
              "      <td>33.000</td>\n",
              "      <td>3</td>\n",
              "      <td>no</td>\n",
              "      <td>southeast</td>\n",
              "      <td>4449.46200</td>\n",
              "    </tr>\n",
              "    <tr>\n",
              "      <th>3</th>\n",
              "      <td>33</td>\n",
              "      <td>male</td>\n",
              "      <td>22.705</td>\n",
              "      <td>0</td>\n",
              "      <td>no</td>\n",
              "      <td>northwest</td>\n",
              "      <td>21984.47061</td>\n",
              "    </tr>\n",
              "    <tr>\n",
              "      <th>4</th>\n",
              "      <td>32</td>\n",
              "      <td>male</td>\n",
              "      <td>28.880</td>\n",
              "      <td>0</td>\n",
              "      <td>no</td>\n",
              "      <td>northwest</td>\n",
              "      <td>3866.85520</td>\n",
              "    </tr>\n",
              "    <tr>\n",
              "      <th>...</th>\n",
              "      <td>...</td>\n",
              "      <td>...</td>\n",
              "      <td>...</td>\n",
              "      <td>...</td>\n",
              "      <td>...</td>\n",
              "      <td>...</td>\n",
              "      <td>...</td>\n",
              "    </tr>\n",
              "    <tr>\n",
              "      <th>1333</th>\n",
              "      <td>50</td>\n",
              "      <td>male</td>\n",
              "      <td>30.970</td>\n",
              "      <td>3</td>\n",
              "      <td>no</td>\n",
              "      <td>northwest</td>\n",
              "      <td>10600.54830</td>\n",
              "    </tr>\n",
              "    <tr>\n",
              "      <th>1334</th>\n",
              "      <td>18</td>\n",
              "      <td>female</td>\n",
              "      <td>31.920</td>\n",
              "      <td>0</td>\n",
              "      <td>no</td>\n",
              "      <td>northeast</td>\n",
              "      <td>2205.98080</td>\n",
              "    </tr>\n",
              "    <tr>\n",
              "      <th>1335</th>\n",
              "      <td>18</td>\n",
              "      <td>female</td>\n",
              "      <td>36.850</td>\n",
              "      <td>0</td>\n",
              "      <td>no</td>\n",
              "      <td>southeast</td>\n",
              "      <td>1629.83350</td>\n",
              "    </tr>\n",
              "    <tr>\n",
              "      <th>1336</th>\n",
              "      <td>21</td>\n",
              "      <td>female</td>\n",
              "      <td>25.800</td>\n",
              "      <td>0</td>\n",
              "      <td>no</td>\n",
              "      <td>southwest</td>\n",
              "      <td>2007.94500</td>\n",
              "    </tr>\n",
              "    <tr>\n",
              "      <th>1337</th>\n",
              "      <td>61</td>\n",
              "      <td>female</td>\n",
              "      <td>29.070</td>\n",
              "      <td>0</td>\n",
              "      <td>yes</td>\n",
              "      <td>northwest</td>\n",
              "      <td>29141.36030</td>\n",
              "    </tr>\n",
              "  </tbody>\n",
              "</table>\n",
              "<p>1338 rows × 7 columns</p>\n",
              "</div>\n",
              "      <button class=\"colab-df-convert\" onclick=\"convertToInteractive('df-2bc1a1bc-d659-4afe-a222-215276df7a80')\"\n",
              "              title=\"Convert this dataframe to an interactive table.\"\n",
              "              style=\"display:none;\">\n",
              "        \n",
              "  <svg xmlns=\"http://www.w3.org/2000/svg\" height=\"24px\"viewBox=\"0 0 24 24\"\n",
              "       width=\"24px\">\n",
              "    <path d=\"M0 0h24v24H0V0z\" fill=\"none\"/>\n",
              "    <path d=\"M18.56 5.44l.94 2.06.94-2.06 2.06-.94-2.06-.94-.94-2.06-.94 2.06-2.06.94zm-11 1L8.5 8.5l.94-2.06 2.06-.94-2.06-.94L8.5 2.5l-.94 2.06-2.06.94zm10 10l.94 2.06.94-2.06 2.06-.94-2.06-.94-.94-2.06-.94 2.06-2.06.94z\"/><path d=\"M17.41 7.96l-1.37-1.37c-.4-.4-.92-.59-1.43-.59-.52 0-1.04.2-1.43.59L10.3 9.45l-7.72 7.72c-.78.78-.78 2.05 0 2.83L4 21.41c.39.39.9.59 1.41.59.51 0 1.02-.2 1.41-.59l7.78-7.78 2.81-2.81c.8-.78.8-2.07 0-2.86zM5.41 20L4 18.59l7.72-7.72 1.47 1.35L5.41 20z\"/>\n",
              "  </svg>\n",
              "      </button>\n",
              "      \n",
              "  <style>\n",
              "    .colab-df-container {\n",
              "      display:flex;\n",
              "      flex-wrap:wrap;\n",
              "      gap: 12px;\n",
              "    }\n",
              "\n",
              "    .colab-df-convert {\n",
              "      background-color: #E8F0FE;\n",
              "      border: none;\n",
              "      border-radius: 50%;\n",
              "      cursor: pointer;\n",
              "      display: none;\n",
              "      fill: #1967D2;\n",
              "      height: 32px;\n",
              "      padding: 0 0 0 0;\n",
              "      width: 32px;\n",
              "    }\n",
              "\n",
              "    .colab-df-convert:hover {\n",
              "      background-color: #E2EBFA;\n",
              "      box-shadow: 0px 1px 2px rgba(60, 64, 67, 0.3), 0px 1px 3px 1px rgba(60, 64, 67, 0.15);\n",
              "      fill: #174EA6;\n",
              "    }\n",
              "\n",
              "    [theme=dark] .colab-df-convert {\n",
              "      background-color: #3B4455;\n",
              "      fill: #D2E3FC;\n",
              "    }\n",
              "\n",
              "    [theme=dark] .colab-df-convert:hover {\n",
              "      background-color: #434B5C;\n",
              "      box-shadow: 0px 1px 3px 1px rgba(0, 0, 0, 0.15);\n",
              "      filter: drop-shadow(0px 1px 2px rgba(0, 0, 0, 0.3));\n",
              "      fill: #FFFFFF;\n",
              "    }\n",
              "  </style>\n",
              "\n",
              "      <script>\n",
              "        const buttonEl =\n",
              "          document.querySelector('#df-2bc1a1bc-d659-4afe-a222-215276df7a80 button.colab-df-convert');\n",
              "        buttonEl.style.display =\n",
              "          google.colab.kernel.accessAllowed ? 'block' : 'none';\n",
              "\n",
              "        async function convertToInteractive(key) {\n",
              "          const element = document.querySelector('#df-2bc1a1bc-d659-4afe-a222-215276df7a80');\n",
              "          const dataTable =\n",
              "            await google.colab.kernel.invokeFunction('convertToInteractive',\n",
              "                                                     [key], {});\n",
              "          if (!dataTable) return;\n",
              "\n",
              "          const docLinkHtml = 'Like what you see? Visit the ' +\n",
              "            '<a target=\"_blank\" href=https://colab.research.google.com/notebooks/data_table.ipynb>data table notebook</a>'\n",
              "            + ' to learn more about interactive tables.';\n",
              "          element.innerHTML = '';\n",
              "          dataTable['output_type'] = 'display_data';\n",
              "          await google.colab.output.renderOutput(dataTable, element);\n",
              "          const docLink = document.createElement('div');\n",
              "          docLink.innerHTML = docLinkHtml;\n",
              "          element.appendChild(docLink);\n",
              "        }\n",
              "      </script>\n",
              "    </div>\n",
              "  </div>\n",
              "  "
            ]
          },
          "metadata": {},
          "execution_count": 44
        }
      ]
    },
    {
      "cell_type": "code",
      "source": [
        "#One hot encoding our dataframe\n",
        "insurance_one_hot=pd.get_dummies(insurance)\n",
        "insurance_one_hot.head()"
      ],
      "metadata": {
        "colab": {
          "base_uri": "https://localhost:8080/",
          "height": 206
        },
        "id": "jZA-gsNa2pQ7",
        "outputId": "82156a52-9ff9-4f4c-ad26-d730f9c28acb"
      },
      "execution_count": null,
      "outputs": [
        {
          "output_type": "execute_result",
          "data": {
            "text/plain": [
              "   age     bmi  children      charges  sex_female  sex_male  smoker_no  \\\n",
              "0   19  27.900         0  16884.92400           1         0          0   \n",
              "1   18  33.770         1   1725.55230           0         1          1   \n",
              "2   28  33.000         3   4449.46200           0         1          1   \n",
              "3   33  22.705         0  21984.47061           0         1          1   \n",
              "4   32  28.880         0   3866.85520           0         1          1   \n",
              "\n",
              "   smoker_yes  region_northeast  region_northwest  region_southeast  \\\n",
              "0           1                 0                 0                 0   \n",
              "1           0                 0                 0                 1   \n",
              "2           0                 0                 0                 1   \n",
              "3           0                 0                 1                 0   \n",
              "4           0                 0                 1                 0   \n",
              "\n",
              "   region_southwest  \n",
              "0                 1  \n",
              "1                 0  \n",
              "2                 0  \n",
              "3                 0  \n",
              "4                 0  "
            ],
            "text/html": [
              "\n",
              "  <div id=\"df-804bb5b5-562d-4aaa-a47b-576cd3d294b2\">\n",
              "    <div class=\"colab-df-container\">\n",
              "      <div>\n",
              "<style scoped>\n",
              "    .dataframe tbody tr th:only-of-type {\n",
              "        vertical-align: middle;\n",
              "    }\n",
              "\n",
              "    .dataframe tbody tr th {\n",
              "        vertical-align: top;\n",
              "    }\n",
              "\n",
              "    .dataframe thead th {\n",
              "        text-align: right;\n",
              "    }\n",
              "</style>\n",
              "<table border=\"1\" class=\"dataframe\">\n",
              "  <thead>\n",
              "    <tr style=\"text-align: right;\">\n",
              "      <th></th>\n",
              "      <th>age</th>\n",
              "      <th>bmi</th>\n",
              "      <th>children</th>\n",
              "      <th>charges</th>\n",
              "      <th>sex_female</th>\n",
              "      <th>sex_male</th>\n",
              "      <th>smoker_no</th>\n",
              "      <th>smoker_yes</th>\n",
              "      <th>region_northeast</th>\n",
              "      <th>region_northwest</th>\n",
              "      <th>region_southeast</th>\n",
              "      <th>region_southwest</th>\n",
              "    </tr>\n",
              "  </thead>\n",
              "  <tbody>\n",
              "    <tr>\n",
              "      <th>0</th>\n",
              "      <td>19</td>\n",
              "      <td>27.900</td>\n",
              "      <td>0</td>\n",
              "      <td>16884.92400</td>\n",
              "      <td>1</td>\n",
              "      <td>0</td>\n",
              "      <td>0</td>\n",
              "      <td>1</td>\n",
              "      <td>0</td>\n",
              "      <td>0</td>\n",
              "      <td>0</td>\n",
              "      <td>1</td>\n",
              "    </tr>\n",
              "    <tr>\n",
              "      <th>1</th>\n",
              "      <td>18</td>\n",
              "      <td>33.770</td>\n",
              "      <td>1</td>\n",
              "      <td>1725.55230</td>\n",
              "      <td>0</td>\n",
              "      <td>1</td>\n",
              "      <td>1</td>\n",
              "      <td>0</td>\n",
              "      <td>0</td>\n",
              "      <td>0</td>\n",
              "      <td>1</td>\n",
              "      <td>0</td>\n",
              "    </tr>\n",
              "    <tr>\n",
              "      <th>2</th>\n",
              "      <td>28</td>\n",
              "      <td>33.000</td>\n",
              "      <td>3</td>\n",
              "      <td>4449.46200</td>\n",
              "      <td>0</td>\n",
              "      <td>1</td>\n",
              "      <td>1</td>\n",
              "      <td>0</td>\n",
              "      <td>0</td>\n",
              "      <td>0</td>\n",
              "      <td>1</td>\n",
              "      <td>0</td>\n",
              "    </tr>\n",
              "    <tr>\n",
              "      <th>3</th>\n",
              "      <td>33</td>\n",
              "      <td>22.705</td>\n",
              "      <td>0</td>\n",
              "      <td>21984.47061</td>\n",
              "      <td>0</td>\n",
              "      <td>1</td>\n",
              "      <td>1</td>\n",
              "      <td>0</td>\n",
              "      <td>0</td>\n",
              "      <td>1</td>\n",
              "      <td>0</td>\n",
              "      <td>0</td>\n",
              "    </tr>\n",
              "    <tr>\n",
              "      <th>4</th>\n",
              "      <td>32</td>\n",
              "      <td>28.880</td>\n",
              "      <td>0</td>\n",
              "      <td>3866.85520</td>\n",
              "      <td>0</td>\n",
              "      <td>1</td>\n",
              "      <td>1</td>\n",
              "      <td>0</td>\n",
              "      <td>0</td>\n",
              "      <td>1</td>\n",
              "      <td>0</td>\n",
              "      <td>0</td>\n",
              "    </tr>\n",
              "  </tbody>\n",
              "</table>\n",
              "</div>\n",
              "      <button class=\"colab-df-convert\" onclick=\"convertToInteractive('df-804bb5b5-562d-4aaa-a47b-576cd3d294b2')\"\n",
              "              title=\"Convert this dataframe to an interactive table.\"\n",
              "              style=\"display:none;\">\n",
              "        \n",
              "  <svg xmlns=\"http://www.w3.org/2000/svg\" height=\"24px\"viewBox=\"0 0 24 24\"\n",
              "       width=\"24px\">\n",
              "    <path d=\"M0 0h24v24H0V0z\" fill=\"none\"/>\n",
              "    <path d=\"M18.56 5.44l.94 2.06.94-2.06 2.06-.94-2.06-.94-.94-2.06-.94 2.06-2.06.94zm-11 1L8.5 8.5l.94-2.06 2.06-.94-2.06-.94L8.5 2.5l-.94 2.06-2.06.94zm10 10l.94 2.06.94-2.06 2.06-.94-2.06-.94-.94-2.06-.94 2.06-2.06.94z\"/><path d=\"M17.41 7.96l-1.37-1.37c-.4-.4-.92-.59-1.43-.59-.52 0-1.04.2-1.43.59L10.3 9.45l-7.72 7.72c-.78.78-.78 2.05 0 2.83L4 21.41c.39.39.9.59 1.41.59.51 0 1.02-.2 1.41-.59l7.78-7.78 2.81-2.81c.8-.78.8-2.07 0-2.86zM5.41 20L4 18.59l7.72-7.72 1.47 1.35L5.41 20z\"/>\n",
              "  </svg>\n",
              "      </button>\n",
              "      \n",
              "  <style>\n",
              "    .colab-df-container {\n",
              "      display:flex;\n",
              "      flex-wrap:wrap;\n",
              "      gap: 12px;\n",
              "    }\n",
              "\n",
              "    .colab-df-convert {\n",
              "      background-color: #E8F0FE;\n",
              "      border: none;\n",
              "      border-radius: 50%;\n",
              "      cursor: pointer;\n",
              "      display: none;\n",
              "      fill: #1967D2;\n",
              "      height: 32px;\n",
              "      padding: 0 0 0 0;\n",
              "      width: 32px;\n",
              "    }\n",
              "\n",
              "    .colab-df-convert:hover {\n",
              "      background-color: #E2EBFA;\n",
              "      box-shadow: 0px 1px 2px rgba(60, 64, 67, 0.3), 0px 1px 3px 1px rgba(60, 64, 67, 0.15);\n",
              "      fill: #174EA6;\n",
              "    }\n",
              "\n",
              "    [theme=dark] .colab-df-convert {\n",
              "      background-color: #3B4455;\n",
              "      fill: #D2E3FC;\n",
              "    }\n",
              "\n",
              "    [theme=dark] .colab-df-convert:hover {\n",
              "      background-color: #434B5C;\n",
              "      box-shadow: 0px 1px 3px 1px rgba(0, 0, 0, 0.15);\n",
              "      filter: drop-shadow(0px 1px 2px rgba(0, 0, 0, 0.3));\n",
              "      fill: #FFFFFF;\n",
              "    }\n",
              "  </style>\n",
              "\n",
              "      <script>\n",
              "        const buttonEl =\n",
              "          document.querySelector('#df-804bb5b5-562d-4aaa-a47b-576cd3d294b2 button.colab-df-convert');\n",
              "        buttonEl.style.display =\n",
              "          google.colab.kernel.accessAllowed ? 'block' : 'none';\n",
              "\n",
              "        async function convertToInteractive(key) {\n",
              "          const element = document.querySelector('#df-804bb5b5-562d-4aaa-a47b-576cd3d294b2');\n",
              "          const dataTable =\n",
              "            await google.colab.kernel.invokeFunction('convertToInteractive',\n",
              "                                                     [key], {});\n",
              "          if (!dataTable) return;\n",
              "\n",
              "          const docLinkHtml = 'Like what you see? Visit the ' +\n",
              "            '<a target=\"_blank\" href=https://colab.research.google.com/notebooks/data_table.ipynb>data table notebook</a>'\n",
              "            + ' to learn more about interactive tables.';\n",
              "          element.innerHTML = '';\n",
              "          dataTable['output_type'] = 'display_data';\n",
              "          await google.colab.output.renderOutput(dataTable, element);\n",
              "          const docLink = document.createElement('div');\n",
              "          docLink.innerHTML = docLinkHtml;\n",
              "          element.appendChild(docLink);\n",
              "        }\n",
              "      </script>\n",
              "    </div>\n",
              "  </div>\n",
              "  "
            ]
          },
          "metadata": {},
          "execution_count": 45
        }
      ]
    },
    {
      "cell_type": "code",
      "source": [
        "X=insurance_one_hot.drop(\"charges\",axis=1)\n",
        "y=insurance_one_hot[\"charges\"]"
      ],
      "metadata": {
        "id": "rFsGv8o-4Mdb"
      },
      "execution_count": null,
      "outputs": []
    },
    {
      "cell_type": "code",
      "source": [
        "# import math\n",
        "# breaking_point=math.floor(len(X)*0.8)\n",
        "# X_train=X[:breaking_point]\n",
        "# X_test=X[breaking_point:]\n",
        "\n",
        "# y_train=y[:breaking_point]\n",
        "# y_test=y[breaking_point:]\n",
        "\n",
        "from sklearn.model_selection import train_test_split\n",
        "X_train, X_test,y_train,y_test=train_test_split(X,y,random_state=42)"
      ],
      "metadata": {
        "id": "3BJhER-E6IDU"
      },
      "execution_count": null,
      "outputs": []
    },
    {
      "cell_type": "code",
      "source": [
        "model_3=tf.keras.Sequential([\n",
        "    tf.keras.layers.Dense(100),\n",
        "    tf.keras.layers.Dense(10),\n",
        "    tf.keras.layers.Dense(1)\n",
        "])\n",
        "model_3.compile(\n",
        "    loss=tf.keras.losses.mae,\n",
        "    optimizer=tf.keras.optimizers.Adam(),\n",
        "    metrics=[\"mae\"]\n",
        ")\n",
        "history=model_3.fit(X_train, y_train, epochs=200)"
      ],
      "metadata": {
        "colab": {
          "base_uri": "https://localhost:8080/"
        },
        "id": "NBm_UKTH6Oz9",
        "outputId": "68abbab2-f655-4950-a375-927eb9c46b8e"
      },
      "execution_count": null,
      "outputs": [
        {
          "output_type": "stream",
          "name": "stdout",
          "text": [
            "Epoch 1/200\n",
            "32/32 [==============================] - 0s 3ms/step - loss: 13179.0000 - mae: 13179.0000\n",
            "Epoch 2/200\n",
            "32/32 [==============================] - 0s 3ms/step - loss: 12949.7783 - mae: 12949.7783\n",
            "Epoch 3/200\n",
            "32/32 [==============================] - 0s 3ms/step - loss: 12519.0156 - mae: 12519.0156\n",
            "Epoch 4/200\n",
            "32/32 [==============================] - 0s 3ms/step - loss: 11750.7373 - mae: 11750.7373\n",
            "Epoch 5/200\n",
            "32/32 [==============================] - 0s 3ms/step - loss: 10566.4482 - mae: 10566.4482\n",
            "Epoch 6/200\n",
            "32/32 [==============================] - 0s 3ms/step - loss: 9177.0303 - mae: 9177.0303\n",
            "Epoch 7/200\n",
            "32/32 [==============================] - 0s 3ms/step - loss: 7998.9497 - mae: 7998.9497\n",
            "Epoch 8/200\n",
            "32/32 [==============================] - 0s 3ms/step - loss: 7476.4287 - mae: 7476.4287\n",
            "Epoch 9/200\n",
            "32/32 [==============================] - 0s 3ms/step - loss: 7387.5571 - mae: 7387.5571\n",
            "Epoch 10/200\n",
            "32/32 [==============================] - 0s 2ms/step - loss: 7364.7578 - mae: 7364.7578\n",
            "Epoch 11/200\n",
            "32/32 [==============================] - 0s 2ms/step - loss: 7340.5752 - mae: 7340.5752\n",
            "Epoch 12/200\n",
            "32/32 [==============================] - 0s 3ms/step - loss: 7320.3442 - mae: 7320.3442\n",
            "Epoch 13/200\n",
            "32/32 [==============================] - 0s 3ms/step - loss: 7298.9810 - mae: 7298.9810\n",
            "Epoch 14/200\n",
            "32/32 [==============================] - 0s 3ms/step - loss: 7275.8555 - mae: 7275.8555\n",
            "Epoch 15/200\n",
            "32/32 [==============================] - 0s 3ms/step - loss: 7254.1514 - mae: 7254.1514\n",
            "Epoch 16/200\n",
            "32/32 [==============================] - 0s 3ms/step - loss: 7231.2871 - mae: 7231.2871\n",
            "Epoch 17/200\n",
            "32/32 [==============================] - 0s 3ms/step - loss: 7211.2788 - mae: 7211.2788\n",
            "Epoch 18/200\n",
            "32/32 [==============================] - 0s 3ms/step - loss: 7186.8218 - mae: 7186.8218\n",
            "Epoch 19/200\n",
            "32/32 [==============================] - 0s 3ms/step - loss: 7161.3784 - mae: 7161.3784\n",
            "Epoch 20/200\n",
            "32/32 [==============================] - 0s 3ms/step - loss: 7136.1167 - mae: 7136.1167\n",
            "Epoch 21/200\n",
            "32/32 [==============================] - 0s 3ms/step - loss: 7110.3721 - mae: 7110.3721\n",
            "Epoch 22/200\n",
            "32/32 [==============================] - 0s 2ms/step - loss: 7085.2378 - mae: 7085.2378\n",
            "Epoch 23/200\n",
            "32/32 [==============================] - 0s 3ms/step - loss: 7057.0093 - mae: 7057.0093\n",
            "Epoch 24/200\n",
            "32/32 [==============================] - 0s 3ms/step - loss: 7032.9268 - mae: 7032.9268\n",
            "Epoch 25/200\n",
            "32/32 [==============================] - 0s 3ms/step - loss: 7003.9253 - mae: 7003.9253\n",
            "Epoch 26/200\n",
            "32/32 [==============================] - 0s 3ms/step - loss: 6972.6597 - mae: 6972.6597\n",
            "Epoch 27/200\n",
            "32/32 [==============================] - 0s 3ms/step - loss: 6942.0259 - mae: 6942.0259\n",
            "Epoch 28/200\n",
            "32/32 [==============================] - 0s 3ms/step - loss: 6911.7197 - mae: 6911.7197\n",
            "Epoch 29/200\n",
            "32/32 [==============================] - 0s 3ms/step - loss: 6880.6699 - mae: 6880.6699\n",
            "Epoch 30/200\n",
            "32/32 [==============================] - 0s 3ms/step - loss: 6849.4180 - mae: 6849.4180\n",
            "Epoch 31/200\n",
            "32/32 [==============================] - 0s 3ms/step - loss: 6816.6333 - mae: 6816.6333\n",
            "Epoch 32/200\n",
            "32/32 [==============================] - 0s 2ms/step - loss: 6781.5625 - mae: 6781.5625\n",
            "Epoch 33/200\n",
            "32/32 [==============================] - 0s 2ms/step - loss: 6745.4824 - mae: 6745.4824\n",
            "Epoch 34/200\n",
            "32/32 [==============================] - 0s 3ms/step - loss: 6709.7324 - mae: 6709.7324\n",
            "Epoch 35/200\n",
            "32/32 [==============================] - 0s 3ms/step - loss: 6672.6934 - mae: 6672.6934\n",
            "Epoch 36/200\n",
            "32/32 [==============================] - 0s 3ms/step - loss: 6637.5850 - mae: 6637.5850\n",
            "Epoch 37/200\n",
            "32/32 [==============================] - 0s 3ms/step - loss: 6603.8140 - mae: 6603.8140\n",
            "Epoch 38/200\n",
            "32/32 [==============================] - 0s 3ms/step - loss: 6570.6519 - mae: 6570.6519\n",
            "Epoch 39/200\n",
            "32/32 [==============================] - 0s 2ms/step - loss: 6543.6626 - mae: 6543.6626\n",
            "Epoch 40/200\n",
            "32/32 [==============================] - 0s 3ms/step - loss: 6518.5869 - mae: 6518.5869\n",
            "Epoch 41/200\n",
            "32/32 [==============================] - 0s 3ms/step - loss: 6493.7373 - mae: 6493.7373\n",
            "Epoch 42/200\n",
            "32/32 [==============================] - 0s 3ms/step - loss: 6474.0684 - mae: 6474.0684\n",
            "Epoch 43/200\n",
            "32/32 [==============================] - 0s 3ms/step - loss: 6454.9316 - mae: 6454.9316\n",
            "Epoch 44/200\n",
            "32/32 [==============================] - 0s 3ms/step - loss: 6444.9722 - mae: 6444.9722\n",
            "Epoch 45/200\n",
            "32/32 [==============================] - 0s 3ms/step - loss: 6430.5024 - mae: 6430.5024\n",
            "Epoch 46/200\n",
            "32/32 [==============================] - 0s 3ms/step - loss: 6420.4341 - mae: 6420.4341\n",
            "Epoch 47/200\n",
            "32/32 [==============================] - 0s 2ms/step - loss: 6406.8428 - mae: 6406.8428\n",
            "Epoch 48/200\n",
            "32/32 [==============================] - 0s 3ms/step - loss: 6388.6626 - mae: 6388.6626\n",
            "Epoch 49/200\n",
            "32/32 [==============================] - 0s 3ms/step - loss: 6380.2661 - mae: 6380.2661\n",
            "Epoch 50/200\n",
            "32/32 [==============================] - 0s 3ms/step - loss: 6362.5713 - mae: 6362.5713\n",
            "Epoch 51/200\n",
            "32/32 [==============================] - 0s 3ms/step - loss: 6354.1875 - mae: 6354.1875\n",
            "Epoch 52/200\n",
            "32/32 [==============================] - 0s 3ms/step - loss: 6339.4492 - mae: 6339.4492\n",
            "Epoch 53/200\n",
            "32/32 [==============================] - 0s 3ms/step - loss: 6324.2090 - mae: 6324.2090\n",
            "Epoch 54/200\n",
            "32/32 [==============================] - 0s 3ms/step - loss: 6310.8838 - mae: 6310.8838\n",
            "Epoch 55/200\n",
            "32/32 [==============================] - 0s 3ms/step - loss: 6299.9761 - mae: 6299.9761\n",
            "Epoch 56/200\n",
            "32/32 [==============================] - 0s 3ms/step - loss: 6286.4497 - mae: 6286.4497\n",
            "Epoch 57/200\n",
            "32/32 [==============================] - 0s 3ms/step - loss: 6272.4697 - mae: 6272.4697\n",
            "Epoch 58/200\n",
            "32/32 [==============================] - 0s 3ms/step - loss: 6258.0864 - mae: 6258.0864\n",
            "Epoch 59/200\n",
            "32/32 [==============================] - 0s 3ms/step - loss: 6244.8638 - mae: 6244.8638\n",
            "Epoch 60/200\n",
            "32/32 [==============================] - 0s 3ms/step - loss: 6229.5894 - mae: 6229.5894\n",
            "Epoch 61/200\n",
            "32/32 [==============================] - 0s 3ms/step - loss: 6216.4268 - mae: 6216.4268\n",
            "Epoch 62/200\n",
            "32/32 [==============================] - 0s 3ms/step - loss: 6200.8555 - mae: 6200.8555\n",
            "Epoch 63/200\n",
            "32/32 [==============================] - 0s 3ms/step - loss: 6186.8511 - mae: 6186.8511\n",
            "Epoch 64/200\n",
            "32/32 [==============================] - 0s 3ms/step - loss: 6174.3359 - mae: 6174.3359\n",
            "Epoch 65/200\n",
            "32/32 [==============================] - 0s 2ms/step - loss: 6161.3530 - mae: 6161.3530\n",
            "Epoch 66/200\n",
            "32/32 [==============================] - 0s 3ms/step - loss: 6138.7681 - mae: 6138.7681\n",
            "Epoch 67/200\n",
            "32/32 [==============================] - 0s 3ms/step - loss: 6123.3159 - mae: 6123.3159\n",
            "Epoch 68/200\n",
            "32/32 [==============================] - 0s 3ms/step - loss: 6104.6055 - mae: 6104.6055\n",
            "Epoch 69/200\n",
            "32/32 [==============================] - 0s 3ms/step - loss: 6088.3984 - mae: 6088.3984\n",
            "Epoch 70/200\n",
            "32/32 [==============================] - 0s 3ms/step - loss: 6072.7231 - mae: 6072.7231\n",
            "Epoch 71/200\n",
            "32/32 [==============================] - 0s 3ms/step - loss: 6055.3843 - mae: 6055.3843\n",
            "Epoch 72/200\n",
            "32/32 [==============================] - 0s 3ms/step - loss: 6033.4077 - mae: 6033.4077\n",
            "Epoch 73/200\n",
            "32/32 [==============================] - 0s 2ms/step - loss: 6016.7437 - mae: 6016.7437\n",
            "Epoch 74/200\n",
            "32/32 [==============================] - 0s 3ms/step - loss: 5992.4565 - mae: 5992.4565\n",
            "Epoch 75/200\n",
            "32/32 [==============================] - 0s 3ms/step - loss: 5973.6743 - mae: 5973.6743\n",
            "Epoch 76/200\n",
            "32/32 [==============================] - 0s 3ms/step - loss: 5959.8203 - mae: 5959.8203\n",
            "Epoch 77/200\n",
            "32/32 [==============================] - 0s 3ms/step - loss: 5931.7852 - mae: 5931.7852\n",
            "Epoch 78/200\n",
            "32/32 [==============================] - 0s 3ms/step - loss: 5909.7217 - mae: 5909.7217\n",
            "Epoch 79/200\n",
            "32/32 [==============================] - 0s 3ms/step - loss: 5883.1753 - mae: 5883.1753\n",
            "Epoch 80/200\n",
            "32/32 [==============================] - 0s 3ms/step - loss: 5862.5400 - mae: 5862.5400\n",
            "Epoch 81/200\n",
            "32/32 [==============================] - 0s 3ms/step - loss: 5835.7896 - mae: 5835.7896\n",
            "Epoch 82/200\n",
            "32/32 [==============================] - 0s 3ms/step - loss: 5820.3345 - mae: 5820.3345\n",
            "Epoch 83/200\n",
            "32/32 [==============================] - 0s 3ms/step - loss: 5791.8154 - mae: 5791.8154\n",
            "Epoch 84/200\n",
            "32/32 [==============================] - 0s 3ms/step - loss: 5762.4507 - mae: 5762.4507\n",
            "Epoch 85/200\n",
            "32/32 [==============================] - 0s 3ms/step - loss: 5728.9800 - mae: 5728.9800\n",
            "Epoch 86/200\n",
            "32/32 [==============================] - 0s 3ms/step - loss: 5697.6826 - mae: 5697.6826\n",
            "Epoch 87/200\n",
            "32/32 [==============================] - 0s 3ms/step - loss: 5667.3335 - mae: 5667.3335\n",
            "Epoch 88/200\n",
            "32/32 [==============================] - 0s 3ms/step - loss: 5637.9609 - mae: 5637.9609\n",
            "Epoch 89/200\n",
            "32/32 [==============================] - 0s 3ms/step - loss: 5601.5498 - mae: 5601.5498\n",
            "Epoch 90/200\n",
            "32/32 [==============================] - 0s 3ms/step - loss: 5570.0869 - mae: 5570.0869\n",
            "Epoch 91/200\n",
            "32/32 [==============================] - 0s 3ms/step - loss: 5531.2666 - mae: 5531.2666\n",
            "Epoch 92/200\n",
            "32/32 [==============================] - 0s 3ms/step - loss: 5495.1240 - mae: 5495.1240\n",
            "Epoch 93/200\n",
            "32/32 [==============================] - 0s 3ms/step - loss: 5457.5352 - mae: 5457.5352\n",
            "Epoch 94/200\n",
            "32/32 [==============================] - 0s 3ms/step - loss: 5424.0352 - mae: 5424.0352\n",
            "Epoch 95/200\n",
            "32/32 [==============================] - 0s 3ms/step - loss: 5370.7842 - mae: 5370.7842\n",
            "Epoch 96/200\n",
            "32/32 [==============================] - 0s 2ms/step - loss: 5325.2637 - mae: 5325.2637\n",
            "Epoch 97/200\n",
            "32/32 [==============================] - 0s 3ms/step - loss: 5271.9697 - mae: 5271.9697\n",
            "Epoch 98/200\n",
            "32/32 [==============================] - 0s 3ms/step - loss: 5230.7720 - mae: 5230.7720\n",
            "Epoch 99/200\n",
            "32/32 [==============================] - 0s 3ms/step - loss: 5177.1445 - mae: 5177.1445\n",
            "Epoch 100/200\n",
            "32/32 [==============================] - 0s 3ms/step - loss: 5130.5820 - mae: 5130.5820\n",
            "Epoch 101/200\n",
            "32/32 [==============================] - 0s 3ms/step - loss: 5064.4736 - mae: 5064.4736\n",
            "Epoch 102/200\n",
            "32/32 [==============================] - 0s 3ms/step - loss: 5011.7300 - mae: 5011.7300\n",
            "Epoch 103/200\n",
            "32/32 [==============================] - 0s 3ms/step - loss: 4947.9468 - mae: 4947.9468\n",
            "Epoch 104/200\n",
            "32/32 [==============================] - 0s 2ms/step - loss: 4898.0107 - mae: 4898.0107\n",
            "Epoch 105/200\n",
            "32/32 [==============================] - 0s 3ms/step - loss: 4813.6470 - mae: 4813.6470\n",
            "Epoch 106/200\n",
            "32/32 [==============================] - 0s 2ms/step - loss: 4758.7876 - mae: 4758.7876\n",
            "Epoch 107/200\n",
            "32/32 [==============================] - 0s 3ms/step - loss: 4673.2646 - mae: 4673.2646\n",
            "Epoch 108/200\n",
            "32/32 [==============================] - 0s 3ms/step - loss: 4597.7905 - mae: 4597.7905\n",
            "Epoch 109/200\n",
            "32/32 [==============================] - 0s 3ms/step - loss: 4515.1304 - mae: 4515.1304\n",
            "Epoch 110/200\n",
            "32/32 [==============================] - 0s 3ms/step - loss: 4437.7744 - mae: 4437.7744\n",
            "Epoch 111/200\n",
            "32/32 [==============================] - 0s 3ms/step - loss: 4360.2041 - mae: 4360.2041\n",
            "Epoch 112/200\n",
            "32/32 [==============================] - 0s 3ms/step - loss: 4283.5073 - mae: 4283.5073\n",
            "Epoch 113/200\n",
            "32/32 [==============================] - 0s 3ms/step - loss: 4203.2471 - mae: 4203.2471\n",
            "Epoch 114/200\n",
            "32/32 [==============================] - 0s 3ms/step - loss: 4121.6675 - mae: 4121.6675\n",
            "Epoch 115/200\n",
            "32/32 [==============================] - 0s 3ms/step - loss: 4065.5442 - mae: 4065.5442\n",
            "Epoch 116/200\n",
            "32/32 [==============================] - 0s 3ms/step - loss: 4000.1099 - mae: 4000.1099\n",
            "Epoch 117/200\n",
            "32/32 [==============================] - 0s 3ms/step - loss: 3944.1177 - mae: 3944.1177\n",
            "Epoch 118/200\n",
            "32/32 [==============================] - 0s 2ms/step - loss: 3912.5464 - mae: 3912.5464\n",
            "Epoch 119/200\n",
            "32/32 [==============================] - 0s 3ms/step - loss: 3878.3684 - mae: 3878.3684\n",
            "Epoch 120/200\n",
            "32/32 [==============================] - 0s 3ms/step - loss: 3856.4736 - mae: 3856.4736\n",
            "Epoch 121/200\n",
            "32/32 [==============================] - 0s 3ms/step - loss: 3834.8069 - mae: 3834.8069\n",
            "Epoch 122/200\n",
            "32/32 [==============================] - 0s 3ms/step - loss: 3809.7297 - mae: 3809.7297\n",
            "Epoch 123/200\n",
            "32/32 [==============================] - 0s 3ms/step - loss: 3795.6699 - mae: 3795.6699\n",
            "Epoch 124/200\n",
            "32/32 [==============================] - 0s 3ms/step - loss: 3784.7581 - mae: 3784.7581\n",
            "Epoch 125/200\n",
            "32/32 [==============================] - 0s 3ms/step - loss: 3774.6934 - mae: 3774.6934\n",
            "Epoch 126/200\n",
            "32/32 [==============================] - 0s 3ms/step - loss: 3782.9971 - mae: 3782.9971\n",
            "Epoch 127/200\n",
            "32/32 [==============================] - 0s 3ms/step - loss: 3767.7188 - mae: 3767.7188\n",
            "Epoch 128/200\n",
            "32/32 [==============================] - 0s 3ms/step - loss: 3755.9717 - mae: 3755.9717\n",
            "Epoch 129/200\n",
            "32/32 [==============================] - 0s 3ms/step - loss: 3748.8223 - mae: 3748.8223\n",
            "Epoch 130/200\n",
            "32/32 [==============================] - 0s 3ms/step - loss: 3751.2283 - mae: 3751.2283\n",
            "Epoch 131/200\n",
            "32/32 [==============================] - 0s 3ms/step - loss: 3744.2883 - mae: 3744.2883\n",
            "Epoch 132/200\n",
            "32/32 [==============================] - 0s 3ms/step - loss: 3739.2100 - mae: 3739.2100\n",
            "Epoch 133/200\n",
            "32/32 [==============================] - 0s 3ms/step - loss: 3739.4165 - mae: 3739.4165\n",
            "Epoch 134/200\n",
            "32/32 [==============================] - 0s 3ms/step - loss: 3736.4282 - mae: 3736.4282\n",
            "Epoch 135/200\n",
            "32/32 [==============================] - 0s 3ms/step - loss: 3742.7854 - mae: 3742.7854\n",
            "Epoch 136/200\n",
            "32/32 [==============================] - 0s 3ms/step - loss: 3726.5938 - mae: 3726.5938\n",
            "Epoch 137/200\n",
            "32/32 [==============================] - 0s 3ms/step - loss: 3742.2720 - mae: 3742.2720\n",
            "Epoch 138/200\n",
            "32/32 [==============================] - 0s 3ms/step - loss: 3727.0676 - mae: 3727.0676\n",
            "Epoch 139/200\n",
            "32/32 [==============================] - 0s 3ms/step - loss: 3724.1987 - mae: 3724.1987\n",
            "Epoch 140/200\n",
            "32/32 [==============================] - 0s 3ms/step - loss: 3728.2510 - mae: 3728.2510\n",
            "Epoch 141/200\n",
            "32/32 [==============================] - 0s 3ms/step - loss: 3725.0579 - mae: 3725.0579\n",
            "Epoch 142/200\n",
            "32/32 [==============================] - 0s 3ms/step - loss: 3721.0681 - mae: 3721.0681\n",
            "Epoch 143/200\n",
            "32/32 [==============================] - 0s 3ms/step - loss: 3715.6526 - mae: 3715.6526\n",
            "Epoch 144/200\n",
            "32/32 [==============================] - 0s 3ms/step - loss: 3717.2576 - mae: 3717.2576\n",
            "Epoch 145/200\n",
            "32/32 [==============================] - 0s 3ms/step - loss: 3714.0029 - mae: 3714.0029\n",
            "Epoch 146/200\n",
            "32/32 [==============================] - 0s 3ms/step - loss: 3713.7683 - mae: 3713.7683\n",
            "Epoch 147/200\n",
            "32/32 [==============================] - 0s 3ms/step - loss: 3707.3997 - mae: 3707.3997\n",
            "Epoch 148/200\n",
            "32/32 [==============================] - 0s 3ms/step - loss: 3705.9739 - mae: 3705.9739\n",
            "Epoch 149/200\n",
            "32/32 [==============================] - 0s 3ms/step - loss: 3712.2415 - mae: 3712.2415\n",
            "Epoch 150/200\n",
            "32/32 [==============================] - 0s 3ms/step - loss: 3705.5149 - mae: 3705.5149\n",
            "Epoch 151/200\n",
            "32/32 [==============================] - 0s 3ms/step - loss: 3706.5703 - mae: 3706.5703\n",
            "Epoch 152/200\n",
            "32/32 [==============================] - 0s 3ms/step - loss: 3702.8770 - mae: 3702.8770\n",
            "Epoch 153/200\n",
            "32/32 [==============================] - 0s 3ms/step - loss: 3699.1567 - mae: 3699.1567\n",
            "Epoch 154/200\n",
            "32/32 [==============================] - 0s 2ms/step - loss: 3703.0449 - mae: 3703.0449\n",
            "Epoch 155/200\n",
            "32/32 [==============================] - 0s 3ms/step - loss: 3697.0127 - mae: 3697.0127\n",
            "Epoch 156/200\n",
            "32/32 [==============================] - 0s 3ms/step - loss: 3717.3064 - mae: 3717.3064\n",
            "Epoch 157/200\n",
            "32/32 [==============================] - 0s 3ms/step - loss: 3700.9180 - mae: 3700.9180\n",
            "Epoch 158/200\n",
            "32/32 [==============================] - 0s 3ms/step - loss: 3699.8582 - mae: 3699.8582\n",
            "Epoch 159/200\n",
            "32/32 [==============================] - 0s 3ms/step - loss: 3693.5012 - mae: 3693.5012\n",
            "Epoch 160/200\n",
            "32/32 [==============================] - 0s 3ms/step - loss: 3691.6348 - mae: 3691.6348\n",
            "Epoch 161/200\n",
            "32/32 [==============================] - 0s 3ms/step - loss: 3703.3157 - mae: 3703.3157\n",
            "Epoch 162/200\n",
            "32/32 [==============================] - 0s 3ms/step - loss: 3691.6047 - mae: 3691.6047\n",
            "Epoch 163/200\n",
            "32/32 [==============================] - 0s 3ms/step - loss: 3691.2339 - mae: 3691.2339\n",
            "Epoch 164/200\n",
            "32/32 [==============================] - 0s 3ms/step - loss: 3686.8086 - mae: 3686.8086\n",
            "Epoch 165/200\n",
            "32/32 [==============================] - 0s 3ms/step - loss: 3689.1350 - mae: 3689.1350\n",
            "Epoch 166/200\n",
            "32/32 [==============================] - 0s 3ms/step - loss: 3691.5239 - mae: 3691.5239\n",
            "Epoch 167/200\n",
            "32/32 [==============================] - 0s 3ms/step - loss: 3682.7974 - mae: 3682.7974\n",
            "Epoch 168/200\n",
            "32/32 [==============================] - 0s 3ms/step - loss: 3682.0144 - mae: 3682.0144\n",
            "Epoch 169/200\n",
            "32/32 [==============================] - 0s 3ms/step - loss: 3681.5237 - mae: 3681.5237\n",
            "Epoch 170/200\n",
            "32/32 [==============================] - 0s 3ms/step - loss: 3678.8530 - mae: 3678.8530\n",
            "Epoch 171/200\n",
            "32/32 [==============================] - 0s 3ms/step - loss: 3683.3108 - mae: 3683.3108\n",
            "Epoch 172/200\n",
            "32/32 [==============================] - 0s 3ms/step - loss: 3683.1797 - mae: 3683.1797\n",
            "Epoch 173/200\n",
            "32/32 [==============================] - 0s 3ms/step - loss: 3674.1633 - mae: 3674.1633\n",
            "Epoch 174/200\n",
            "32/32 [==============================] - 0s 3ms/step - loss: 3680.0454 - mae: 3680.0454\n",
            "Epoch 175/200\n",
            "32/32 [==============================] - 0s 3ms/step - loss: 3682.3347 - mae: 3682.3347\n",
            "Epoch 176/200\n",
            "32/32 [==============================] - 0s 3ms/step - loss: 3673.1096 - mae: 3673.1096\n",
            "Epoch 177/200\n",
            "32/32 [==============================] - 0s 3ms/step - loss: 3670.9246 - mae: 3670.9246\n",
            "Epoch 178/200\n",
            "32/32 [==============================] - 0s 3ms/step - loss: 3672.5874 - mae: 3672.5874\n",
            "Epoch 179/200\n",
            "32/32 [==============================] - 0s 3ms/step - loss: 3671.5530 - mae: 3671.5530\n",
            "Epoch 180/200\n",
            "32/32 [==============================] - 0s 3ms/step - loss: 3669.5862 - mae: 3669.5862\n",
            "Epoch 181/200\n",
            "32/32 [==============================] - 0s 3ms/step - loss: 3665.6987 - mae: 3665.6987\n",
            "Epoch 182/200\n",
            "32/32 [==============================] - 0s 3ms/step - loss: 3663.3486 - mae: 3663.3486\n",
            "Epoch 183/200\n",
            "32/32 [==============================] - 0s 3ms/step - loss: 3662.5698 - mae: 3662.5698\n",
            "Epoch 184/200\n",
            "32/32 [==============================] - 0s 3ms/step - loss: 3672.5996 - mae: 3672.5996\n",
            "Epoch 185/200\n",
            "32/32 [==============================] - 0s 3ms/step - loss: 3672.4109 - mae: 3672.4109\n",
            "Epoch 186/200\n",
            "32/32 [==============================] - 0s 3ms/step - loss: 3665.6958 - mae: 3665.6958\n",
            "Epoch 187/200\n",
            "32/32 [==============================] - 0s 3ms/step - loss: 3661.6885 - mae: 3661.6885\n",
            "Epoch 188/200\n",
            "32/32 [==============================] - 0s 3ms/step - loss: 3659.9617 - mae: 3659.9617\n",
            "Epoch 189/200\n",
            "32/32 [==============================] - 0s 3ms/step - loss: 3659.3411 - mae: 3659.3411\n",
            "Epoch 190/200\n",
            "32/32 [==============================] - 0s 3ms/step - loss: 3657.7922 - mae: 3657.7922\n",
            "Epoch 191/200\n",
            "32/32 [==============================] - 0s 3ms/step - loss: 3658.5085 - mae: 3658.5085\n",
            "Epoch 192/200\n",
            "32/32 [==============================] - 0s 3ms/step - loss: 3654.3088 - mae: 3654.3088\n",
            "Epoch 193/200\n",
            "32/32 [==============================] - 0s 3ms/step - loss: 3652.0981 - mae: 3652.0981\n",
            "Epoch 194/200\n",
            "32/32 [==============================] - 0s 3ms/step - loss: 3654.1909 - mae: 3654.1909\n",
            "Epoch 195/200\n",
            "32/32 [==============================] - 0s 3ms/step - loss: 3649.9236 - mae: 3649.9236\n",
            "Epoch 196/200\n",
            "32/32 [==============================] - 0s 3ms/step - loss: 3646.5750 - mae: 3646.5750\n",
            "Epoch 197/200\n",
            "32/32 [==============================] - 0s 3ms/step - loss: 3648.1770 - mae: 3648.1770\n",
            "Epoch 198/200\n",
            "32/32 [==============================] - 0s 3ms/step - loss: 3649.9407 - mae: 3649.9407\n",
            "Epoch 199/200\n",
            "32/32 [==============================] - 0s 3ms/step - loss: 3651.0149 - mae: 3651.0149\n",
            "Epoch 200/200\n",
            "32/32 [==============================] - 0s 3ms/step - loss: 3646.3298 - mae: 3646.3298\n"
          ]
        }
      ]
    },
    {
      "cell_type": "code",
      "source": [
        "model_3.evaluate(X_test,y_test)"
      ],
      "metadata": {
        "colab": {
          "base_uri": "https://localhost:8080/"
        },
        "id": "Vaxa5eTS-f8k",
        "outputId": "31f7992a-fd35-46ac-839a-28a6fbad8c1a"
      },
      "execution_count": null,
      "outputs": [
        {
          "output_type": "stream",
          "name": "stdout",
          "text": [
            "11/11 [==============================] - 0s 2ms/step - loss: 3688.7021 - mae: 3688.7021\n"
          ]
        },
        {
          "output_type": "execute_result",
          "data": {
            "text/plain": [
              "[3688.7021484375, 3688.7021484375]"
            ]
          },
          "metadata": {},
          "execution_count": 53
        }
      ]
    },
    {
      "cell_type": "code",
      "source": [
        "pd.DataFrame(history.history).plot()\n",
        "plt.ylabel(\"loss\")\n",
        "plt.xlabel(\"epochs\")"
      ],
      "metadata": {
        "colab": {
          "base_uri": "https://localhost:8080/",
          "height": 296
        },
        "id": "fz8GNGb3_IQK",
        "outputId": "1165b40b-a025-4b69-8132-89640bef4079"
      },
      "execution_count": null,
      "outputs": [
        {
          "output_type": "execute_result",
          "data": {
            "text/plain": [
              "Text(0.5, 0, 'epochs')"
            ]
          },
          "metadata": {},
          "execution_count": 55
        },
        {
          "output_type": "display_data",
          "data": {
            "text/plain": [
              "<Figure size 432x288 with 1 Axes>"
            ],
            "image/png": "[encoded data removed]"
          },
          "metadata": {
            "needs_background": "light"
          }
        }
      ]
    },
    {
      "cell_type": "markdown",
      "source": [
        "##Preprocessing Data(normalization and standardization)"
      ],
      "metadata": {
        "id": "cpumg5F2DlTZ"
      }
    },
    {
      "cell_type": "code",
      "source": [
        "import pandas as pd\n",
        "import matplotlib.pyplot as plt\n",
        "import tensorflow as tf\n",
        "insurance = pd.read_csv('https://raw.githubusercontent.com/stedy/Machine-Learning-with-R-datasets/master/insurance.csv')\n",
        "insurance"
      ],
      "metadata": {
        "colab": {
          "base_uri": "https://localhost:8080/",
          "height": 424
        },
        "id": "cVTbcEKpL4ST",
        "outputId": "cdf12baa-d9b6-42c2-e623-66d6b1ef45c5"
      },
      "execution_count": null,
      "outputs": [
        {
          "output_type": "execute_result",
          "data": {
            "text/plain": [
              "      age     sex     bmi  children smoker     region      charges\n",
              "0      19  female  27.900         0    yes  southwest  16884.92400\n",
              "1      18    male  33.770         1     no  southeast   1725.55230\n",
              "2      28    male  33.000         3     no  southeast   4449.46200\n",
              "3      33    male  22.705         0     no  northwest  21984.47061\n",
              "4      32    male  28.880         0     no  northwest   3866.85520\n",
              "...   ...     ...     ...       ...    ...        ...          ...\n",
              "1333   50    male  30.970         3     no  northwest  10600.54830\n",
              "1334   18  female  31.920         0     no  northeast   2205.98080\n",
              "1335   18  female  36.850         0     no  southeast   1629.83350\n",
              "1336   21  female  25.800         0     no  southwest   2007.94500\n",
              "1337   61  female  29.070         0    yes  northwest  29141.36030\n",
              "\n",
              "[1338 rows x 7 columns]"
            ],
            "text/html": [
              "\n",
              "  <div id=\"df-51a62818-142a-421d-a079-f1889100a63e\">\n",
              "    <div class=\"colab-df-container\">\n",
              "      <div>\n",
              "<style scoped>\n",
              "    .dataframe tbody tr th:only-of-type {\n",
              "        vertical-align: middle;\n",
              "    }\n",
              "\n",
              "    .dataframe tbody tr th {\n",
              "        vertical-align: top;\n",
              "    }\n",
              "\n",
              "    .dataframe thead th {\n",
              "        text-align: right;\n",
              "    }\n",
              "</style>\n",
              "<table border=\"1\" class=\"dataframe\">\n",
              "  <thead>\n",
              "    <tr style=\"text-align: right;\">\n",
              "      <th></th>\n",
              "      <th>age</th>\n",
              "      <th>sex</th>\n",
              "      <th>bmi</th>\n",
              "      <th>children</th>\n",
              "      <th>smoker</th>\n",
              "      <th>region</th>\n",
              "      <th>charges</th>\n",
              "    </tr>\n",
              "  </thead>\n",
              "  <tbody>\n",
              "    <tr>\n",
              "      <th>0</th>\n",
              "      <td>19</td>\n",
              "      <td>female</td>\n",
              "      <td>27.900</td>\n",
              "      <td>0</td>\n",
              "      <td>yes</td>\n",
              "      <td>southwest</td>\n",
              "      <td>16884.92400</td>\n",
              "    </tr>\n",
              "    <tr>\n",
              "      <th>1</th>\n",
              "      <td>18</td>\n",
              "      <td>male</td>\n",
              "      <td>33.770</td>\n",
              "      <td>1</td>\n",
              "      <td>no</td>\n",
              "      <td>southeast</td>\n",
              "      <td>1725.55230</td>\n",
              "    </tr>\n",
              "    <tr>\n",
              "      <th>2</th>\n",
              "      <td>28</td>\n",
              "      <td>male</td>\n",
              "      <td>33.000</td>\n",
              "      <td>3</td>\n",
              "      <td>no</td>\n",
              "      <td>southeast</td>\n",
              "      <td>4449.46200</td>\n",
              "    </tr>\n",
              "    <tr>\n",
              "      <th>3</th>\n",
              "      <td>33</td>\n",
              "      <td>male</td>\n",
              "      <td>22.705</td>\n",
              "      <td>0</td>\n",
              "      <td>no</td>\n",
              "      <td>northwest</td>\n",
              "      <td>21984.47061</td>\n",
              "    </tr>\n",
              "    <tr>\n",
              "      <th>4</th>\n",
              "      <td>32</td>\n",
              "      <td>male</td>\n",
              "      <td>28.880</td>\n",
              "      <td>0</td>\n",
              "      <td>no</td>\n",
              "      <td>northwest</td>\n",
              "      <td>3866.85520</td>\n",
              "    </tr>\n",
              "    <tr>\n",
              "      <th>...</th>\n",
              "      <td>...</td>\n",
              "      <td>...</td>\n",
              "      <td>...</td>\n",
              "      <td>...</td>\n",
              "      <td>...</td>\n",
              "      <td>...</td>\n",
              "      <td>...</td>\n",
              "    </tr>\n",
              "    <tr>\n",
              "      <th>1333</th>\n",
              "      <td>50</td>\n",
              "      <td>male</td>\n",
              "      <td>30.970</td>\n",
              "      <td>3</td>\n",
              "      <td>no</td>\n",
              "      <td>northwest</td>\n",
              "      <td>10600.54830</td>\n",
              "    </tr>\n",
              "    <tr>\n",
              "      <th>1334</th>\n",
              "      <td>18</td>\n",
              "      <td>female</td>\n",
              "      <td>31.920</td>\n",
              "      <td>0</td>\n",
              "      <td>no</td>\n",
              "      <td>northeast</td>\n",
              "      <td>2205.98080</td>\n",
              "    </tr>\n",
              "    <tr>\n",
              "      <th>1335</th>\n",
              "      <td>18</td>\n",
              "      <td>female</td>\n",
              "      <td>36.850</td>\n",
              "      <td>0</td>\n",
              "      <td>no</td>\n",
              "      <td>southeast</td>\n",
              "      <td>1629.83350</td>\n",
              "    </tr>\n",
              "    <tr>\n",
              "      <th>1336</th>\n",
              "      <td>21</td>\n",
              "      <td>female</td>\n",
              "      <td>25.800</td>\n",
              "      <td>0</td>\n",
              "      <td>no</td>\n",
              "      <td>southwest</td>\n",
              "      <td>2007.94500</td>\n",
              "    </tr>\n",
              "    <tr>\n",
              "      <th>1337</th>\n",
              "      <td>61</td>\n",
              "      <td>female</td>\n",
              "      <td>29.070</td>\n",
              "      <td>0</td>\n",
              "      <td>yes</td>\n",
              "      <td>northwest</td>\n",
              "      <td>29141.36030</td>\n",
              "    </tr>\n",
              "  </tbody>\n",
              "</table>\n",
              "<p>1338 rows × 7 columns</p>\n",
              "</div>\n",
              "      <button class=\"colab-df-convert\" onclick=\"convertToInteractive('df-51a62818-142a-421d-a079-f1889100a63e')\"\n",
              "              title=\"Convert this dataframe to an interactive table.\"\n",
              "              style=\"display:none;\">\n",
              "        \n",
              "  <svg xmlns=\"http://www.w3.org/2000/svg\" height=\"24px\"viewBox=\"0 0 24 24\"\n",
              "       width=\"24px\">\n",
              "    <path d=\"M0 0h24v24H0V0z\" fill=\"none\"/>\n",
              "    <path d=\"M18.56 5.44l.94 2.06.94-2.06 2.06-.94-2.06-.94-.94-2.06-.94 2.06-2.06.94zm-11 1L8.5 8.5l.94-2.06 2.06-.94-2.06-.94L8.5 2.5l-.94 2.06-2.06.94zm10 10l.94 2.06.94-2.06 2.06-.94-2.06-.94-.94-2.06-.94 2.06-2.06.94z\"/><path d=\"M17.41 7.96l-1.37-1.37c-.4-.4-.92-.59-1.43-.59-.52 0-1.04.2-1.43.59L10.3 9.45l-7.72 7.72c-.78.78-.78 2.05 0 2.83L4 21.41c.39.39.9.59 1.41.59.51 0 1.02-.2 1.41-.59l7.78-7.78 2.81-2.81c.8-.78.8-2.07 0-2.86zM5.41 20L4 18.59l7.72-7.72 1.47 1.35L5.41 20z\"/>\n",
              "  </svg>\n",
              "      </button>\n",
              "      \n",
              "  <style>\n",
              "    .colab-df-container {\n",
              "      display:flex;\n",
              "      flex-wrap:wrap;\n",
              "      gap: 12px;\n",
              "    }\n",
              "\n",
              "    .colab-df-convert {\n",
              "      background-color: #E8F0FE;\n",
              "      border: none;\n",
              "      border-radius: 50%;\n",
              "      cursor: pointer;\n",
              "      display: none;\n",
              "      fill: #1967D2;\n",
              "      height: 32px;\n",
              "      padding: 0 0 0 0;\n",
              "      width: 32px;\n",
              "    }\n",
              "\n",
              "    .colab-df-convert:hover {\n",
              "      background-color: #E2EBFA;\n",
              "      box-shadow: 0px 1px 2px rgba(60, 64, 67, 0.3), 0px 1px 3px 1px rgba(60, 64, 67, 0.15);\n",
              "      fill: #174EA6;\n",
              "    }\n",
              "\n",
              "    [theme=dark] .colab-df-convert {\n",
              "      background-color: #3B4455;\n",
              "      fill: #D2E3FC;\n",
              "    }\n",
              "\n",
              "    [theme=dark] .colab-df-convert:hover {\n",
              "      background-color: #434B5C;\n",
              "      box-shadow: 0px 1px 3px 1px rgba(0, 0, 0, 0.15);\n",
              "      filter: drop-shadow(0px 1px 2px rgba(0, 0, 0, 0.3));\n",
              "      fill: #FFFFFF;\n",
              "    }\n",
              "  </style>\n",
              "\n",
              "      <script>\n",
              "        const buttonEl =\n",
              "          document.querySelector('#df-51a62818-142a-421d-a079-f1889100a63e button.colab-df-convert');\n",
              "        buttonEl.style.display =\n",
              "          google.colab.kernel.accessAllowed ? 'block' : 'none';\n",
              "\n",
              "        async function convertToInteractive(key) {\n",
              "          const element = document.querySelector('#df-51a62818-142a-421d-a079-f1889100a63e');\n",
              "          const dataTable =\n",
              "            await google.colab.kernel.invokeFunction('convertToInteractive',\n",
              "                                                     [key], {});\n",
              "          if (!dataTable) return;\n",
              "\n",
              "          const docLinkHtml = 'Like what you see? Visit the ' +\n",
              "            '<a target=\"_blank\" href=https://colab.research.google.com/notebooks/data_table.ipynb>data table notebook</a>'\n",
              "            + ' to learn more about interactive tables.';\n",
              "          element.innerHTML = '';\n",
              "          dataTable['output_type'] = 'display_data';\n",
              "          await google.colab.output.renderOutput(dataTable, element);\n",
              "          const docLink = document.createElement('div');\n",
              "          docLink.innerHTML = docLinkHtml;\n",
              "          element.appendChild(docLink);\n",
              "        }\n",
              "      </script>\n",
              "    </div>\n",
              "  </div>\n",
              "  "
            ]
          },
          "metadata": {},
          "execution_count": 2
        }
      ]
    },
    {
      "cell_type": "markdown",
      "source": [
        "To prepare our data we can borrow some classes from Scikit-Learn"
      ],
      "metadata": {
        "id": "58juk3i3MeJi"
      }
    },
    {
      "cell_type": "code",
      "source": [
        "from sklearn.compose import make_column_transformer\n",
        "from sklearn.preprocessing import MinMaxScaler, OneHotEncoder\n",
        "from sklearn.model_selection import train_test_split\n",
        "\n",
        "#Create a column transformer\n",
        "ct = make_column_transformer(\n",
        "    (MinMaxScaler(),[\"age\",\"bmi\",\"children\"]),\n",
        "    (OneHotEncoder(handle_unknown=\"ignore\"),[\"sex\",\"smoker\",\"region\"])\n",
        ")\n",
        "\n",
        "#Create X & y\n",
        "X=insurance.drop(\"charges\",axis=1)\n",
        "y=insurance[\"charges\"]\n",
        "\n",
        "#Spilliting into train and test sets\n",
        "X_train,X_test,y_train,y_test=train_test_split(X,y,test_size=0.2,random_state=42)\n",
        "\n",
        "#Fit the column transformer to our training data\n",
        "ct.fit(X_train)\n",
        "\n",
        "#Transform training and test data with normalization (MinMaxScaler) and OneHotEncoder\n",
        "X_train_normal=ct.transform(X_train)\n",
        "X_test_normal=ct.transform(X_test)\n"
      ],
      "metadata": {
        "id": "DRWxpPXdM2h2"
      },
      "execution_count": null,
      "outputs": []
    },
    {
      "cell_type": "code",
      "source": [
        "X_train"
      ],
      "metadata": {
        "colab": {
          "base_uri": "https://localhost:8080/",
          "height": 424
        },
        "id": "SUTGhfvTP0Ul",
        "outputId": "429b4ec3-c303-45ee-d26c-516f85fc5672"
      },
      "execution_count": null,
      "outputs": [
        {
          "output_type": "execute_result",
          "data": {
            "text/plain": [
              "      age     sex     bmi  children smoker     region\n",
              "560    46  female  19.950         2     no  northwest\n",
              "1285   47  female  24.320         0     no  northeast\n",
              "1142   52  female  24.860         0     no  southeast\n",
              "969    39  female  34.320         5     no  southeast\n",
              "486    54  female  21.470         3     no  northwest\n",
              "...   ...     ...     ...       ...    ...        ...\n",
              "1095   18  female  31.350         4     no  northeast\n",
              "1130   39  female  23.870         5     no  southeast\n",
              "1294   58    male  25.175         0     no  northeast\n",
              "860    37  female  47.600         2    yes  southwest\n",
              "1126   55    male  29.900         0     no  southwest\n",
              "\n",
              "[1070 rows x 6 columns]"
            ],
            "text/html": [
              "\n",
              "  <div id=\"df-bd593e78-2c35-487b-b02e-598b8394b0e8\">\n",
              "    <div class=\"colab-df-container\">\n",
              "      <div>\n",
              "<style scoped>\n",
              "    .dataframe tbody tr th:only-of-type {\n",
              "        vertical-align: middle;\n",
              "    }\n",
              "\n",
              "    .dataframe tbody tr th {\n",
              "        vertical-align: top;\n",
              "    }\n",
              "\n",
              "    .dataframe thead th {\n",
              "        text-align: right;\n",
              "    }\n",
              "</style>\n",
              "<table border=\"1\" class=\"dataframe\">\n",
              "  <thead>\n",
              "    <tr style=\"text-align: right;\">\n",
              "      <th></th>\n",
              "      <th>age</th>\n",
              "      <th>sex</th>\n",
              "      <th>bmi</th>\n",
              "      <th>children</th>\n",
              "      <th>smoker</th>\n",
              "      <th>region</th>\n",
              "    </tr>\n",
              "  </thead>\n",
              "  <tbody>\n",
              "    <tr>\n",
              "      <th>560</th>\n",
              "      <td>46</td>\n",
              "      <td>female</td>\n",
              "      <td>19.950</td>\n",
              "      <td>2</td>\n",
              "      <td>no</td>\n",
              "      <td>northwest</td>\n",
              "    </tr>\n",
              "    <tr>\n",
              "      <th>1285</th>\n",
              "      <td>47</td>\n",
              "      <td>female</td>\n",
              "      <td>24.320</td>\n",
              "      <td>0</td>\n",
              "      <td>no</td>\n",
              "      <td>northeast</td>\n",
              "    </tr>\n",
              "    <tr>\n",
              "      <th>1142</th>\n",
              "      <td>52</td>\n",
              "      <td>female</td>\n",
              "      <td>24.860</td>\n",
              "      <td>0</td>\n",
              "      <td>no</td>\n",
              "      <td>southeast</td>\n",
              "    </tr>\n",
              "    <tr>\n",
              "      <th>969</th>\n",
              "      <td>39</td>\n",
              "      <td>female</td>\n",
              "      <td>34.320</td>\n",
              "      <td>5</td>\n",
              "      <td>no</td>\n",
              "      <td>southeast</td>\n",
              "    </tr>\n",
              "    <tr>\n",
              "      <th>486</th>\n",
              "      <td>54</td>\n",
              "      <td>female</td>\n",
              "      <td>21.470</td>\n",
              "      <td>3</td>\n",
              "      <td>no</td>\n",
              "      <td>northwest</td>\n",
              "    </tr>\n",
              "    <tr>\n",
              "      <th>...</th>\n",
              "      <td>...</td>\n",
              "      <td>...</td>\n",
              "      <td>...</td>\n",
              "      <td>...</td>\n",
              "      <td>...</td>\n",
              "      <td>...</td>\n",
              "    </tr>\n",
              "    <tr>\n",
              "      <th>1095</th>\n",
              "      <td>18</td>\n",
              "      <td>female</td>\n",
              "      <td>31.350</td>\n",
              "      <td>4</td>\n",
              "      <td>no</td>\n",
              "      <td>northeast</td>\n",
              "    </tr>\n",
              "    <tr>\n",
              "      <th>1130</th>\n",
              "      <td>39</td>\n",
              "      <td>female</td>\n",
              "      <td>23.870</td>\n",
              "      <td>5</td>\n",
              "      <td>no</td>\n",
              "      <td>southeast</td>\n",
              "    </tr>\n",
              "    <tr>\n",
              "      <th>1294</th>\n",
              "      <td>58</td>\n",
              "      <td>male</td>\n",
              "      <td>25.175</td>\n",
              "      <td>0</td>\n",
              "      <td>no</td>\n",
              "      <td>northeast</td>\n",
              "    </tr>\n",
              "    <tr>\n",
              "      <th>860</th>\n",
              "      <td>37</td>\n",
              "      <td>female</td>\n",
              "      <td>47.600</td>\n",
              "      <td>2</td>\n",
              "      <td>yes</td>\n",
              "      <td>southwest</td>\n",
              "    </tr>\n",
              "    <tr>\n",
              "      <th>1126</th>\n",
              "      <td>55</td>\n",
              "      <td>male</td>\n",
              "      <td>29.900</td>\n",
              "      <td>0</td>\n",
              "      <td>no</td>\n",
              "      <td>southwest</td>\n",
              "    </tr>\n",
              "  </tbody>\n",
              "</table>\n",
              "<p>1070 rows × 6 columns</p>\n",
              "</div>\n",
              "      <button class=\"colab-df-convert\" onclick=\"convertToInteractive('df-bd593e78-2c35-487b-b02e-598b8394b0e8')\"\n",
              "              title=\"Convert this dataframe to an interactive table.\"\n",
              "              style=\"display:none;\">\n",
              "        \n",
              "  <svg xmlns=\"http://www.w3.org/2000/svg\" height=\"24px\"viewBox=\"0 0 24 24\"\n",
              "       width=\"24px\">\n",
              "    <path d=\"M0 0h24v24H0V0z\" fill=\"none\"/>\n",
              "    <path d=\"M18.56 5.44l.94 2.06.94-2.06 2.06-.94-2.06-.94-.94-2.06-.94 2.06-2.06.94zm-11 1L8.5 8.5l.94-2.06 2.06-.94-2.06-.94L8.5 2.5l-.94 2.06-2.06.94zm10 10l.94 2.06.94-2.06 2.06-.94-2.06-.94-.94-2.06-.94 2.06-2.06.94z\"/><path d=\"M17.41 7.96l-1.37-1.37c-.4-.4-.92-.59-1.43-.59-.52 0-1.04.2-1.43.59L10.3 9.45l-7.72 7.72c-.78.78-.78 2.05 0 2.83L4 21.41c.39.39.9.59 1.41.59.51 0 1.02-.2 1.41-.59l7.78-7.78 2.81-2.81c.8-.78.8-2.07 0-2.86zM5.41 20L4 18.59l7.72-7.72 1.47 1.35L5.41 20z\"/>\n",
              "  </svg>\n",
              "      </button>\n",
              "      \n",
              "  <style>\n",
              "    .colab-df-container {\n",
              "      display:flex;\n",
              "      flex-wrap:wrap;\n",
              "      gap: 12px;\n",
              "    }\n",
              "\n",
              "    .colab-df-convert {\n",
              "      background-color: #E8F0FE;\n",
              "      border: none;\n",
              "      border-radius: 50%;\n",
              "      cursor: pointer;\n",
              "      display: none;\n",
              "      fill: #1967D2;\n",
              "      height: 32px;\n",
              "      padding: 0 0 0 0;\n",
              "      width: 32px;\n",
              "    }\n",
              "\n",
              "    .colab-df-convert:hover {\n",
              "      background-color: #E2EBFA;\n",
              "      box-shadow: 0px 1px 2px rgba(60, 64, 67, 0.3), 0px 1px 3px 1px rgba(60, 64, 67, 0.15);\n",
              "      fill: #174EA6;\n",
              "    }\n",
              "\n",
              "    [theme=dark] .colab-df-convert {\n",
              "      background-color: #3B4455;\n",
              "      fill: #D2E3FC;\n",
              "    }\n",
              "\n",
              "    [theme=dark] .colab-df-convert:hover {\n",
              "      background-color: #434B5C;\n",
              "      box-shadow: 0px 1px 3px 1px rgba(0, 0, 0, 0.15);\n",
              "      filter: drop-shadow(0px 1px 2px rgba(0, 0, 0, 0.3));\n",
              "      fill: #FFFFFF;\n",
              "    }\n",
              "  </style>\n",
              "\n",
              "      <script>\n",
              "        const buttonEl =\n",
              "          document.querySelector('#df-bd593e78-2c35-487b-b02e-598b8394b0e8 button.colab-df-convert');\n",
              "        buttonEl.style.display =\n",
              "          google.colab.kernel.accessAllowed ? 'block' : 'none';\n",
              "\n",
              "        async function convertToInteractive(key) {\n",
              "          const element = document.querySelector('#df-bd593e78-2c35-487b-b02e-598b8394b0e8');\n",
              "          const dataTable =\n",
              "            await google.colab.kernel.invokeFunction('convertToInteractive',\n",
              "                                                     [key], {});\n",
              "          if (!dataTable) return;\n",
              "\n",
              "          const docLinkHtml = 'Like what you see? Visit the ' +\n",
              "            '<a target=\"_blank\" href=https://colab.research.google.com/notebooks/data_table.ipynb>data table notebook</a>'\n",
              "            + ' to learn more about interactive tables.';\n",
              "          element.innerHTML = '';\n",
              "          dataTable['output_type'] = 'display_data';\n",
              "          await google.colab.output.renderOutput(dataTable, element);\n",
              "          const docLink = document.createElement('div');\n",
              "          docLink.innerHTML = docLinkHtml;\n",
              "          element.appendChild(docLink);\n",
              "        }\n",
              "      </script>\n",
              "    </div>\n",
              "  </div>\n",
              "  "
            ]
          },
          "metadata": {},
          "execution_count": 5
        }
      ]
    },
    {
      "cell_type": "code",
      "source": [
        "X_train_normal"
      ],
      "metadata": {
        "colab": {
          "base_uri": "https://localhost:8080/"
        },
        "id": "oBkq3bMfP1XW",
        "outputId": "4376b11a-81aa-4bfa-e34a-3630e6ce19cb"
      },
      "execution_count": null,
      "outputs": [
        {
          "output_type": "execute_result",
          "data": {
            "text/plain": [
              "array([[0.60869565, 0.10734463, 0.4       , ..., 1.        , 0.        ,\n",
              "        0.        ],\n",
              "       [0.63043478, 0.22491256, 0.        , ..., 0.        , 0.        ,\n",
              "        0.        ],\n",
              "       [0.73913043, 0.23944041, 0.        , ..., 0.        , 1.        ,\n",
              "        0.        ],\n",
              "       ...,\n",
              "       [0.86956522, 0.24791499, 0.        , ..., 0.        , 0.        ,\n",
              "        0.        ],\n",
              "       [0.41304348, 0.85122411, 0.4       , ..., 0.        , 0.        ,\n",
              "        1.        ],\n",
              "       [0.80434783, 0.37503363, 0.        , ..., 0.        , 0.        ,\n",
              "        1.        ]])"
            ]
          },
          "metadata": {},
          "execution_count": 6
        }
      ]
    },
    {
      "cell_type": "markdown",
      "source": [
        "Our data has been normalized and one hot encoded. Let's build a neural network model on it to see how it goes."
      ],
      "metadata": {
        "id": "9qbxBzZDQDYj"
      }
    },
    {
      "cell_type": "code",
      "source": [
        "model = tf.keras.Sequential(\n",
        "    [\n",
        "        tf.keras.layers.Dense(100),\n",
        "        tf.keras.layers.Dense(10),\n",
        "        tf.keras.layers.Dense(1)\n",
        "    ]\n",
        ")\n",
        "\n",
        "model.compile(\n",
        "    loss=tf.keras.losses.MAE,\n",
        "    optimizer=tf.keras.optimizers.Adam(),\n",
        "    metrics=['mae']\n",
        ")\n",
        "\n",
        "model.fit(X_train_normal,y_train,epochs=200)"
      ],
      "metadata": {
        "colab": {
          "base_uri": "https://localhost:8080/"
        },
        "id": "RZLCY3zUP3z3",
        "outputId": "99b6797b-cc6f-4b7b-f895-f29458a3bd7a"
      },
      "execution_count": null,
      "outputs": [
        {
          "output_type": "stream",
          "name": "stdout",
          "text": [
            "Epoch 1/200\n",
            "34/34 [==============================] - 1s 5ms/step - loss: 13343.6592 - mae: 13343.6592\n",
            "Epoch 2/200\n",
            "34/34 [==============================] - 0s 5ms/step - loss: 13335.6182 - mae: 13335.6182\n",
            "Epoch 3/200\n",
            "34/34 [==============================] - 0s 4ms/step - loss: 13315.5479 - mae: 13315.5479\n",
            "Epoch 4/200\n",
            "34/34 [==============================] - 0s 4ms/step - loss: 13272.5645 - mae: 13272.5645\n",
            "Epoch 5/200\n",
            "34/34 [==============================] - 0s 4ms/step - loss: 13195.1699 - mae: 13195.1699\n",
            "Epoch 6/200\n",
            "34/34 [==============================] - 0s 5ms/step - loss: 13072.3174 - mae: 13072.3174\n",
            "Epoch 7/200\n",
            "34/34 [==============================] - 0s 4ms/step - loss: 12893.6680 - mae: 12893.6680\n",
            "Epoch 8/200\n",
            "34/34 [==============================] - 0s 4ms/step - loss: 12649.2529 - mae: 12649.2529\n",
            "Epoch 9/200\n",
            "34/34 [==============================] - 0s 3ms/step - loss: 12329.2383 - mae: 12329.2383\n",
            "Epoch 10/200\n",
            "34/34 [==============================] - 0s 4ms/step - loss: 11928.6279 - mae: 11928.6279\n",
            "Epoch 11/200\n",
            "34/34 [==============================] - 0s 4ms/step - loss: 11454.3271 - mae: 11454.3271\n",
            "Epoch 12/200\n",
            "34/34 [==============================] - 0s 4ms/step - loss: 10948.4346 - mae: 10948.4346\n",
            "Epoch 13/200\n",
            "34/34 [==============================] - 0s 4ms/step - loss: 10447.7393 - mae: 10447.7393\n",
            "Epoch 14/200\n",
            "34/34 [==============================] - 0s 4ms/step - loss: 9951.2959 - mae: 9951.2959\n",
            "Epoch 15/200\n",
            "34/34 [==============================] - 0s 5ms/step - loss: 9484.5127 - mae: 9484.5127\n",
            "Epoch 16/200\n",
            "34/34 [==============================] - 0s 5ms/step - loss: 9075.5098 - mae: 9075.5098\n",
            "Epoch 17/200\n",
            "34/34 [==============================] - 0s 5ms/step - loss: 8731.7705 - mae: 8731.7705\n",
            "Epoch 18/200\n",
            "34/34 [==============================] - 0s 6ms/step - loss: 8451.6631 - mae: 8451.6631\n",
            "Epoch 19/200\n",
            "34/34 [==============================] - 0s 6ms/step - loss: 8242.8975 - mae: 8242.8975\n",
            "Epoch 20/200\n",
            "34/34 [==============================] - 0s 4ms/step - loss: 8089.6792 - mae: 8089.6792\n",
            "Epoch 21/200\n",
            "34/34 [==============================] - 0s 3ms/step - loss: 7988.8721 - mae: 7988.8721\n",
            "Epoch 22/200\n",
            "34/34 [==============================] - 0s 2ms/step - loss: 7915.8652 - mae: 7915.8652\n",
            "Epoch 23/200\n",
            "34/34 [==============================] - 0s 3ms/step - loss: 7855.7617 - mae: 7855.7617\n",
            "Epoch 24/200\n",
            "34/34 [==============================] - 0s 2ms/step - loss: 7808.9888 - mae: 7808.9888\n",
            "Epoch 25/200\n",
            "34/34 [==============================] - 0s 2ms/step - loss: 7763.8364 - mae: 7763.8364\n",
            "Epoch 26/200\n",
            "34/34 [==============================] - 0s 2ms/step - loss: 7720.0142 - mae: 7720.0142\n",
            "Epoch 27/200\n",
            "34/34 [==============================] - 0s 2ms/step - loss: 7676.7900 - mae: 7676.7900\n",
            "Epoch 28/200\n",
            "34/34 [==============================] - 0s 2ms/step - loss: 7634.7603 - mae: 7634.7603\n",
            "Epoch 29/200\n",
            "34/34 [==============================] - 0s 3ms/step - loss: 7592.9189 - mae: 7592.9189\n",
            "Epoch 30/200\n",
            "34/34 [==============================] - 0s 2ms/step - loss: 7549.8647 - mae: 7549.8647\n",
            "Epoch 31/200\n",
            "34/34 [==============================] - 0s 2ms/step - loss: 7506.9121 - mae: 7506.9121\n",
            "Epoch 32/200\n",
            "34/34 [==============================] - 0s 2ms/step - loss: 7465.1782 - mae: 7465.1782\n",
            "Epoch 33/200\n",
            "34/34 [==============================] - 0s 3ms/step - loss: 7418.5435 - mae: 7418.5435\n",
            "Epoch 34/200\n",
            "34/34 [==============================] - 0s 2ms/step - loss: 7371.5923 - mae: 7371.5923\n",
            "Epoch 35/200\n",
            "34/34 [==============================] - 0s 2ms/step - loss: 7323.9780 - mae: 7323.9780\n",
            "Epoch 36/200\n",
            "34/34 [==============================] - 0s 3ms/step - loss: 7276.2119 - mae: 7276.2119\n",
            "Epoch 37/200\n",
            "34/34 [==============================] - 0s 3ms/step - loss: 7225.4229 - mae: 7225.4229\n",
            "Epoch 38/200\n",
            "34/34 [==============================] - 0s 2ms/step - loss: 7175.3394 - mae: 7175.3394\n",
            "Epoch 39/200\n",
            "34/34 [==============================] - 0s 3ms/step - loss: 7122.3315 - mae: 7122.3315\n",
            "Epoch 40/200\n",
            "34/34 [==============================] - 0s 2ms/step - loss: 7066.9795 - mae: 7066.9795\n",
            "Epoch 41/200\n",
            "34/34 [==============================] - 0s 2ms/step - loss: 7012.6753 - mae: 7012.6753\n",
            "Epoch 42/200\n",
            "34/34 [==============================] - 0s 2ms/step - loss: 6951.8530 - mae: 6951.8530\n",
            "Epoch 43/200\n",
            "34/34 [==============================] - 0s 3ms/step - loss: 6893.6621 - mae: 6893.6621\n",
            "Epoch 44/200\n",
            "34/34 [==============================] - 0s 2ms/step - loss: 6830.3789 - mae: 6830.3789\n",
            "Epoch 45/200\n",
            "34/34 [==============================] - 0s 2ms/step - loss: 6764.5215 - mae: 6764.5215\n",
            "Epoch 46/200\n",
            "34/34 [==============================] - 0s 2ms/step - loss: 6697.4834 - mae: 6697.4834\n",
            "Epoch 47/200\n",
            "34/34 [==============================] - 0s 2ms/step - loss: 6626.9258 - mae: 6626.9258\n",
            "Epoch 48/200\n",
            "34/34 [==============================] - 0s 2ms/step - loss: 6552.6655 - mae: 6552.6655\n",
            "Epoch 49/200\n",
            "34/34 [==============================] - 0s 3ms/step - loss: 6475.4844 - mae: 6475.4844\n",
            "Epoch 50/200\n",
            "34/34 [==============================] - 0s 3ms/step - loss: 6395.1255 - mae: 6395.1255\n",
            "Epoch 51/200\n",
            "34/34 [==============================] - 0s 2ms/step - loss: 6310.1396 - mae: 6310.1396\n",
            "Epoch 52/200\n",
            "34/34 [==============================] - 0s 2ms/step - loss: 6219.4424 - mae: 6219.4424\n",
            "Epoch 53/200\n",
            "34/34 [==============================] - 0s 2ms/step - loss: 6126.4360 - mae: 6126.4360\n",
            "Epoch 54/200\n",
            "34/34 [==============================] - 0s 2ms/step - loss: 6027.7529 - mae: 6027.7529\n",
            "Epoch 55/200\n",
            "34/34 [==============================] - 0s 2ms/step - loss: 5926.6997 - mae: 5926.6997\n",
            "Epoch 56/200\n",
            "34/34 [==============================] - 0s 3ms/step - loss: 5817.1621 - mae: 5817.1621\n",
            "Epoch 57/200\n",
            "34/34 [==============================] - 0s 2ms/step - loss: 5703.7959 - mae: 5703.7959\n",
            "Epoch 58/200\n",
            "34/34 [==============================] - 0s 3ms/step - loss: 5587.8232 - mae: 5587.8232\n",
            "Epoch 59/200\n",
            "34/34 [==============================] - 0s 2ms/step - loss: 5473.2598 - mae: 5473.2598\n",
            "Epoch 60/200\n",
            "34/34 [==============================] - 0s 3ms/step - loss: 5354.6577 - mae: 5354.6577\n",
            "Epoch 61/200\n",
            "34/34 [==============================] - 0s 3ms/step - loss: 5227.5361 - mae: 5227.5361\n",
            "Epoch 62/200\n",
            "34/34 [==============================] - 0s 3ms/step - loss: 5102.7100 - mae: 5102.7100\n",
            "Epoch 63/200\n",
            "34/34 [==============================] - 0s 2ms/step - loss: 4971.7773 - mae: 4971.7773\n",
            "Epoch 64/200\n",
            "34/34 [==============================] - 0s 2ms/step - loss: 4841.8423 - mae: 4841.8423\n",
            "Epoch 65/200\n",
            "34/34 [==============================] - 0s 2ms/step - loss: 4711.8911 - mae: 4711.8911\n",
            "Epoch 66/200\n",
            "34/34 [==============================] - 0s 2ms/step - loss: 4583.9868 - mae: 4583.9868\n",
            "Epoch 67/200\n",
            "34/34 [==============================] - 0s 2ms/step - loss: 4464.5254 - mae: 4464.5254\n",
            "Epoch 68/200\n",
            "34/34 [==============================] - 0s 2ms/step - loss: 4356.1899 - mae: 4356.1899\n",
            "Epoch 69/200\n",
            "34/34 [==============================] - 0s 3ms/step - loss: 4249.1606 - mae: 4249.1606\n",
            "Epoch 70/200\n",
            "34/34 [==============================] - 0s 2ms/step - loss: 4151.6143 - mae: 4151.6143\n",
            "Epoch 71/200\n",
            "34/34 [==============================] - 0s 2ms/step - loss: 4061.8206 - mae: 4061.8206\n",
            "Epoch 72/200\n",
            "34/34 [==============================] - 0s 3ms/step - loss: 3980.0188 - mae: 3980.0188\n",
            "Epoch 73/200\n",
            "34/34 [==============================] - 0s 2ms/step - loss: 3909.3306 - mae: 3909.3306\n",
            "Epoch 74/200\n",
            "34/34 [==============================] - 0s 2ms/step - loss: 3849.2476 - mae: 3849.2476\n",
            "Epoch 75/200\n",
            "34/34 [==============================] - 0s 2ms/step - loss: 3801.6116 - mae: 3801.6116\n",
            "Epoch 76/200\n",
            "34/34 [==============================] - 0s 2ms/step - loss: 3768.2588 - mae: 3768.2588\n",
            "Epoch 77/200\n",
            "34/34 [==============================] - 0s 2ms/step - loss: 3737.7373 - mae: 3737.7373\n",
            "Epoch 78/200\n",
            "34/34 [==============================] - 0s 2ms/step - loss: 3714.9033 - mae: 3714.9033\n",
            "Epoch 79/200\n",
            "34/34 [==============================] - 0s 2ms/step - loss: 3700.5479 - mae: 3700.5479\n",
            "Epoch 80/200\n",
            "34/34 [==============================] - 0s 2ms/step - loss: 3688.8916 - mae: 3688.8916\n",
            "Epoch 81/200\n",
            "34/34 [==============================] - 0s 3ms/step - loss: 3682.8386 - mae: 3682.8386\n",
            "Epoch 82/200\n",
            "34/34 [==============================] - 0s 3ms/step - loss: 3675.4749 - mae: 3675.4749\n",
            "Epoch 83/200\n",
            "34/34 [==============================] - 0s 3ms/step - loss: 3671.9810 - mae: 3671.9810\n",
            "Epoch 84/200\n",
            "34/34 [==============================] - 0s 2ms/step - loss: 3668.2278 - mae: 3668.2278\n",
            "Epoch 85/200\n",
            "34/34 [==============================] - 0s 3ms/step - loss: 3667.0535 - mae: 3667.0535\n",
            "Epoch 86/200\n",
            "34/34 [==============================] - 0s 3ms/step - loss: 3663.3691 - mae: 3663.3691\n",
            "Epoch 87/200\n",
            "34/34 [==============================] - 0s 3ms/step - loss: 3662.3257 - mae: 3662.3257\n",
            "Epoch 88/200\n",
            "34/34 [==============================] - 0s 3ms/step - loss: 3658.2329 - mae: 3658.2329\n",
            "Epoch 89/200\n",
            "34/34 [==============================] - 0s 2ms/step - loss: 3656.2402 - mae: 3656.2402\n",
            "Epoch 90/200\n",
            "34/34 [==============================] - 0s 2ms/step - loss: 3656.0220 - mae: 3656.0220\n",
            "Epoch 91/200\n",
            "34/34 [==============================] - 0s 3ms/step - loss: 3654.9204 - mae: 3654.9204\n",
            "Epoch 92/200\n",
            "34/34 [==============================] - 0s 3ms/step - loss: 3651.1736 - mae: 3651.1736\n",
            "Epoch 93/200\n",
            "34/34 [==============================] - 0s 2ms/step - loss: 3649.1907 - mae: 3649.1907\n",
            "Epoch 94/200\n",
            "34/34 [==============================] - 0s 3ms/step - loss: 3648.0132 - mae: 3648.0132\n",
            "Epoch 95/200\n",
            "34/34 [==============================] - 0s 2ms/step - loss: 3647.4714 - mae: 3647.4714\n",
            "Epoch 96/200\n",
            "34/34 [==============================] - 0s 2ms/step - loss: 3646.5605 - mae: 3646.5605\n",
            "Epoch 97/200\n",
            "34/34 [==============================] - 0s 2ms/step - loss: 3644.8423 - mae: 3644.8423\n",
            "Epoch 98/200\n",
            "34/34 [==============================] - 0s 2ms/step - loss: 3641.9626 - mae: 3641.9626\n",
            "Epoch 99/200\n",
            "34/34 [==============================] - 0s 3ms/step - loss: 3641.3452 - mae: 3641.3452\n",
            "Epoch 100/200\n",
            "34/34 [==============================] - 0s 2ms/step - loss: 3638.8132 - mae: 3638.8132\n",
            "Epoch 101/200\n",
            "34/34 [==============================] - 0s 2ms/step - loss: 3635.6775 - mae: 3635.6775\n",
            "Epoch 102/200\n",
            "34/34 [==============================] - 0s 2ms/step - loss: 3633.4822 - mae: 3633.4822\n",
            "Epoch 103/200\n",
            "34/34 [==============================] - 0s 2ms/step - loss: 3632.8289 - mae: 3632.8289\n",
            "Epoch 104/200\n",
            "34/34 [==============================] - 0s 3ms/step - loss: 3633.9949 - mae: 3633.9949\n",
            "Epoch 105/200\n",
            "34/34 [==============================] - 0s 3ms/step - loss: 3631.1040 - mae: 3631.1040\n",
            "Epoch 106/200\n",
            "34/34 [==============================] - 0s 2ms/step - loss: 3628.4163 - mae: 3628.4163\n",
            "Epoch 107/200\n",
            "34/34 [==============================] - 0s 2ms/step - loss: 3625.2993 - mae: 3625.2993\n",
            "Epoch 108/200\n",
            "34/34 [==============================] - 0s 2ms/step - loss: 3623.1875 - mae: 3623.1875\n",
            "Epoch 109/200\n",
            "34/34 [==============================] - 0s 3ms/step - loss: 3621.5916 - mae: 3621.5916\n",
            "Epoch 110/200\n",
            "34/34 [==============================] - 0s 2ms/step - loss: 3619.7620 - mae: 3619.7620\n",
            "Epoch 111/200\n",
            "34/34 [==============================] - 0s 2ms/step - loss: 3617.8657 - mae: 3617.8657\n",
            "Epoch 112/200\n",
            "34/34 [==============================] - 0s 2ms/step - loss: 3615.6880 - mae: 3615.6880\n",
            "Epoch 113/200\n",
            "34/34 [==============================] - 0s 3ms/step - loss: 3613.8823 - mae: 3613.8823\n",
            "Epoch 114/200\n",
            "34/34 [==============================] - 0s 2ms/step - loss: 3613.3513 - mae: 3613.3513\n",
            "Epoch 115/200\n",
            "34/34 [==============================] - 0s 2ms/step - loss: 3610.2581 - mae: 3610.2581\n",
            "Epoch 116/200\n",
            "34/34 [==============================] - 0s 3ms/step - loss: 3608.2129 - mae: 3608.2129\n",
            "Epoch 117/200\n",
            "34/34 [==============================] - 0s 3ms/step - loss: 3607.2612 - mae: 3607.2612\n",
            "Epoch 118/200\n",
            "34/34 [==============================] - 0s 2ms/step - loss: 3604.0723 - mae: 3604.0723\n",
            "Epoch 119/200\n",
            "34/34 [==============================] - 0s 2ms/step - loss: 3602.3232 - mae: 3602.3232\n",
            "Epoch 120/200\n",
            "34/34 [==============================] - 0s 2ms/step - loss: 3600.6479 - mae: 3600.6479\n",
            "Epoch 121/200\n",
            "34/34 [==============================] - 0s 3ms/step - loss: 3598.4912 - mae: 3598.4912\n",
            "Epoch 122/200\n",
            "34/34 [==============================] - 0s 2ms/step - loss: 3596.7590 - mae: 3596.7590\n",
            "Epoch 123/200\n",
            "34/34 [==============================] - 0s 2ms/step - loss: 3593.5635 - mae: 3593.5635\n",
            "Epoch 124/200\n",
            "34/34 [==============================] - 0s 2ms/step - loss: 3592.4204 - mae: 3592.4204\n",
            "Epoch 125/200\n",
            "34/34 [==============================] - 0s 2ms/step - loss: 3590.8350 - mae: 3590.8350\n",
            "Epoch 126/200\n",
            "34/34 [==============================] - 0s 2ms/step - loss: 3588.1958 - mae: 3588.1958\n",
            "Epoch 127/200\n",
            "34/34 [==============================] - 0s 3ms/step - loss: 3585.4810 - mae: 3585.4810\n",
            "Epoch 128/200\n",
            "34/34 [==============================] - 0s 2ms/step - loss: 3585.6675 - mae: 3585.6675\n",
            "Epoch 129/200\n",
            "34/34 [==============================] - 0s 2ms/step - loss: 3583.2776 - mae: 3583.2776\n",
            "Epoch 130/200\n",
            "34/34 [==============================] - 0s 3ms/step - loss: 3579.3013 - mae: 3579.3013\n",
            "Epoch 131/200\n",
            "34/34 [==============================] - 0s 3ms/step - loss: 3579.1067 - mae: 3579.1067\n",
            "Epoch 132/200\n",
            "34/34 [==============================] - 0s 2ms/step - loss: 3575.3071 - mae: 3575.3071\n",
            "Epoch 133/200\n",
            "34/34 [==============================] - 0s 2ms/step - loss: 3574.3303 - mae: 3574.3303\n",
            "Epoch 134/200\n",
            "34/34 [==============================] - 0s 2ms/step - loss: 3570.4749 - mae: 3570.4749\n",
            "Epoch 135/200\n",
            "34/34 [==============================] - 0s 2ms/step - loss: 3568.7659 - mae: 3568.7659\n",
            "Epoch 136/200\n",
            "34/34 [==============================] - 0s 2ms/step - loss: 3566.5491 - mae: 3566.5491\n",
            "Epoch 137/200\n",
            "34/34 [==============================] - 0s 3ms/step - loss: 3566.3076 - mae: 3566.3076\n",
            "Epoch 138/200\n",
            "34/34 [==============================] - 0s 3ms/step - loss: 3563.9678 - mae: 3563.9678\n",
            "Epoch 139/200\n",
            "34/34 [==============================] - 0s 2ms/step - loss: 3562.8745 - mae: 3562.8745\n",
            "Epoch 140/200\n",
            "34/34 [==============================] - 0s 2ms/step - loss: 3560.9729 - mae: 3560.9729\n",
            "Epoch 141/200\n",
            "34/34 [==============================] - 0s 2ms/step - loss: 3559.0444 - mae: 3559.0444\n",
            "Epoch 142/200\n",
            "34/34 [==============================] - 0s 2ms/step - loss: 3556.2583 - mae: 3556.2583\n",
            "Epoch 143/200\n",
            "34/34 [==============================] - 0s 2ms/step - loss: 3554.2717 - mae: 3554.2717\n",
            "Epoch 144/200\n",
            "34/34 [==============================] - 0s 2ms/step - loss: 3552.1868 - mae: 3552.1868\n",
            "Epoch 145/200\n",
            "34/34 [==============================] - 0s 2ms/step - loss: 3550.2185 - mae: 3550.2185\n",
            "Epoch 146/200\n",
            "34/34 [==============================] - 0s 2ms/step - loss: 3549.6558 - mae: 3549.6558\n",
            "Epoch 147/200\n",
            "34/34 [==============================] - 0s 2ms/step - loss: 3549.8940 - mae: 3549.8940\n",
            "Epoch 148/200\n",
            "34/34 [==============================] - 0s 2ms/step - loss: 3546.3833 - mae: 3546.3833\n",
            "Epoch 149/200\n",
            "34/34 [==============================] - 0s 3ms/step - loss: 3544.0806 - mae: 3544.0806\n",
            "Epoch 150/200\n",
            "34/34 [==============================] - 0s 2ms/step - loss: 3542.5327 - mae: 3542.5327\n",
            "Epoch 151/200\n",
            "34/34 [==============================] - 0s 2ms/step - loss: 3540.9553 - mae: 3540.9553\n",
            "Epoch 152/200\n",
            "34/34 [==============================] - 0s 2ms/step - loss: 3539.7463 - mae: 3539.7463\n",
            "Epoch 153/200\n",
            "34/34 [==============================] - 0s 2ms/step - loss: 3539.4153 - mae: 3539.4153\n",
            "Epoch 154/200\n",
            "34/34 [==============================] - 0s 3ms/step - loss: 3537.8232 - mae: 3537.8232\n",
            "Epoch 155/200\n",
            "34/34 [==============================] - 0s 2ms/step - loss: 3537.4600 - mae: 3537.4600\n",
            "Epoch 156/200\n",
            "34/34 [==============================] - 0s 2ms/step - loss: 3535.6775 - mae: 3535.6775\n",
            "Epoch 157/200\n",
            "34/34 [==============================] - 0s 2ms/step - loss: 3535.6987 - mae: 3535.6987\n",
            "Epoch 158/200\n",
            "34/34 [==============================] - 0s 3ms/step - loss: 3531.7419 - mae: 3531.7419\n",
            "Epoch 159/200\n",
            "34/34 [==============================] - 0s 2ms/step - loss: 3530.0447 - mae: 3530.0447\n",
            "Epoch 160/200\n",
            "34/34 [==============================] - 0s 3ms/step - loss: 3528.8547 - mae: 3528.8547\n",
            "Epoch 161/200\n",
            "34/34 [==============================] - 0s 2ms/step - loss: 3526.7415 - mae: 3526.7415\n",
            "Epoch 162/200\n",
            "34/34 [==============================] - 0s 3ms/step - loss: 3525.8572 - mae: 3525.8572\n",
            "Epoch 163/200\n",
            "34/34 [==============================] - 0s 2ms/step - loss: 3524.7017 - mae: 3524.7017\n",
            "Epoch 164/200\n",
            "34/34 [==============================] - 0s 2ms/step - loss: 3523.5310 - mae: 3523.5310\n",
            "Epoch 165/200\n",
            "34/34 [==============================] - 0s 3ms/step - loss: 3523.4265 - mae: 3523.4265\n",
            "Epoch 166/200\n",
            "34/34 [==============================] - 0s 3ms/step - loss: 3520.6870 - mae: 3520.6870\n",
            "Epoch 167/200\n",
            "34/34 [==============================] - 0s 2ms/step - loss: 3519.9460 - mae: 3519.9460\n",
            "Epoch 168/200\n",
            "34/34 [==============================] - 0s 2ms/step - loss: 3517.7505 - mae: 3517.7505\n",
            "Epoch 169/200\n",
            "34/34 [==============================] - 0s 3ms/step - loss: 3516.3899 - mae: 3516.3899\n",
            "Epoch 170/200\n",
            "34/34 [==============================] - 0s 3ms/step - loss: 3514.2141 - mae: 3514.2141\n",
            "Epoch 171/200\n",
            "34/34 [==============================] - 0s 2ms/step - loss: 3515.6965 - mae: 3515.6965\n",
            "Epoch 172/200\n",
            "34/34 [==============================] - 0s 2ms/step - loss: 3516.1155 - mae: 3516.1155\n",
            "Epoch 173/200\n",
            "34/34 [==============================] - 0s 2ms/step - loss: 3514.9819 - mae: 3514.9819\n",
            "Epoch 174/200\n",
            "34/34 [==============================] - 0s 2ms/step - loss: 3508.8469 - mae: 3508.8469\n",
            "Epoch 175/200\n",
            "34/34 [==============================] - 0s 2ms/step - loss: 3508.2678 - mae: 3508.2678\n",
            "Epoch 176/200\n",
            "34/34 [==============================] - 0s 2ms/step - loss: 3507.3679 - mae: 3507.3679\n",
            "Epoch 177/200\n",
            "34/34 [==============================] - 0s 3ms/step - loss: 3506.5107 - mae: 3506.5107\n",
            "Epoch 178/200\n",
            "34/34 [==============================] - 0s 2ms/step - loss: 3504.6443 - mae: 3504.6443\n",
            "Epoch 179/200\n",
            "34/34 [==============================] - 0s 2ms/step - loss: 3505.2903 - mae: 3505.2903\n",
            "Epoch 180/200\n",
            "34/34 [==============================] - 0s 2ms/step - loss: 3503.4011 - mae: 3503.4011\n",
            "Epoch 181/200\n",
            "34/34 [==============================] - 0s 3ms/step - loss: 3500.2593 - mae: 3500.2593\n",
            "Epoch 182/200\n",
            "34/34 [==============================] - 0s 2ms/step - loss: 3499.4033 - mae: 3499.4033\n",
            "Epoch 183/200\n",
            "34/34 [==============================] - 0s 2ms/step - loss: 3497.2869 - mae: 3497.2869\n",
            "Epoch 184/200\n",
            "34/34 [==============================] - 0s 2ms/step - loss: 3498.7349 - mae: 3498.7349\n",
            "Epoch 185/200\n",
            "34/34 [==============================] - 0s 3ms/step - loss: 3495.3752 - mae: 3495.3752\n",
            "Epoch 186/200\n",
            "34/34 [==============================] - 0s 2ms/step - loss: 3493.7803 - mae: 3493.7803\n",
            "Epoch 187/200\n",
            "34/34 [==============================] - 0s 3ms/step - loss: 3493.1943 - mae: 3493.1943\n",
            "Epoch 188/200\n",
            "34/34 [==============================] - 0s 2ms/step - loss: 3489.7832 - mae: 3489.7832\n",
            "Epoch 189/200\n",
            "34/34 [==============================] - 0s 3ms/step - loss: 3491.2646 - mae: 3491.2646\n",
            "Epoch 190/200\n",
            "34/34 [==============================] - 0s 2ms/step - loss: 3487.3064 - mae: 3487.3064\n",
            "Epoch 191/200\n",
            "34/34 [==============================] - 0s 2ms/step - loss: 3486.9143 - mae: 3486.9143\n",
            "Epoch 192/200\n",
            "34/34 [==============================] - 0s 3ms/step - loss: 3484.5251 - mae: 3484.5251\n",
            "Epoch 193/200\n",
            "34/34 [==============================] - 0s 2ms/step - loss: 3485.6218 - mae: 3485.6218\n",
            "Epoch 194/200\n",
            "34/34 [==============================] - 0s 3ms/step - loss: 3482.6008 - mae: 3482.6008\n",
            "Epoch 195/200\n",
            "34/34 [==============================] - 0s 3ms/step - loss: 3480.6033 - mae: 3480.6033\n",
            "Epoch 196/200\n",
            "34/34 [==============================] - 0s 2ms/step - loss: 3479.3091 - mae: 3479.3091\n",
            "Epoch 197/200\n",
            "34/34 [==============================] - 0s 2ms/step - loss: 3480.9785 - mae: 3480.9785\n",
            "Epoch 198/200\n",
            "34/34 [==============================] - 0s 2ms/step - loss: 3476.1379 - mae: 3476.1379\n",
            "Epoch 199/200\n",
            "34/34 [==============================] - 0s 2ms/step - loss: 3478.4033 - mae: 3478.4033\n",
            "Epoch 200/200\n",
            "34/34 [==============================] - 0s 3ms/step - loss: 3476.3994 - mae: 3476.3994\n"
          ]
        },
        {
          "output_type": "execute_result",
          "data": {
            "text/plain": [
              "<keras.callbacks.History at 0x7fdba81d7910>"
            ]
          },
          "metadata": {},
          "execution_count": 20
        }
      ]
    },
    {
      "cell_type": "code",
      "source": [
        "model.evaluate(X_test_normal,y_test)"
      ],
      "metadata": {
        "colab": {
          "base_uri": "https://localhost:8080/"
        },
        "id": "HZYv28iAR_Bd",
        "outputId": "831b9d1d-a740-4f47-abf8-b9185b7ba7fc"
      },
      "execution_count": null,
      "outputs": [
        {
          "output_type": "stream",
          "name": "stdout",
          "text": [
            "9/9 [==============================] - 0s 2ms/step - loss: 3164.3254 - mae: 3164.3254\n"
          ]
        },
        {
          "output_type": "execute_result",
          "data": {
            "text/plain": [
              "[3164.325439453125, 3164.325439453125]"
            ]
          },
          "metadata": {},
          "execution_count": 21
        }
      ]
    },
    {
      "cell_type": "code",
      "source": [],
      "metadata": {
        "id": "OGHUXrq2SxWZ"
      },
      "execution_count": null,
      "outputs": []
    }
  ]
}